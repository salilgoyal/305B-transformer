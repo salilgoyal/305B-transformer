{
  "cells": [
    {
      "cell_type": "markdown",
      "metadata": {
        "id": "ISL7lGbExVbF"
      },
      "source": [
        "# HW4: Large Language Models\n",
        "\n",
        "The first half of this assignment (Parts 0 and 1) will review some key ingredients of sequence modeling. In the process, we will build a baseline transformer model for next token prediction in code.\n",
        "**The deliverable will be completing the questions posed in part 0 and part 1.**\n",
        "\n",
        "The second half of the assignment (Part 2) will be an open-ended mini-project where you have the freedom to delve more deeply into language modelling (where the language in question is python code). Further instructions are in _Part 2: Mini-project_. But, in general, you should feel free to try other architectures (HMMs, RNNs, transformers, state space layers, diffusion models etc.) or to invent new architectures. The goal will be to find some area of possible improvement (we interpret \"improvement\" quite loosely, but it is up to you to state precisely in what sense your proposed innovation might constitute an improvement and to show convincing evidence that your innovation does or does not constitue an improvement according to your definition); to formulate and state a precise hypothesis; and to falsify or support the hypothesis with rigorous empirical analyses.\n",
        "**The deliverable will be a report of no more than 4 pages (references not included in the page limit).**\n",
        "\n",
        "**For this final assignment you have the option to work in pairs.**\n",
        "\n",
        "\n",
        "> **<u>This Assignment</u>**\n",
        ">\n",
        ">**Model:** You will begin by implementing a baseline using attention and transformers. But, for the mini-project, you will be free to use any model (HMMs, RNNs, transformers, state space layers, diffusion models etc.) that you would like!\n",
        ">\n",
        ">**Algorithm:** mini-batched stochatic gradient descent / whatever you'd like! We will be using deep learning models in at least the first half of the assignment, so be sure to **use the GPU on colab** (make sure you switch to GPU in the \"Runtime\" tab above).\n",
        ">\n",
        ">**Data**: A large corpus of python code from [the Stack](https://huggingface.co/datasets/bigcode/the-stack-dedup). We have taken a dataset of around 4 million tokens from the stack and stored in a csv file for you for easy access."
      ]
    },
    {
      "cell_type": "markdown",
      "metadata": {
        "id": "qZ-AwbZ4ySCJ"
      },
      "source": [
        "## Setup"
      ]
    },
    {
      "cell_type": "code",
      "execution_count": 1,
      "metadata": {
        "id": "Xd4fRbWr15Yp"
      },
      "outputs": [],
      "source": [
        "# can take around 30s\n",
        "%%capture\n",
        "! pip install datasets #huggingface datasets library\n",
        "! pip install --upgrade pyarrow"
      ]
    },
    {
      "cell_type": "code",
      "execution_count": 2,
      "metadata": {
        "id": "_5IXGh6OOBZV"
      },
      "outputs": [],
      "source": [
        "# torch imports\n",
        "import torch\n",
        "import torch.nn as nn\n",
        "import torch.nn.functional as F\n",
        "import torch.optim as optim\n",
        "\n",
        "# hugging face imports\n",
        "from datasets import load_dataset\n",
        "from transformers import AutoTokenizer\n",
        "\n",
        "import matplotlib.pyplot as plt\n",
        "from tqdm import tqdm\n",
        "\n",
        "import pandas as pd\n",
        "import numpy as np\n",
        "import sys\n",
        "import warnings\n",
        "\n",
        "torch.manual_seed(305)\n",
        "\n",
        "device = 'cuda' if torch.cuda.is_available() else 'cpu'\n",
        "# assert device=='cuda', \"you need to change runtime type to GPU\""
      ]
    },
    {
      "cell_type": "code",
      "execution_count": 3,
      "metadata": {
        "id": "A_Z5Jh74DH_E"
      },
      "outputs": [],
      "source": [
        "# hyperparams and helper functions\n",
        "SMALL_ITERS = 1000\n",
        "LARGE_ITERS = 2000\n",
        "context_window_size = 256\n",
        "chunk_size = 512 # BERT can only take max input size 512 characters\n",
        "\n",
        "def chunk_string(string, size):\n",
        "    \"\"\"\n",
        "    Splits a string into chunks of a specified size.\n",
        "\n",
        "    :param string: The string to be chunked.\n",
        "    :param size: The desired chunk size.\n",
        "    :return: A list of string chunks.\n",
        "    \"\"\"\n",
        "    return [string[i:i+size] for i in range(0, len(string), size)]"
      ]
    },
    {
      "cell_type": "markdown",
      "metadata": {
        "id": "lF6dgHnhOprg"
      },
      "source": [
        "## Part 0: Preprocessing\n",
        "\n",
        "As in the previous problem sets, a certain amount of preprocessing for textual data is required."
      ]
    },
    {
      "cell_type": "markdown",
      "metadata": {
        "id": "WF0_bhXNOxeS"
      },
      "source": [
        "### 0.1: Loading the dataset\n",
        "\n",
        "The first step is to actually download the dataset. We will be using a dataset on [huggingface](https://huggingface.co/). You can think of hugging face as the sklearn of deep learning.\n",
        "\n",
        "The dominant mode for preprocessing textual data is to tokenize it, that is, to split the dataset into a finite vocabulary of tokens. Then, we can set up a dictionary where counting numbers map to tokens. Tokens can be characters, or words, or subwords; in fact, the \"best\" way to tokenize text is an active area of research. For our baseline, we will use a tokenizer that microsoft created for code."
      ]
    },
    {
      "cell_type": "code",
      "source": [
        "# mount to drive to save model weights\n",
        "from google.colab import drive\n",
        "drive.mount('/content/drive')"
      ],
      "metadata": {
        "colab": {
          "base_uri": "https://localhost:8080/"
        },
        "id": "3AiCnP9t129C",
        "outputId": "5ba56957-927e-4f31-d63e-a387bd8bffd8"
      },
      "execution_count": 4,
      "outputs": [
        {
          "output_type": "stream",
          "name": "stdout",
          "text": [
            "Mounted at /content/drive\n"
          ]
        }
      ]
    },
    {
      "cell_type": "code",
      "execution_count": 5,
      "metadata": {
        "id": "53dGz7ExDkUv"
      },
      "outputs": [],
      "source": [
        "%%capture\n",
        "tokenizer = AutoTokenizer.from_pretrained('microsoft/CodeBERT-base')"
      ]
    },
    {
      "cell_type": "code",
      "execution_count": 6,
      "metadata": {
        "id": "BAdrvcIbORig"
      },
      "outputs": [],
      "source": [
        "# Load the concatenated data\n",
        "raw_data = pd.read_csv(\"https://raw.githubusercontent.com/slinderman/stats305b/winter2024/assignments/hw4/python_corpus_4M.csv\", header=None)"
      ]
    },
    {
      "cell_type": "code",
      "execution_count": 7,
      "metadata": {
        "id": "LFZ2or4BO2w3",
        "colab": {
          "base_uri": "https://localhost:8080/"
        },
        "outputId": "26ff08b2-4553-467c-fb75-6f761720a20f"
      },
      "outputs": [
        {
          "output_type": "stream",
          "name": "stderr",
          "text": [
            "Token indices sequence length is longer than the specified maximum sequence length for this model (523 > 512). Running this sequence through the model will result in indexing errors\n"
          ]
        },
        {
          "output_type": "stream",
          "name": "stdout",
          "text": [
            "4000596 tokens have been loaded in\n"
          ]
        }
      ],
      "source": [
        "# should take around 3 min to load in around 4M tokens\n",
        "warnings.filterwarnings(\"ignore\")\n",
        "\n",
        "tokens = torch.tensor([], dtype=torch.long)\n",
        "for index, row in raw_data.iterrows():\n",
        "    text = row[0]\n",
        "    chunks = chunk_string(text, chunk_size)\n",
        "    n = len(chunks)\n",
        "    for idx, chunk in enumerate(chunks):\n",
        "        new_tokens = torch.tensor(tokenizer.encode(chunk, add_special_tokens=True))\n",
        "\n",
        "        # logic to avoid incorrectly adding in start and end sequence tokens as an artifact of chunking\n",
        "        if idx == 0:\n",
        "            tokens = torch.cat((tokens, new_tokens[:-1]), dim=0)\n",
        "        elif idx == n-1:\n",
        "            tokens = torch.cat((tokens, new_tokens[1:]), dim=0)\n",
        "        else:\n",
        "            tokens = torch.cat((tokens, new_tokens[1:-1]), dim=0)\n",
        "\n",
        "print(f\"{len(tokens)} tokens have been loaded in\")"
      ]
    },
    {
      "cell_type": "markdown",
      "metadata": {
        "id": "NUnScCoUCRI0"
      },
      "source": [
        "### Question 0.2: Examining the tokenizer"
      ]
    },
    {
      "cell_type": "markdown",
      "metadata": {
        "id": "3rz0XmuXCdGJ"
      },
      "source": [
        "Let's see what the tokens look like! We will use these two prompts during the assignment."
      ]
    },
    {
      "cell_type": "code",
      "execution_count": 8,
      "metadata": {
        "id": "KPbmLgmmChVg"
      },
      "outputs": [],
      "source": [
        "prompt_1_text = \\\n",
        "\"\"\"def newton(eta, N, X, y, gamma, beta=None):\n",
        "  \\\"\"\"\n",
        "  Performs Newton's method on the negative average log likelihood with an\n",
        "  l2 regularization term\n",
        "\n",
        "  beta: torch.Tensor, of shape (teams)\n",
        "  X: torch.Tensor, the covariate matrix, of shape (-1, teams)\n",
        "  y: torch.Tensor, the response vector, of shape (teams)\n",
        "  gamma: float, the scale parameter for the regularization\n",
        "  beta: torch.Tensor, the starting point for gradient descent, if specified\n",
        "  \\\"\"\"\n",
        "\n",
        "  if beta is None:\n",
        "    # Instantiate the beta vector at a random point\n",
        "    beta = torch.randn(X.shape[1])\n",
        "  else:\n",
        "    beta = torch.clone(beta)\n",
        "\n",
        "  loss = []\n",
        "\n",
        "  # Instantiate a list to store the loss throughout the gradient descent\n",
        "  # path\n",
        "  for i in tqdm(range(N)):\"\"\""
      ]
    },
    {
      "cell_type": "code",
      "execution_count": 9,
      "metadata": {
        "id": "gZpeZjvqCnmH"
      },
      "outputs": [],
      "source": [
        "prompt_2_text = \\\n",
        "\"\"\"import torch\n",
        "import torch.nn.functional as F\n",
        "\n",
        "\n",
        "def normalize(x, axis=-1):\n",
        "    \\\"\"\"Performs L2-Norm.\\\"\"\"\n",
        "    num = x\n",
        "    denom = torch.norm(x, 2, axis, keepdim=True).expand_as(x) + 1e-12\n",
        "    return num / denom\n",
        "\n",
        "def euclidean_dist(x, y):\n",
        "    \\\"\"\"Computes Euclidean distance.\\\"\"\"\n",
        "    m, n = x.size(0), y.size(0)\n",
        "    xx = torch.pow(x, 2).sum(1, keepdim=True).expand(m, n)\n",
        "    yy = torch.pow(x, 2).sum(1, keepdim=True).expand(m, m).t()\n",
        "    dist = xx + yy - 2 * torch.matmul(x, y.t())\n",
        "\n",
        "    dist = dist.clamp(min=1e-12).sqrt()\n",
        "\n",
        "    return dist\n",
        "\n",
        "\n",
        "def cosine_dist(x, y):\"\"\""
      ]
    },
    {
      "cell_type": "markdown",
      "metadata": {
        "id": "jFZUT77rCp3q"
      },
      "source": [
        "Here is what the tokenized output for the prompts looks like"
      ]
    },
    {
      "cell_type": "code",
      "execution_count": 10,
      "metadata": {
        "id": "-8rJjbTKCtRa",
        "colab": {
          "base_uri": "https://localhost:8080/",
          "height": 1000
        },
        "outputId": "c674fc87-489c-457c-e596-61faaac5b861"
      },
      "outputs": [
        {
          "output_type": "execute_result",
          "data": {
            "text/plain": [
              "'<s>def newton(eta, N, X, y, gamma, beta=None):\\n  \"\"\"\\n  Performs Newton\\'s method on the negative average log likelihood with an\\n  l2 regularization term\\n\\n  beta: torch.Tensor, of shape (teams)\\n  X: torch.Tensor, the covariate matrix, of shape (-1, teams)\\n  y: torch.Tensor, the response vector, of shape (teams)\\n  gamma: float, the scale parameter for the regularization\\n  beta: torch.Tensor, the starting point for gradient descent, if specified\\n  \"\"\"\\n\\n  if beta is None:\\n    # Instantiate the beta vector at a random point\\n    beta = torch.randn(X.shape[1])\\n  else:\\n    beta = torch.clone(beta)\\n\\n  loss = []\\n\\n  # Instantiate a list to store the loss throughout the gradient descent\\n  # path\\n  for i in tqdm(range(N)):</s>'"
            ],
            "application/vnd.google.colaboratory.intrinsic+json": {
              "type": "string"
            }
          },
          "metadata": {},
          "execution_count": 10
        }
      ],
      "source": [
        "tokenizer.decode(tokenizer.encode(prompt_1_text))"
      ]
    },
    {
      "cell_type": "code",
      "execution_count": 11,
      "metadata": {
        "id": "a4zd13L0CvQ9",
        "colab": {
          "base_uri": "https://localhost:8080/",
          "height": 1000
        },
        "outputId": "a047667d-dea1-4eba-cdd0-acd89b4f0ef2"
      },
      "outputs": [
        {
          "output_type": "execute_result",
          "data": {
            "text/plain": [
              "'<s>import torch\\nimport torch.nn.functional as F\\n\\n\\ndef normalize(x, axis=-1):\\n    \"\"\"Performs L2-Norm.\"\"\"\\n    num = x\\n    denom = torch.norm(x, 2, axis, keepdim=True).expand_as(x) + 1e-12\\n    return num / denom\\n\\ndef euclidean_dist(x, y):\\n    \"\"\"Computes Euclidean distance.\"\"\"\\n    m, n = x.size(0), y.size(0)\\n    xx = torch.pow(x, 2).sum(1, keepdim=True).expand(m, n)\\n    yy = torch.pow(x, 2).sum(1, keepdim=True).expand(m, m).t()\\n    dist = xx + yy - 2 * torch.matmul(x, y.t())\\n\\n    dist = dist.clamp(min=1e-12).sqrt()\\n\\n    return dist\\n\\n\\ndef cosine_dist(x, y):</s>'"
            ],
            "application/vnd.google.colaboratory.intrinsic+json": {
              "type": "string"
            }
          },
          "metadata": {},
          "execution_count": 11
        }
      ],
      "source": [
        "tokenizer.decode(tokenizer.encode(prompt_2_text))"
      ]
    },
    {
      "cell_type": "markdown",
      "metadata": {
        "id": "bbOwt9U_CyNi"
      },
      "source": [
        "And here are what the first and last 10 tokens for prompt 1 look like:"
      ]
    },
    {
      "cell_type": "code",
      "execution_count": 12,
      "metadata": {
        "id": "nqBUhCiUC6Tk",
        "colab": {
          "base_uri": "https://localhost:8080/"
        },
        "outputId": "4843218a-fb4b-4d21-c0d8-6cd4996ceb37"
      },
      "outputs": [
        {
          "output_type": "stream",
          "name": "stdout",
          "text": [
            "0 : <s>\n",
            "9232 : def\n",
            "92 :  new\n",
            "1054 : ton\n",
            "1640 : (\n",
            "8152 : eta\n",
            "6 : ,\n",
            "234 :  N\n",
            "6 : ,\n",
            "1577 :  X\n"
          ]
        }
      ],
      "source": [
        "for tok in tokenizer.encode(prompt_1_text, add_special_tokens=True)[:10]:\n",
        "    print(f\"{tok} : {tokenizer.decode([tok])}\")"
      ]
    },
    {
      "cell_type": "code",
      "execution_count": 13,
      "metadata": {
        "id": "UHpBvaxzC7hd",
        "colab": {
          "base_uri": "https://localhost:8080/"
        },
        "outputId": "d86e95af-c49d-4547-d9e4-5048520de0f8"
      },
      "outputs": [
        {
          "output_type": "stream",
          "name": "stdout",
          "text": [
            "326 :  t\n",
            "1343 : q\n",
            "43604 : dm\n",
            "1640 : (\n",
            "9435 : range\n",
            "1640 : (\n",
            "487 : N\n",
            "43 : )\n",
            "3256 : ):\n",
            "2 : </s>\n"
          ]
        }
      ],
      "source": [
        "for tok in tokenizer.encode(prompt_1_text)[-10:]:\n",
        "    print(f\"{tok} : {tokenizer.decode([tok])}\")"
      ]
    },
    {
      "cell_type": "markdown",
      "metadata": {
        "id": "MrBJPZYYC9za"
      },
      "source": [
        "**Question 0.2**: What is the meanining of the `<s>` and the `<\\s>` tokens? Why is it useful to have them?"
      ]
    },
    {
      "cell_type": "markdown",
      "source": [
        "They signal the start and end of a sequence of code to the model. This helps the model understand the context better--for example, if the model sees 5 tokens with a `<s>` token at the start, it would know that the sequence has just started and hence the predictions might be different than if it hadn't seen the start token (maybe code tends to have certain features like import statements or parameter definitions near start tokens).\n",
        "\n",
        "Related to that, the start and end tokens help the model with generation--for example, the end token will signal to the model to stop producing code, which would prevent errors like incomplete code or infinite code."
      ],
      "metadata": {
        "id": "dhy3ah3ji8VY"
      }
    },
    {
      "cell_type": "markdown",
      "metadata": {
        "id": "0hwg1_7kDxwY"
      },
      "source": [
        "### 0.3: Building our dataloader"
      ]
    },
    {
      "cell_type": "markdown",
      "metadata": {
        "id": "uk4UJm5SEMlB"
      },
      "source": [
        "There are around 50,000 tokens in the codebert vocab, but we only use around 20,000 of them. To make our lives easier, we just reindex the token indices to go from 1 to around 20,000."
      ]
    },
    {
      "cell_type": "code",
      "execution_count": 14,
      "metadata": {
        "id": "RZC0TYeaD6yj",
        "colab": {
          "base_uri": "https://localhost:8080/"
        },
        "outputId": "a8294d24-48fa-4bec-d6ca-b33aab0d5886"
      },
      "outputs": [
        {
          "output_type": "stream",
          "name": "stdout",
          "text": [
            "there are 21970 distinct tokens in the vocabulary\n"
          ]
        }
      ],
      "source": [
        "# Get unique elements\n",
        "extra_tokens = torch.cat((torch.tensor(tokenizer.encode(prompt_1_text, add_special_tokens=True)),\n",
        "                          torch.tensor(tokenizer.encode(prompt_2_text, add_special_tokens=True))),\n",
        "                         dim=0)\n",
        "\n",
        "unique_tokens = torch.unique(torch.cat((tokens, extra_tokens), dim=0))\n",
        "\n",
        "# Create a mapping from code bert to ids that increment by one\n",
        "from_code_bert_dict = {element.item(): id for id, element in enumerate(unique_tokens)}\n",
        "\n",
        "# Create a reverse mapping from ids to code bert token ids\n",
        "to_code_bert_dict = {id: element for element, id in from_code_bert_dict.items()}\n",
        "\n",
        "vocab_size = len(unique_tokens)\n",
        "print(f\"there are {vocab_size} distinct tokens in the vocabulary\")\n",
        "\n",
        "# helper functions to move between code bert and simple ids\n",
        "def from_code_bert(tkn_lst):\n",
        "    \"\"\"\n",
        "    Args:\n",
        "    tkn_lst: a list of code bert tokens\n",
        "    Returns:\n",
        "    a list of simple ids\n",
        "    \"\"\"\n",
        "    tkns = [int(from_code_bert_dict[token]) for token in tkn_lst]\n",
        "    return tkns\n",
        "\n",
        "\n",
        "def to_code_bert(tkn_lst):\n",
        "    \"\"\"\n",
        "    Args:\n",
        "    tkn_lst: a list of simple ids\n",
        "    Returns:\n",
        "    a list of code bert tokens\n",
        "    \"\"\"\n",
        "    tkns = [int(to_code_bert_dict[token]) for token in tkn_lst]\n",
        "    return tkns"
      ]
    },
    {
      "cell_type": "code",
      "execution_count": 15,
      "metadata": {
        "id": "pNOmdccJEXWk",
        "colab": {
          "base_uri": "https://localhost:8080/"
        },
        "outputId": "8f915510-5fe6-4a64-a088-2cf2341d89f9"
      },
      "outputs": [
        {
          "output_type": "stream",
          "name": "stdout",
          "text": [
            "there are 3600536 tokens in the training set\n",
            "there are 400060 tokens in the validation set\n",
            "there are 21970 distinct tokens in the vocabulary\n"
          ]
        }
      ],
      "source": [
        "# let's translate our dataset into our ids\n",
        "tokens_simple_id = torch.tensor([from_code_bert_dict[token.item()] for token in tokens])\n",
        "\n",
        "# split up the data into train and validation sets\n",
        "n = int(0.9 * len(tokens_simple_id)) # first 90% will be train, rest val\n",
        "train_data = tokens_simple_id.clone()[:n]\n",
        "val_data = tokens_simple_id.clone()[n:]\n",
        "\n",
        "print(f\"there are {len(train_data)} tokens in the training set\")\n",
        "print(f\"there are {len(val_data)} tokens in the validation set\")\n",
        "print(f\"there are {vocab_size} distinct tokens in the vocabulary\")"
      ]
    },
    {
      "cell_type": "markdown",
      "metadata": {
        "id": "nsOs0_diEcjY"
      },
      "source": [
        "We also write helper functions to get batches of data and to evaluate the loss of various models on them."
      ]
    },
    {
      "cell_type": "code",
      "execution_count": 16,
      "metadata": {
        "id": "AkAD0PfiEfjG"
      },
      "outputs": [],
      "source": [
        "# function for getting batches of data\n",
        "def get_batch(split, context_window_size, device, batch_size=32):\n",
        "    \"\"\"\n",
        "    generate a small batch of data of inputs x and targets y\n",
        "\n",
        "    Args:\n",
        "        split: 'train' or 'val'\n",
        "        device: 'cpu' or 'cuda' (should be 'cuda' if available)\n",
        "    \"\"\"\n",
        "    data = train_data if split == 'train' else val_data\n",
        "    ix = torch.randint(len(data) - context_window_size, (batch_size,))\n",
        "    x = torch.stack([data[i:i+context_window_size] for i in ix])\n",
        "    y = torch.stack([data[i+1:i+context_window_size+1] for i in ix])\n",
        "    x = x.to(device)\n",
        "    y = y.to(device)\n",
        "    return x, y\n",
        "\n",
        "# helper function for tracking loss during training\n",
        "# given to you\n",
        "@torch.no_grad()\n",
        "def estimate_loss(model, eval_iters, context_window_size, device):\n",
        "    \"\"\"\n",
        "    Args:\n",
        "      model: model being evaluated\n",
        "      eval_iters: number of batches to average over\n",
        "      context_window_size: size of the context window\n",
        "      device: 'cpu' or 'cuda' (should be 'cuda' if available)\n",
        "    \"\"\"\n",
        "    out = {}\n",
        "    for split in ['train', 'val']:\n",
        "        losses = torch.zeros(eval_iters)\n",
        "        for k in range(eval_iters):\n",
        "            X, Y = get_batch(split, context_window_size, device)\n",
        "            logits, loss = model(X, Y)\n",
        "            losses[k] = loss.item()\n",
        "        out[split] = losses.mean()\n",
        "    return out"
      ]
    },
    {
      "cell_type": "code",
      "source": [
        "syntax_tokens = ['if', 'else', 'for', 'while', 'def', 'class', 'return', 'import', 'from', 'as','try','except',\\\n",
        "                          \"+\", \"-\", \"*\", \"/\", \"=\", \"==\", \"<\", \">\", \";\", \"{\", \"}\", \"(\", \")\", \",\",\"[\", \"]\",\\\n",
        "                          \"is\", \"#\",\"print\",\"range\", \"len\", \"True\", \"False\", \"None\", \"and\", \"or\", \"not\", \"in\"]\n",
        "\n",
        "syntax_tokens_ids = from_code_bert([tokenizer.encode(i, add_special_tokens=False)[0] for i in syntax_tokens])"
      ],
      "metadata": {
        "id": "wGZKuyVmOK66"
      },
      "execution_count": 17,
      "outputs": []
    },
    {
      "cell_type": "code",
      "source": [
        "xb, yb = get_batch(\"train\", context_window_size, device)"
      ],
      "metadata": {
        "id": "hNcQ4RBgFU4I"
      },
      "execution_count": 18,
      "outputs": []
    },
    {
      "cell_type": "markdown",
      "metadata": {
        "id": "ercCUt_d07FX"
      },
      "source": [
        "## Part 1: Language Modeling\n",
        "\n",
        "In this first part of the assignment, we will implement a baseline for code modeling.\n",
        "\n",
        "In the process of building this baseline, we will review 4 key ideas of sequence modeling that have become the backbone of modern language modeling such as ChatGPT:\n",
        "\n",
        "1. Framing language modeling as next token prediction, and next token prediction as multiclass logistic regression\n",
        "2. Embedding discrete tokens in continuous latent spaces (word embeddings)\n",
        "3. Use the attention mechanism to move beyond Markovian models for sequences (we of course pay for this greater expressivity with increased compute, which is made possible in part by using matrix multiplications on acccelerated hardware like GPUs. Reducing the compute burden while maintaining the expressivity needed for good sequence modeling is an active area of research).\n",
        "4. Combining attention with deep learning in the Transformer architecture.\n",
        "\n",
        "For various architectures that you have to train, we provide approximate training times and training loss scores for your reference. They are really just for reference so don't read too much into them, but we are providing them as a warning mechanism in case something is going seriously wrong."
      ]
    },
    {
      "cell_type": "markdown",
      "metadata": {
        "id": "kh1kX0pw1bR2"
      },
      "source": [
        "### 1.1: Next token prediction as multiclass logistic regression\n",
        "\n",
        "Our first language model will simply be a lookup table. That is, given that we have token with value $v$, we will simply \"look up\" the logits that correspond to our prediction for the next token. This model is often known as a \"bigram model\" because it can be derived from the relative proportions of different bigrams (ordered pairs of tokens) occurring in a large text corpus.\n",
        "\n",
        "Let us be a bit more precise in our definition of the bigram model. Let's say that the total size of our vocabulary (the number of tokens we are using) is $V$. Let $A$ be a matrix in $\\mathbb{R}^{V \\times V}$, where each row $A_v$ corresponds to the logits for the prediction of which token would follow a token that has value $v$.\n",
        "Thus, we are modeling the distribution of the token following a token that has value $v$ as\n",
        "\\begin{align*}\n",
        "y_{t+1} \\mid y_t &= v \\sim \\mathrm{Cat}(\\mathbf{\\pi}) \\\\\n",
        "\\pi &=\\mathrm{softmax}(A_v)\n",
        "\\end{align*}"
      ]
    },
    {
      "cell_type": "markdown",
      "metadata": {
        "id": "5kNWISNQ9bbH"
      },
      "source": [
        "#### Question 1.1.1\n",
        "\n",
        "$\\mathbf{\\pi} \\in \\Delta_{V-1}$ is the vector of probabilities used to parameterize the categorical distribution for the next token prediction. Explain why we parameterize\n",
        "\\begin{equation*}\n",
        "  \\mathbf{\\pi} = \\mathrm{softmax}(A_v),\n",
        "\\end{equation*}\n",
        "and could not just use\n",
        "\\begin{equation*}\n",
        "  \\mathbf{\\pi} = A_v.\n",
        "\\end{equation*}"
      ]
    },
    {
      "cell_type": "markdown",
      "metadata": {
        "id": "nkHP8-T3zJ3D"
      },
      "source": [
        "---\n",
        "\n",
        "Because in the latter case, $\\pi$ would not necessarily sum to 1, and so would no longer be a vector of probabilities.\n",
        "\n",
        "---"
      ]
    },
    {
      "cell_type": "markdown",
      "metadata": {
        "id": "DtAjylIF-SwQ"
      },
      "source": [
        "#### Question 1.1.2\n",
        "\n",
        "Discuss the relationship between the bigram model and contigency tables (discussed in Lecture 2)."
      ]
    },
    {
      "cell_type": "markdown",
      "metadata": {
        "id": "ehdR52pnzZHl"
      },
      "source": [
        "---\n",
        "\n",
        "The bigram model involves the matrix $A$ and the $(i,j)$ element of $A$ contains the logits for token $j$ following token $i$. These logits are normalized to probabilities when a next token is sampled.\n",
        "\n",
        "In contingency tables, the $(i,j)$ element of the table contains the count of how many times token $j$ followed token $i$ in the dataset. So it basically contains the frequency of each bigram.\n",
        "\n",
        "---"
      ]
    },
    {
      "cell_type": "markdown",
      "metadata": {
        "id": "y4AzpB8M-u9o"
      },
      "source": [
        "#### Question 1.1.3\n",
        "\n",
        "Say I have a string of three tokens with ids $(7, 3, 6)$. If I use the bigram model as a generative model for language, given this information, what is distribution of the fourth token?"
      ]
    },
    {
      "cell_type": "markdown",
      "metadata": {
        "id": "fs4rWYjlzc7n"
      },
      "source": [
        "---\n",
        "\n",
        "From our data we can construct a frequency matrix:\n",
        "\n",
        "$$\n",
        "\\begin{array}{c|ccc}\n",
        "& 7 & 3 & 6 \\\\\n",
        "\\hline\n",
        "7 & 0 & 1 & 0 \\\\\n",
        "3 & 0 & 0 & 1 \\\\\n",
        "6 & 0 & 0 & 0\n",
        "\\end{array}\n",
        "$$\n",
        "\n",
        "We haven't observed anything following a 6, so, after application of the softmax, the distribution of the fourth token would be uniform over $\\{3, 6, 7\\}$.\n",
        "\n",
        "---"
      ]
    },
    {
      "cell_type": "markdown",
      "metadata": {
        "id": "leN9gUxoEuhg"
      },
      "source": [
        "#### Question 1.1.4\n",
        "\n",
        "Remember back in Section 0.2 \"Tokenizing the data\" when we gave you the helper function `get_batch`? Run `get_batch` and look at the inputs `x` and the targets `y`. Explain any relation between them in the context of formulating language modeling in the context of next token prediction."
      ]
    },
    {
      "cell_type": "code",
      "execution_count": null,
      "metadata": {
        "id": "rzLupp2jExDS",
        "outputId": "581c5ec9-9b73-45da-d8bd-12c5c81db771",
        "colab": {
          "base_uri": "https://localhost:8080/"
        }
      },
      "outputs": [
        {
          "output_type": "stream",
          "name": "stdout",
          "text": [
            "the features have token ids tensor([[ 8113,  7989,   125,  3687,   325,  1491,  1975,   105, 21047,  6630]],\n",
            "       device='cuda:0')\n",
            "\n",
            "\n",
            "the targets have token ids tensor([[ 7989,   125,  3687,   325,  1491,  1975,   105, 21047,  6630, 19900]],\n",
            "       device='cuda:0')\n"
          ]
        }
      ],
      "source": [
        "xb, yb = get_batch('train', 10, device, batch_size = 1)\n",
        "print(f\"the features have token ids {xb}\")\n",
        "print('\\n')\n",
        "print(f\"the targets have token ids {yb}\")"
      ]
    },
    {
      "cell_type": "markdown",
      "source": [
        "The tokens with IDs in the targets are the tokens that come right after the tokens with IDs in the features. The target tokens are the feature tokens shifted to the left by 1.\n",
        "\n",
        "So, at the first token in the features (8113), the goal is to predict the next token (7989). Hence, the first token in the targets is 7989, so that it lines up with 8113."
      ],
      "metadata": {
        "id": "3qre_gv0627u"
      }
    },
    {
      "cell_type": "markdown",
      "metadata": {
        "id": "UyYl8QQt_Uhb"
      },
      "source": [
        "#### Question 1.1.5\n",
        "\n",
        "Discuss the strengths and weaknesses of the bigram model as a generative model for language."
      ]
    },
    {
      "cell_type": "markdown",
      "metadata": {
        "id": "7t6Hc2dhzdzL"
      },
      "source": [
        "---\n",
        "\n",
        "The bigram model assumes that you can find a distribution for the next token based only on the value of the current token. So a big weakness is that it doesn't take into account any long-range dependencies between tokens. For example, if I want to perform sentence generation and feed my model a sentence like \"John eats an,\" the bigram model will only use the word \"an\" to predict the next work, which will give terrible predictions on average. It would do much better if it could use a larger context to make its prediction.\n",
        "\n",
        "On the flip side, a huge advantage is that it has pretty low compute requirements. It's easy to implement, and darn fast to run compared to a transformer.\n",
        "\n",
        "---"
      ]
    },
    {
      "cell_type": "markdown",
      "metadata": {
        "id": "mjYO1XTM_8NE"
      },
      "source": [
        "#### Question 1.1.6\n",
        "\n",
        "Say I have a string $s$ of length $T$. Derive the formula for the negative log likelihood of $s$ under the bigram model in terms of the matrix of logits $A$. What would your answer be if the matrix of logits $A$ were all zeros? What would be the value of the negative log likelihood of $s$ under a model that always perfectly predicted the next token?"
      ]
    },
    {
      "cell_type": "markdown",
      "source": [
        "---\n",
        "\n",
        "For some reason I could not convert this notebook to PDF via LaTeX with the markdown in this cell, so I have attached a screenshot separately on the last page. Please see the next page in the submission.\n",
        "\n",
        "---\n",
        "\n"
      ],
      "metadata": {
        "id": "_pKgIJBu3CZC"
      }
    },
    {
      "cell_type": "markdown",
      "metadata": {
        "id": "rfzoXAATAfwn"
      },
      "source": [
        "#### Question 1.1.7: Implement the BigramLanguageModel\n",
        "\n",
        "Implement the bigram language model below.\n",
        "\n",
        "Your TODOs:\n",
        "  * if the `forward` method is provided a target, the loss should be the negative log likelihood of the target (given the context)\n",
        "  * `generate` should take in (batched) contexts and a number of new tokens to generate, and then generate text from your model.\n"
      ]
    },
    {
      "cell_type": "code",
      "execution_count": null,
      "metadata": {
        "id": "_lJ1mR4K1aj_"
      },
      "outputs": [],
      "source": [
        "class BigramLanguageModel(nn.Module):\n",
        "\n",
        "    def __init__(self, vocab_size):\n",
        "        \"\"\"\n",
        "        Args:\n",
        "          vocab_size: size of the vocabulary (the number of tokens)\n",
        "        \"\"\"\n",
        "        super().__init__()\n",
        "        # each token directly reads off the logits for the next token from a lookup table\n",
        "        self.logits_table = nn.Embedding(vocab_size, vocab_size) # n=V, dim=V\n",
        "        self.vocab_size = vocab_size\n",
        "\n",
        "    def forward(self, token_ids, targets=None):\n",
        "        \"\"\"\n",
        "        Args:\n",
        "          token_ids: Int(B, T), token ids that make up the context (batch has size B, each entry in the batch has length T)\n",
        "          targets: Int(B, T), token ids corresponding to the target of each context in token_ids\n",
        "\n",
        "        Returns:\n",
        "          logits: (B, T, V), logits[b,t, :] gives the length V vector of logits for the next token prediction in string b up to t tokens\n",
        "          loss: scalar, negative log likelihood of target given context\n",
        "        \"\"\"\n",
        "\n",
        "        # idx and targets are both (B,T) tensor of integers\n",
        "        logits = self.logits_table(token_ids) # (B,T,V)\n",
        "\n",
        "        if targets is None:\n",
        "            loss = None\n",
        "        else:\n",
        "            # TODO: what should the loss in this setting be?\n",
        "            # loss = ...\n",
        "\n",
        "            logits = logits.view(-1, self.vocab_size)\n",
        "            targets = targets.view(-1)\n",
        "            loss = F.cross_entropy(logits, targets, reduction='mean')\n",
        "\n",
        "        return logits, loss\n",
        "\n",
        "    @torch.no_grad()\n",
        "    def generate(self, token_ids, max_new_tokens=context_window_size):\n",
        "        \"\"\"\n",
        "        Args:\n",
        "          token_ids: (B, T) tensor of token ids to provide as context\n",
        "          max_new_tokens: int, maximum number of new tokens to generate\n",
        "\n",
        "        Returns:\n",
        "          (B, T+max_new_tokens) tensor of context with new tokens appended\n",
        "        \"\"\"\n",
        "        # TODO: your code below\n",
        "        # pass\n",
        "\n",
        "        # strategy:\n",
        "        # get the logits for the last token in the sequence\n",
        "        # apply the softmax on those logits\n",
        "        # sample from the resulting distribution\n",
        "        # append the sample onto the sequence as the next generated token\n",
        "        generated_tokens = token_ids # (B, T)\n",
        "\n",
        "        for i in range(max_new_tokens):\n",
        "          last_token = generated_tokens[:, -1] # get the last token for every sequence in the batch (B, 1)\n",
        "          logits = self.logits_table(last_token) # (B, 1) -> (B, 1, V)\n",
        "          pi = F.softmax(logits, dim=-1) # apply along the V dimension of logits (B, 1, V)\n",
        "          next_token = torch.multinomial(pi, 1) # sample 1 item from each batch based on V\n",
        "          generated_tokens = torch.concat((generated_tokens, next_token), dim=1) # (B, T+1)\n",
        "\n",
        "        return generated_tokens\n"
      ]
    },
    {
      "cell_type": "markdown",
      "metadata": {
        "id": "2MaUUxb0EQY1"
      },
      "source": [
        "#### Question 1.1.8: Evaluating the initialization.\n",
        "\n",
        "Evaluate the loss of your untrained bigram model on a batch of data. Does this loss make sense in the context of your answer to Question 1.1.6? Discuss."
      ]
    },
    {
      "cell_type": "code",
      "execution_count": null,
      "metadata": {
        "id": "xgSEGqKGEiOn"
      },
      "outputs": [],
      "source": [
        "x,y = get_batch(\"train\", context_window_size, device)\n",
        "bigram_model = BigramLanguageModel(vocab_size)\n",
        "bm = bigram_model.to(device)\n",
        "\n",
        "# TODO: your code below"
      ]
    },
    {
      "cell_type": "code",
      "source": [
        "x, y = x.to(device), y.to(device)\n",
        "logits, loss = bm(x, y)"
      ],
      "metadata": {
        "id": "Vn42XdbpyGwn"
      },
      "execution_count": null,
      "outputs": []
    },
    {
      "cell_type": "code",
      "source": [
        "loss"
      ],
      "metadata": {
        "colab": {
          "base_uri": "https://localhost:8080/"
        },
        "id": "NbRKt91tHy4w",
        "outputId": "8eee9577-fe20-4476-c2d6-302d9a7ace72"
      },
      "execution_count": null,
      "outputs": [
        {
          "output_type": "execute_result",
          "data": {
            "text/plain": [
              "tensor(10.0046, grad_fn=<NllLossBackward0>)"
            ]
          },
          "metadata": {},
          "execution_count": 23
        }
      ]
    },
    {
      "cell_type": "code",
      "source": [
        "V = vocab_size\n",
        "torch.log(torch.tensor(V))"
      ],
      "metadata": {
        "colab": {
          "base_uri": "https://localhost:8080/"
        },
        "id": "poP8lP3H5bXc",
        "outputId": "50682fab-63d9-4779-cf38-cb82a6ffdd5f"
      },
      "execution_count": null,
      "outputs": [
        {
          "output_type": "execute_result",
          "data": {
            "text/plain": [
              "tensor(9.9974)"
            ]
          },
          "metadata": {},
          "execution_count": 28
        }
      ]
    },
    {
      "cell_type": "markdown",
      "metadata": {
        "id": "bS32m6egzg03"
      },
      "source": [
        "---\n",
        "\n",
        "In 1.1.6, we saw that if $A$ was all zeros (which it is in this case), then the loss for $T$ tokens would be $(T-1) \\log V$, or about $\\log V$ per token. In the two code cells above, we see that this indeed matches up with the loss we obtained!\n",
        "\n",
        "---"
      ]
    },
    {
      "cell_type": "markdown",
      "metadata": {
        "id": "IzxRpcgKE4_5"
      },
      "source": [
        "#### Question 1.1.9: Training your bigram model\n",
        "\n",
        "Train your bigram model for `SMALL_ITERS` iterations. Plot and interpret the loss curve.\n",
        "\n",
        "Our train loss gets down to around 4 in around 5 min of training."
      ]
    },
    {
      "cell_type": "code",
      "execution_count": null,
      "metadata": {
        "id": "E2r390zbyz3O",
        "colab": {
          "base_uri": "https://localhost:8080/"
        },
        "outputId": "aa260817-7bc6-40f1-e7c1-63ee55d445b2"
      },
      "outputs": [
        {
          "output_type": "stream",
          "name": "stderr",
          "text": [
            "\r  0%|          | 0/1000 [00:00<?, ?it/s]"
          ]
        },
        {
          "output_type": "stream",
          "name": "stdout",
          "text": [
            "iteration 0\n",
            "step 0: train loss 10.5481, val loss 10.5376\n"
          ]
        },
        {
          "output_type": "stream",
          "name": "stderr",
          "text": [
            " 20%|██        | 200/1000 [00:52<02:53,  4.61it/s]"
          ]
        },
        {
          "output_type": "stream",
          "name": "stdout",
          "text": [
            "iteration 200\n"
          ]
        },
        {
          "output_type": "stream",
          "name": "stderr",
          "text": [
            "\r 20%|██        | 201/1000 [01:00<34:16,  2.57s/it]"
          ]
        },
        {
          "output_type": "stream",
          "name": "stdout",
          "text": [
            "step 200: train loss 8.2284, val loss 8.3207\n"
          ]
        },
        {
          "output_type": "stream",
          "name": "stderr",
          "text": [
            " 40%|████      | 400/1000 [01:43<02:09,  4.62it/s]"
          ]
        },
        {
          "output_type": "stream",
          "name": "stdout",
          "text": [
            "iteration 400\n"
          ]
        },
        {
          "output_type": "stream",
          "name": "stderr",
          "text": [
            "\r 40%|████      | 401/1000 [01:51<27:03,  2.71s/it]"
          ]
        },
        {
          "output_type": "stream",
          "name": "stdout",
          "text": [
            "step 400: train loss 6.2308, val loss 6.4694\n"
          ]
        },
        {
          "output_type": "stream",
          "name": "stderr",
          "text": [
            " 60%|██████    | 600/1000 [02:35<01:26,  4.62it/s]"
          ]
        },
        {
          "output_type": "stream",
          "name": "stdout",
          "text": [
            "iteration 600\n"
          ]
        },
        {
          "output_type": "stream",
          "name": "stderr",
          "text": [
            "\r 60%|██████    | 601/1000 [02:43<17:05,  2.57s/it]"
          ]
        },
        {
          "output_type": "stream",
          "name": "stdout",
          "text": [
            "step 600: train loss 4.8426, val loss 5.1550\n"
          ]
        },
        {
          "output_type": "stream",
          "name": "stderr",
          "text": [
            " 80%|████████  | 800/1000 [03:26<00:43,  4.62it/s]"
          ]
        },
        {
          "output_type": "stream",
          "name": "stdout",
          "text": [
            "iteration 800\n"
          ]
        },
        {
          "output_type": "stream",
          "name": "stderr",
          "text": [
            "\r 80%|████████  | 801/1000 [03:34<08:35,  2.59s/it]"
          ]
        },
        {
          "output_type": "stream",
          "name": "stdout",
          "text": [
            "step 800: train loss 4.2981, val loss 4.7244\n"
          ]
        },
        {
          "output_type": "stream",
          "name": "stderr",
          "text": [
            "100%|█████████▉| 999/1000 [04:17<00:00,  4.62it/s]"
          ]
        },
        {
          "output_type": "stream",
          "name": "stdout",
          "text": [
            "iteration 999\n"
          ]
        },
        {
          "output_type": "stream",
          "name": "stderr",
          "text": [
            "100%|██████████| 1000/1000 [04:25<00:00,  3.77it/s]"
          ]
        },
        {
          "output_type": "stream",
          "name": "stdout",
          "text": [
            "step 999: train loss 4.0000, val loss 4.5345\n"
          ]
        },
        {
          "output_type": "stream",
          "name": "stderr",
          "text": [
            "\n"
          ]
        }
      ],
      "source": [
        "# create a PyTorch optimizer\n",
        "learning_rate = 1e-2\n",
        "optimizer = torch.optim.AdamW(bigram_model.parameters(), lr=learning_rate)\n",
        "\n",
        "eval_interval = 200\n",
        "eval_iters = 200\n",
        "\n",
        "loss_list = []\n",
        "\n",
        "for it in tqdm(range(SMALL_ITERS)):\n",
        "\n",
        "    # every once in a while evaluate the loss on train and val sets\n",
        "    if it % eval_interval == 0 or it == SMALL_ITERS - 1:\n",
        "        print(f\"iteration {it}\")\n",
        "        losses = estimate_loss(bm, eval_iters, context_window_size, device)\n",
        "        print(f\"step {it}: train loss {losses['train']:.4f}, val loss {losses['val']:.4f}\")\n",
        "\n",
        "    # sample a batch of data\n",
        "    xb, yb = get_batch('train', context_window_size, device)\n",
        "\n",
        "    # evaluate the loss\n",
        "    logits, loss = bm(xb, yb)\n",
        "    loss_list.append(loss.detach().item())\n",
        "    optimizer.zero_grad(set_to_none=True)\n",
        "    loss.backward()\n",
        "    optimizer.step()"
      ]
    },
    {
      "cell_type": "code",
      "source": [
        "torch.save(bm.state_dict(), \"./drive/MyDrive/Colab Notebooks/STATS 305B/HW4/bm_state_dict.pth\")\n",
        "torch.save(bm, \"./drive/MyDrive/Colab Notebooks/STATS 305B/HW4/bm.pth\")"
      ],
      "metadata": {
        "id": "c70-Rxw-4q7j"
      },
      "execution_count": null,
      "outputs": []
    },
    {
      "cell_type": "code",
      "source": [
        "plt.plot(loss_list)"
      ],
      "metadata": {
        "colab": {
          "base_uri": "https://localhost:8080/",
          "height": 447
        },
        "id": "QdQT91_bvp_N",
        "outputId": "e6196b40-5341-415d-8836-0e9fb9a0dc92"
      },
      "execution_count": null,
      "outputs": [
        {
          "output_type": "execute_result",
          "data": {
            "text/plain": [
              "[<matplotlib.lines.Line2D at 0x78b49abb6d10>]"
            ]
          },
          "metadata": {},
          "execution_count": 20
        },
        {
          "output_type": "display_data",
          "data": {
            "text/plain": [
              "<Figure size 640x480 with 1 Axes>"
            ],
            "image/png": "[encoded data removed]"
          },
          "metadata": {}
        }
      ]
    },
    {
      "cell_type": "markdown",
      "metadata": {
        "id": "Tj28W2w_ziDA"
      },
      "source": [
        "---\n",
        "\n",
        "The loss decreases steeply at the start, indicating that the model is learning quickly. Then it starts to level off towards the end, and the variance increases dramatically, indicating that maybe it's bouncing around near some local minimum.\n",
        "\n",
        "---"
      ]
    },
    {
      "cell_type": "markdown",
      "metadata": {
        "id": "slaOmWgFLdMk"
      },
      "source": [
        "### 1.2: Token Embeddings: going from discrete tokens to continuous latent spaces\n",
        "\n",
        "In the look up table formulation of the bigram model, we are modelling the logits of the next token didstirbution independently for each token, even if two tokens are extremely similar to each other.\n",
        "One way arond this problem is to learn an embedding of the discrete tokens into $\\mathbb{R}^{D}$, and then to run multi-class logistic regression on top of this learned embedding.\n",
        "\n",
        "More precisely, if we have a vocabulary of tokens of size $V$ that we choose to embed in a Euclidean embedding space of dimension $D$, we can parameterize the distribution of the next token if the current token is $v$ according to\n",
        "\\begin{align*}\n",
        "  \\mathrm{Cat}\\Big( \\mathrm{softmax} (\\beta X_v) \\Big),\n",
        "\\end{align*}\n",
        "where $X_v \\in \\mathbb{R}^{D}$ is the learned embedding of token $v$ into $\\mathbb{R}^{D}$ and $\\beta \\in \\mathbb{R}^{V \\times D}$. Notice that if $X$ were a fixed design matrix this formulation would be equivalent to multi-class logistic regression. However, both $X$ and $\\beta$ are learnable parameters."
      ]
    },
    {
      "cell_type": "markdown",
      "metadata": {
        "id": "kX6BRU07O7Cr"
      },
      "source": [
        "#### Question 1.2.1: Implement BigramWithWordEmbeddingsLM\n",
        "\n",
        "Implement a bigram languge model that uses a linear readout from a low dimensional Euclidean embedding of each token to parameterize the logits of the next token distribution, instead of parameterizing the logits of the next token distribution directly. It should have almost the same implementation as `BigramLanguageModel` from Question 1.1.6, except `init` should also take in an `embed_size`, and the `forward` method will need to be modified."
      ]
    },
    {
      "cell_type": "code",
      "execution_count": null,
      "metadata": {
        "id": "brU5zILoQASX"
      },
      "outputs": [],
      "source": [
        "class BigramWithWordEmbeddingsLM(nn.Module):\n",
        "\n",
        "    def __init__(self, vocab_size, embed_size=32):\n",
        "      \"\"\"\n",
        "      Args:\n",
        "        vocab_size: int, size of the vocabulary\n",
        "        embed_size: int, dimension of the word embedding (D)\n",
        "      \"\"\"\n",
        "      #TODO, your code here\n",
        "      # pass\n",
        "      super().__init__()\n",
        "      self.logits_table = nn.Embedding(vocab_size, embed_size)\n",
        "      self.beta = nn.Parameter(torch.randn(vocab_size, embed_size))\n",
        "\n",
        "      self.linear = nn.Linear(embed_size, vocab_size)\n",
        "      self.vocab_size = vocab_size\n",
        "      self.embed_size = embed_size\n",
        "\n",
        "    def forward(self, token_ids, targets=None):\n",
        "        \"\"\"\n",
        "        Args:\n",
        "          token_ids: (B, T) token ids that make up the context (batch has size B, each entry in the batch has length T)\n",
        "          targets: (B, T) token ids corresponding to the target of each context in token_ids\n",
        "\n",
        "        Returns:\n",
        "          logits: (B, T, V), logits[b,t, :] gives the length V vector of logits for the next token prediction in string b up to t tokens\n",
        "          loss: scalar, negative log likelihood of target given context\n",
        "        \"\"\"\n",
        "        # TODO, your code here\n",
        "\n",
        "        # logits = None\n",
        "        loss = None\n",
        "\n",
        "        # Shape of embedded: [B, T, D]\n",
        "        embeddings = self.logits_table(token_ids)\n",
        "\n",
        "        logits = embeddings @ self.beta.T\n",
        "\n",
        "        if targets is not None:\n",
        "            # Compute log softmax on the logits\n",
        "            log_probs = F.log_softmax(logits, dim=-1)\n",
        "\n",
        "            # gather the log probabilities for the target tokens\n",
        "            # shape of targets is [B, T], expand to [B, T, 1] to use with gather\n",
        "            target_log_probs = log_probs.gather(dim=2, index=targets.unsqueeze(2)).squeeze(2)\n",
        "\n",
        "            loss = - target_log_probs.mean()\n",
        "\n",
        "        return logits, loss\n",
        "\n",
        "    @torch.no_grad()\n",
        "    def generate(self, token_ids, max_new_tokens=context_window_size):\n",
        "        \"\"\"\n",
        "        Args:\n",
        "          token_ids: (B, T) tensor of token ids to provide as context\n",
        "          max_new_tokens: int, maximum number of new tokens to generate\n",
        "\n",
        "        Returns:\n",
        "          (B, T+max_new_tokens) tensor of context with new tokens appended\n",
        "        \"\"\"\n",
        "        #TODO\n",
        "        # your code below\n",
        "        # pass\n",
        "        # from BigramLanguageModel\n",
        "        generated_tokens = token_ids # (B, T)\n",
        "\n",
        "        for i in range(max_new_tokens):\n",
        "          last_token = generated_tokens[:, -1] # get the last token for every sequence in the batch (B, 1)\n",
        "          logits = self.logits_table(last_token) # (B, 1, V)\n",
        "          pi = F.softmax(logits, dim=-1) # apply along the V dimension of logits (B, 1, V)\n",
        "\n",
        "          next_token = torch.multinomial(pi, 1) # sample from the distribution (B, V) -> (B, 1)\n",
        "          generated_tokens = torch.concat((generated_tokens, next_token), dim=1) # (B, T+1)\n",
        "\n",
        "        return generated_tokens"
      ]
    },
    {
      "cell_type": "code",
      "source": [
        "x,y = get_batch(\"train\", context_window_size, device)\n",
        "bigram_model = BigramWithWordEmbeddingsLM(vocab_size)\n",
        "bm = bigram_model.to(device)\n",
        "x, y = x.to(device), y.to(device)\n",
        "logits, loss = bm(x, y)"
      ],
      "metadata": {
        "id": "seQ-NnfjRkak"
      },
      "execution_count": null,
      "outputs": []
    },
    {
      "cell_type": "code",
      "source": [
        "# create a PyTorch optimizer\n",
        "learning_rate = 1e-2\n",
        "optimizer = torch.optim.AdamW(bigram_model.parameters(), lr=learning_rate)\n",
        "\n",
        "eval_interval = 200\n",
        "eval_iters = 200\n",
        "\n",
        "loss_list = []\n",
        "\n",
        "for it in tqdm(range(SMALL_ITERS)):\n",
        "\n",
        "    # every once in a while evaluate the loss on train and val sets\n",
        "    if it % eval_interval == 0 or it == SMALL_ITERS - 1:\n",
        "        print(f\"iteration {it}\")\n",
        "        losses = estimate_loss(bm, eval_iters, context_window_size, device)\n",
        "        print(f\"step {it}: train loss {losses['train']:.4f}, val loss {losses['val']:.4f}\")\n",
        "\n",
        "    # sample a batch of data\n",
        "    xb, yb = get_batch('train', context_window_size, device)\n",
        "\n",
        "    # evaluate the loss\n",
        "    logits, loss = bm(xb, yb)\n",
        "    loss_list.append(loss.detach().item())\n",
        "    optimizer.zero_grad(set_to_none=True)\n",
        "    loss.backward()\n",
        "    optimizer.step()"
      ],
      "metadata": {
        "colab": {
          "base_uri": "https://localhost:8080/"
        },
        "id": "cd59Si1EHTqt",
        "outputId": "60cb4661-9ebc-42d4-ac91-33afe2511691"
      },
      "execution_count": null,
      "outputs": [
        {
          "output_type": "stream",
          "name": "stderr",
          "text": [
            "\r  0%|          | 0/1000 [00:00<?, ?it/s]"
          ]
        },
        {
          "output_type": "stream",
          "name": "stdout",
          "text": [
            "iteration 0\n"
          ]
        },
        {
          "output_type": "stream",
          "name": "stderr",
          "text": [
            "  0%|          | 4/1000 [00:08<26:22,  1.59s/it]  "
          ]
        },
        {
          "output_type": "stream",
          "name": "stdout",
          "text": [
            "step 0: train loss 25.4935, val loss 25.5961\n"
          ]
        },
        {
          "output_type": "stream",
          "name": "stderr",
          "text": [
            " 20%|█▉        | 199/1000 [00:16<00:34, 23.35it/s]"
          ]
        },
        {
          "output_type": "stream",
          "name": "stdout",
          "text": [
            "iteration 200\n"
          ]
        },
        {
          "output_type": "stream",
          "name": "stderr",
          "text": [
            " 20%|██        | 205/1000 [00:24<07:42,  1.72it/s]"
          ]
        },
        {
          "output_type": "stream",
          "name": "stdout",
          "text": [
            "step 200: train loss 4.8104, val loss 5.3715\n"
          ]
        },
        {
          "output_type": "stream",
          "name": "stderr",
          "text": [
            " 40%|███▉      | 399/1000 [00:33<00:25, 23.30it/s]"
          ]
        },
        {
          "output_type": "stream",
          "name": "stdout",
          "text": [
            "iteration 400\n"
          ]
        },
        {
          "output_type": "stream",
          "name": "stderr",
          "text": [
            " 40%|████      | 405/1000 [00:41<05:42,  1.74it/s]"
          ]
        },
        {
          "output_type": "stream",
          "name": "stdout",
          "text": [
            "step 400: train loss 3.6802, val loss 4.3741\n"
          ]
        },
        {
          "output_type": "stream",
          "name": "stderr",
          "text": [
            " 60%|██████    | 600/1000 [00:49<00:17, 23.48it/s]"
          ]
        },
        {
          "output_type": "stream",
          "name": "stdout",
          "text": [
            "iteration 600\n"
          ]
        },
        {
          "output_type": "stream",
          "name": "stderr",
          "text": [
            "\r 60%|██████    | 603/1000 [00:57<05:21,  1.24it/s]"
          ]
        },
        {
          "output_type": "stream",
          "name": "stdout",
          "text": [
            "step 600: train loss 3.4046, val loss 4.0525\n"
          ]
        },
        {
          "output_type": "stream",
          "name": "stderr",
          "text": [
            " 80%|███████▉  | 798/1000 [01:05<00:08, 23.48it/s]"
          ]
        },
        {
          "output_type": "stream",
          "name": "stdout",
          "text": [
            "iteration 800\n"
          ]
        },
        {
          "output_type": "stream",
          "name": "stderr",
          "text": [
            " 80%|████████  | 804/1000 [01:13<01:54,  1.71it/s]"
          ]
        },
        {
          "output_type": "stream",
          "name": "stdout",
          "text": [
            "step 800: train loss 3.2670, val loss 3.9564\n"
          ]
        },
        {
          "output_type": "stream",
          "name": "stderr",
          "text": [
            "100%|█████████▉| 999/1000 [01:22<00:00, 22.18it/s]"
          ]
        },
        {
          "output_type": "stream",
          "name": "stdout",
          "text": [
            "iteration 999\n"
          ]
        },
        {
          "output_type": "stream",
          "name": "stderr",
          "text": [
            "\r100%|██████████| 1000/1000 [01:30<00:00, 11.08it/s]"
          ]
        },
        {
          "output_type": "stream",
          "name": "stdout",
          "text": [
            "step 999: train loss 3.1588, val loss 3.8667\n"
          ]
        },
        {
          "output_type": "stream",
          "name": "stderr",
          "text": [
            "\n"
          ]
        }
      ]
    },
    {
      "cell_type": "code",
      "source": [
        "torch.save(bm.state_dict(), \"./drive/MyDrive/Colab Notebooks/STATS 305B/HW4/bm_words_state_dict.pth\")\n",
        "torch.save(bm, \"./drive/MyDrive/Colab Notebooks/STATS 305B/HW4/bm_words.pth\")"
      ],
      "metadata": {
        "id": "r303EPAi6PMV"
      },
      "execution_count": null,
      "outputs": []
    },
    {
      "cell_type": "code",
      "source": [
        "plt.plot(loss_list)"
      ],
      "metadata": {
        "colab": {
          "base_uri": "https://localhost:8080/",
          "height": 447
        },
        "id": "6F23E1OWH8RQ",
        "outputId": "1e230331-d418-4397-f15d-d78c63b0c200"
      },
      "execution_count": null,
      "outputs": [
        {
          "output_type": "execute_result",
          "data": {
            "text/plain": [
              "[<matplotlib.lines.Line2D at 0x78b4a6577bb0>]"
            ]
          },
          "metadata": {},
          "execution_count": 32
        },
        {
          "output_type": "display_data",
          "data": {
            "text/plain": [
              "<Figure size 640x480 with 1 Axes>"
            ],
            "image/png": "[encoded data removed]"
          },
          "metadata": {}
        }
      ]
    },
    {
      "cell_type": "markdown",
      "source": [
        "Testing some code generation with this model:"
      ],
      "metadata": {
        "id": "72G3h1qU9xzA"
      }
    },
    {
      "cell_type": "code",
      "source": [
        "bigram_model = BigramWithWordEmbeddingsLM(vocab_size)\n",
        "bm = bigram_model.to(device)\n",
        "bm.load_state_dict(torch.load(\"./drive/MyDrive/Colab Notebooks/STATS 305B/HW4/bm_words_state_dict.pth\"))"
      ],
      "metadata": {
        "colab": {
          "base_uri": "https://localhost:8080/"
        },
        "id": "f0dVOIjx600R",
        "outputId": "26b28450-a54a-4386-8750-a8338689b550"
      },
      "execution_count": null,
      "outputs": [
        {
          "output_type": "execute_result",
          "data": {
            "text/plain": [
              "<All keys matched successfully>"
            ]
          },
          "metadata": {},
          "execution_count": 40
        }
      ]
    },
    {
      "cell_type": "code",
      "source": [
        "# the contexts for the different prompts\n",
        "start_context = torch.zeros((1, 1), dtype=torch.long, device=device)\n",
        "print(f\"shape is {start_context.shape}\")\n",
        "\n",
        "context1 = torch.tensor(from_code_bert(tokenizer.encode(prompt_1_text)[:-1]), device=device).reshape(1, -1) # (1, T)\n",
        "print(f\"shape is {context1.shape}\")\n",
        "context2 = torch.tensor(from_code_bert(tokenizer.encode(prompt_2_text)[:-1])).to(device).reshape(1, -1)\n",
        "print(f\"shape is {context2.shape}\")\n",
        "# unconditional generate from the BM model\n",
        "# uncond_gen = (bm.generate(token_ids=start_context, max_new_tokens=context_window_size)[0].tolist())\n",
        "uncond_gen = bm.generate(token_ids=start_context, max_new_tokens=context_window_size)[0].tolist()\n",
        "print(tokenizer.decode(to_code_bert(uncond_gen)))\n",
        "\n",
        "context1_gen = bm.generate(token_ids=context1, max_new_tokens=context_window_size)[0].tolist()\n",
        "print(tokenizer.decode(to_code_bert(context1_gen)))\n",
        "\n",
        "context2_gen = bm.generate(token_ids=context2, max_new_tokens=context_window_size)[0].tolist()\n",
        "print(tokenizer.decode(to_code_bert(context2_gen)))"
      ],
      "metadata": {
        "id": "QXpl5R09hWFm",
        "colab": {
          "base_uri": "https://localhost:8080/"
        },
        "outputId": "75ce5077-38ea-4688-c4f6-bd9a3d552a3a"
      },
      "execution_count": null,
      "outputs": [
        {
          "output_type": "stream",
          "name": "stdout",
          "text": [
            "shape is torch.Size([1, 1])\n",
            "shape is torch.Size([1, 225])\n",
            "shape is torch.Size([1, 263])\n",
            "<s> in� that \"'s it-� \"'s with at ofs as its have have the from by's was said. it by with with at to on to by have have with \" the it, the have have- said that,</s> are of at to as, be from in be on to was with to with was</s>� at at</s> said withs's have<s> in that are. the it for at at by with at�- and are. from by have from for have from as's are the and's as-'s, \", \" a \" in of for that- for said of at on<s> of \" said at it's<s> be on on \" are a is are that as and by�, are�'s<s> said said� as on with to� was for have� \" in to</s> the that as fors at on at,- from</s> at with was to that to at have from was, with that as's of it�� that to on at with-� was \" was to</s> on on from that<s> and at� \" and on from \" from with that that are was in was with,- from that on of are in, as, for at,. \"s are at's to for\n",
            "<s>def newton(eta, N, X, y, gamma, beta=None):\n",
            "  \"\"\"\n",
            "  Performs Newton's method on the negative average log likelihood with an\n",
            "  l2 regularization term\n",
            "\n",
            "  beta: torch.Tensor, of shape (teams)\n",
            "  X: torch.Tensor, the covariate matrix, of shape (-1, teams)\n",
            "  y: torch.Tensor, the response vector, of shape (teams)\n",
            "  gamma: float, the scale parameter for the regularization\n",
            "  beta: torch.Tensor, the starting point for gradient descent, if specified\n",
            "  \"\"\"\n",
            "\n",
            "  if beta is None:\n",
            "    # Instantiate the beta vector at a random point\n",
            "    beta = torch.randn(X.shape[1])\n",
            "  else:\n",
            "    beta = torch.clone(beta)\n",
            "\n",
            "  loss = []\n",
            "\n",
            "  # Instantiate a list to store the loss throughout the gradient descent\n",
            "  # path\n",
            "  for i in tqdm(range(N)): said are. for at have have</s>. it with to \" the \" from the the was its as by's have with to are be<s>'s-. the of have, to's was at, as</s> are a are- by by it and from at from are at it for at thes and- that with to</s>�, is</s> are a for was as was of be the the on on are's as on and it with's on be as on. be-- as. be with is \"�. have,'s be from for with.</s></s> be in haves the it for to on The ons have with by that \" with<s>� as withs- that it,'s to�s be, the's to that, as with have that \" and the for to's. \" be it that as with by said�� it on was with that for was that's the- said have haves and at are, be as be. wass it that was a� on on the \" of, was are, by for that at� to in� it as by The at's to on that to are at as at a it that at it of as� The \" from that as that on</s> said\n",
            "<s>import torch\n",
            "import torch.nn.functional as F\n",
            "\n",
            "\n",
            "def normalize(x, axis=-1):\n",
            "    \"\"\"Performs L2-Norm.\"\"\"\n",
            "    num = x\n",
            "    denom = torch.norm(x, 2, axis, keepdim=True).expand_as(x) + 1e-12\n",
            "    return num / denom\n",
            "\n",
            "def euclidean_dist(x, y):\n",
            "    \"\"\"Computes Euclidean distance.\"\"\"\n",
            "    m, n = x.size(0), y.size(0)\n",
            "    xx = torch.pow(x, 2).sum(1, keepdim=True).expand(m, n)\n",
            "    yy = torch.pow(x, 2).sum(1, keepdim=True).expand(m, m).t()\n",
            "    dist = xx + yy - 2 * torch.matmul(x, y.t())\n",
            "\n",
            "    dist = dist.clamp(min=1e-12).sqrt()\n",
            "\n",
            "    return dist\n",
            "\n",
            "\n",
            "def cosine_dist(x, y): the the of's are, it� the as was by on��, a with said� to are on�s have, have was it in be at the for<s> are.</s> are, at is<s> the is on on it<s> have the it said's are with was of be from \"'s \"<s> a \"� are.'s for a at said� a it The was with. to that at \" and� that for that it with to fors the by was \" and have from to that be as as</s> at's is, have.. for that on and that to that,s from at ares. it on was� ofs for- to's. at to \" and was a to with, was was said the is \" on in and by with at said and are in \" on on, is<s> from for at with on a is \" in The on from to,, be have it<s> it with to are The in the \" on ons by�</s> are from be \" on</s> said have a are at with as, was have at that it� \" and from at from it� The \" be be \" was is on for for be and for, in at be� was from� as for with\n"
          ]
        }
      ]
    },
    {
      "cell_type": "markdown",
      "source": [
        "This is pretty bad code. Most glaringly, there are no line breaks, it looks like it's using some non-English characters too, and it also doesn't read much like code at all."
      ],
      "metadata": {
        "id": "gSgH-NGK991T"
      }
    },
    {
      "cell_type": "markdown",
      "metadata": {
        "id": "ypOE6LnnGdyu"
      },
      "source": [
        "### 1.3: Attention: Relaxing Markovian assumptions to transmit information across the sequence length\n",
        "\n",
        "A major problem with the bigram models of Sections 1.1 and 1.2 was that they were Markovian: the distribution of the next token was determined entirely by the current token! The attention mechanism provides a way to extract information between the previous tokens in the context to provide a better parameterization for the distribution of the next token."
      ]
    },
    {
      "cell_type": "markdown",
      "metadata": {
        "id": "F-XHeM1VRO6H"
      },
      "source": [
        "#### Question 1.3.1: Averaging over word embeddings\n",
        "\n",
        "One simple way to pool information from previous tokens would simply be to average the embeddings of all the previous tokens!\n",
        "\n",
        "Your TODO: Add comments to the the code snippet below. Write a description here explaining why the code is mathematically equivalent to averaging the embeddings of previous tokens"
      ]
    },
    {
      "cell_type": "markdown",
      "metadata": {
        "id": "S-8W0Xx_zsst"
      },
      "source": [
        "---\n",
        "\n",
        "The `attn_weights` tensor is a lower triangular matrix of 1's, and it multiplies each of the 8x2 sub-tensors within `X`. The `-inf` is to make sure that the 0's are excluded from the softmax calculation.\n",
        "\n",
        "The resulting tensor `avgDmbds` is of the same shape as `X` (4x8x2).\n",
        "\n",
        "In each 8x2 sub-tensor of the resulting tensor, the first row is just the first row of the corresponding tensor from `X`. The second row is the average of the first and second rows of the corresponding tensor from `X`. So, the last row is the average of all the rows from the corresponding tensor from `X`.\n",
        "\n",
        "This way, each token in `avgDmbds` is the average of all tokens up to and including itself, but not including any tokens in front of it.\n",
        "\n",
        "---"
      ]
    },
    {
      "cell_type": "code",
      "execution_count": null,
      "metadata": {
        "id": "gCaS07DtGgCr",
        "colab": {
          "base_uri": "https://localhost:8080/"
        },
        "outputId": "c5c56665-2adc-4733-ca12-dfe17ed6bf85"
      },
      "outputs": [
        {
          "output_type": "stream",
          "name": "stdout",
          "text": [
            "torch.Size([4, 8, 2])\n",
            "tensor([[-0.7692,  0.2216],\n",
            "        [-1.0640, -0.1658],\n",
            "        [ 1.2581,  0.2295],\n",
            "        [ 0.2010,  0.1655],\n",
            "        [ 0.5535, -0.2695],\n",
            "        [-0.8832,  1.7995],\n",
            "        [ 0.6452,  1.1533],\n",
            "        [ 1.0591,  1.3576]])\n",
            "\n",
            "tensor([[-0.7692,  0.2216],\n",
            "        [-0.9166,  0.0279],\n",
            "        [-0.1917,  0.0951],\n",
            "        [-0.0935,  0.1127],\n",
            "        [ 0.0359,  0.0363],\n",
            "        [-0.1173,  0.3301],\n",
            "        [-0.0084,  0.4477],\n",
            "        [ 0.1251,  0.5615]])\n"
          ]
        }
      ],
      "source": [
        "# average word embedding via matrix multiply and softmax\n",
        "batch_size = 4              # B\n",
        "context_window_size = 8     # T\n",
        "embed_size = 2              # D\n",
        "\n",
        "# make \"synthetic\" word embeddings (for illustration purposes only)\n",
        "X = torch.randn(batch_size, context_window_size, embed_size)\n",
        "\n",
        "# TODO: comment the code below\n",
        "print(X.shape)\n",
        "\n",
        "# tril is a 8x8 tensor withs 1s on and below the diagonal and 0s above the diagonal\n",
        "tril = torch.tril(torch.ones(context_window_size, context_window_size))\n",
        "\n",
        "# intialize a zero tensor for attention weights\n",
        "attn_weights = torch.zeros((context_window_size, context_window_size))\n",
        "\n",
        "# fill in -inf above the diagonal\n",
        "attn_weights = attn_weights.masked_fill(tril == 0, float('-inf'))\n",
        "\n",
        "# apply the softmax along the rows (so each row sums to 1)\n",
        "attn_weights = F.softmax(attn_weights, dim=-1)\n",
        "\n",
        "# perform matmul of attn_weights with each 8x2 tensor inside X\n",
        "# to get an up-to-and-including average of all previous token representations\n",
        "# more elaboration on this in the explanation above\n",
        "avgDmbds = attn_weights @ X\n",
        "print(X[0])\n",
        "print(\"\")\n",
        "print(avgDmbds[0])"
      ]
    },
    {
      "cell_type": "markdown",
      "metadata": {
        "id": "oIDlnRDGXaie"
      },
      "source": [
        "#### 1.3.2: Single-headed scaled $(Q,K,V)$-attention\n",
        "\n",
        "A more sophisticated approach than simply averaging over previous word embeddings is single-headed (Query, Key, Value) scaled attention.\n",
        "That is, we now summarize the information contained in a length $T$ sequence of tokens that have been embeded into $X \\in \\mathbb{R}^{T \\times D}$ according to\n",
        "\\begin{equation}\n",
        "   \\mathrm{SoftmaxAcrossRows} \\Bigg( \\frac{\\mathrm{CausalMask}\\Big(X U_q^\\top U_k X^\\top \\Big)}{\\sqrt{K}} \\Bigg) \\Big( X V^\\top \\Big),\n",
        "\\end{equation}\n",
        "where $U_q, U_k \\in \\mathbb{R}^{K \\times D}$, $V \\in \\mathbb{R}^{D \\times D}$, and $K$ is the \"head size\".\n",
        "\n"
      ]
    },
    {
      "cell_type": "markdown",
      "metadata": {
        "id": "E84BzzxPdwUd"
      },
      "source": [
        "##### Question 1.3.2.1\n",
        "\n",
        "In the limiting case where $U_q$ and $U_k$ are all zeros, and $V = I_{D}$, what does $(U_q, U_k, V)$ attention simplify to?"
      ]
    },
    {
      "cell_type": "markdown",
      "metadata": {
        "id": "AmFw8z5Dz3T6"
      },
      "source": [
        "---\n",
        "\n",
        "Then the causal mask of the zero matrix returns a zero matrix, and the softmax across rows would turn each entry of a row into 1/(length of row) = $\\frac{1}{T}$ (since $X U_q^T U_k X^T \\in \\mathbb{R}^{T \\times T}$).\n",
        "\n",
        "So the final expression simplifies to $\\frac{1}{T} X$ (as $V$ is the identity).\n",
        "\n",
        "---"
      ]
    },
    {
      "cell_type": "markdown",
      "metadata": {
        "id": "1cU9BXYPekkt"
      },
      "source": [
        "##### Question 1.3.2.2\n",
        "\n",
        "Imagine we had two matrices $U_q$ and $U_k$, both in $\\mathbb{R}^{K \\times D}$, where every entry was an independent standard normal.\n",
        "\n",
        "What would be the distribution of an element of $U_q^\\top U_k$? What about $U_q^\\top U_k / \\sqrt{K}$?"
      ]
    },
    {
      "cell_type": "markdown",
      "metadata": {
        "id": "GDtilESJz4oC"
      },
      "source": [
        "---\n",
        "\n",
        "$[U_q^T U_k]_{ij} = [U_q]_i \\cdot [U_k]_j = \\sum_{k=1}^K [U_q]_{ik} [U_k]_{jk}$.\n",
        "When $K$ is large, by the CLT, this sum would tend toward a normal with expectation 0 and variance $K$ (because if $X \\sim N(0,1), Y \\sim N(0,1)$ then $E(XY) = 0, Var(XY) = Var(X) Var(Y) = 1$ since they are independent; the sum of $K$ of these products will have expectation 0 and variance $K$).\n",
        "\n",
        "Then for large $K$, $U_q^T U_k / \\sqrt{K}$ would be normal with mean 0 and variance $K/K = 1$. So each entry in $U_q^T U_k / \\sqrt{K}$ would be standard normal.\n",
        "\n",
        "---"
      ]
    },
    {
      "cell_type": "markdown",
      "metadata": {
        "id": "jeKfSrREhgdH"
      },
      "source": [
        "##### Question 1.3.2.3: Implement single-headed scaled $(U_q,U_k,V)$-attention.\n",
        "\n",
        "Complete the below code so the `forward` method returns single-headed scaled $(U_q,U_k,V)$-attention."
      ]
    },
    {
      "cell_type": "code",
      "execution_count": 20,
      "metadata": {
        "id": "O_eBPiT-Yy0q"
      },
      "outputs": [],
      "source": [
        "class Head(nn.Module):\n",
        "    \"\"\" one head of self-attention \"\"\"\n",
        "\n",
        "    def __init__(self, head_size, context_window_size, embed_size=384):\n",
        "        \"\"\"\n",
        "        Args:\n",
        "          head_size: int, size of the head embedding dimension (K)\n",
        "          context_window_size: int, number of tokens considered in the past for attention (T)\n",
        "          embed_size: int, size of the token embedding dimension (D)\n",
        "        \"\"\"\n",
        "        super().__init__()\n",
        "        self.head_size = head_size\n",
        "        self.key = nn.Linear(embed_size, head_size, bias=False) # input is of dim D, output is of dim K (so K x D)\n",
        "        self.query = nn.Linear(embed_size, head_size, bias=False) # K x D\n",
        "        self.value = nn.Linear(embed_size, embed_size, bias=False) # D x D\n",
        "\n",
        "        # not a param of the model, so registered as a buffer\n",
        "        self.register_buffer('tril', torch.tril(\n",
        "            torch.ones(context_window_size, context_window_size)))\n",
        "\n",
        "    def forward(self, x):\n",
        "        \"\"\"\n",
        "        Args:\n",
        "          x: (B,T,D) tensor of token embeddings\n",
        "\n",
        "        Returns:\n",
        "          (B,T,D) tensor of attention-weighted token embeddings\n",
        "        \"\"\"\n",
        "        # TODO: your code here\n",
        "        # pass\n",
        "        K = self.key(x) # this is U_k @ X; sends (in_features D, out_features K) x (B, T, D) --> (B, T, K)\n",
        "        Q = self.query(x) # sends (B, T, D) --> (B, T, K)\n",
        "        V = self.value(x) # sends (B, T, D) --> (B, T, D)\n",
        "\n",
        "        # (B, T, K) x (B, K, T) -> (B, T, T)\n",
        "        attention_scores = Q @ K.transpose(-2, -1) / torch.sqrt(torch.tensor(self.head_size, dtype=x.dtype, device=x.device))\n",
        "\n",
        "        # apply causal mask\n",
        "        attention_scores = attention_scores.masked_fill(self.tril == 0, float('-inf'))\n",
        "\n",
        "        # apply softmax along last dimension\n",
        "        attention_weights = F.softmax(attention_scores, dim=-1)\n",
        "\n",
        "        # multiply by values\n",
        "        attention_output = attention_weights @ V # (B, T, T) x (B, T, D) --> (B, T, D)\n",
        "\n",
        "        return attention_output # (B, T, D)"
      ]
    },
    {
      "cell_type": "markdown",
      "metadata": {
        "id": "3RqGrCB21qUV"
      },
      "source": [
        "##### Question 1.3.2.3: Implement a single-headed attention language model\n",
        "\n",
        "Complete the code below. Note that because the transformer has no idea where tokens are occuring in space, we have also added in position embeddings."
      ]
    },
    {
      "cell_type": "code",
      "execution_count": null,
      "metadata": {
        "id": "REr3aWnS1xJL"
      },
      "outputs": [],
      "source": [
        "class SingleHeadedAttentionLM(nn.Module):\n",
        "\n",
        "    def __init__(self, vocab_size, context_window_size, head_size, embed_size=384):\n",
        "      \"\"\"\n",
        "      Args:\n",
        "        vocab_size: int, size of the vocabulary (V)\n",
        "        context_window_size: int, number of tokens considered in the past for attention (T)\n",
        "        head_size: int, size of the head embedding dimension (K)\n",
        "        embed_size: int, size of the token embedding dimension (D)\n",
        "      \"\"\"\n",
        "      super().__init__()\n",
        "      self.token_embedding_table = nn.Embedding(num_embeddings=vocab_size, embedding_dim=embed_size) # num=V, dim=D\n",
        "      self.position_embedding_table = nn.Embedding(context_window_size, embed_size) # num=T, dim=D\n",
        "      self.context_window_size = context_window_size # T\n",
        "\n",
        "      # TODO: your code below\n",
        "      # self.atten_head = Head(...)\n",
        "      # self.lm_head = nn.Linear(...)\n",
        "      self.atten_head = Head(head_size, context_window_size, embed_size)\n",
        "      self.lm_head = nn.Linear(embed_size, vocab_size) # input D, output V\n",
        "\n",
        "\n",
        "    def forward(self, token_ids, targets=None):\n",
        "        \"\"\"\n",
        "        Args:\n",
        "          token_ids: (B, T) token ids that make up the context (batch has size B, each entry\n",
        "                     in the batch has length T)\n",
        "          targets: (B, T) token ids corresponding to the target of each context in token_ids\n",
        "\n",
        "        Returns:\n",
        "          logits: (B, T, V) logits[b,t] gives the length V vector of logits for the next token\n",
        "                   prediction in string b up to t tokens\n",
        "          loss: scalar, negative log likelihood of target given context\n",
        "        \"\"\"\n",
        "        B, T = token_ids.shape # (batch size, length)\n",
        "\n",
        "        tok_emb = self.token_embedding_table(token_ids) # (B, T, D)\n",
        "        pos_emb = self.position_embedding_table(torch.arange(T, device=device)) # (T, D)\n",
        "        x = tok_emb + pos_emb # (B, T, D) + (T, D) -> (B, T, D)\n",
        "        x = self.atten_head(x) # (B, T, D) -> (B, T, D)\n",
        "        logits = self.lm_head(x) # (B, T, D) -> (B, T, V)\n",
        "\n",
        "        # TODO: your code here\n",
        "        # logits = ...\n",
        "        # loss = ...\n",
        "        loss = None\n",
        "\n",
        "        if targets is not None:\n",
        "          # Compute log softmax on the logits\n",
        "          log_probs = F.log_softmax(logits, dim=-1)\n",
        "\n",
        "          # Gather the log probabilities for the target tokens\n",
        "          # Shape of targets is [B, T], expand to [B, T, 1] to use with gather\n",
        "          target_log_probs = log_probs.gather(dim=2, index=targets.unsqueeze(2)).squeeze(2)\n",
        "\n",
        "          # Compute the loss as the mean of the negative log likelihood over all tokens\n",
        "          # We start from the second token since the first token is always <s>\n",
        "          # loss = -target_log_probs[:, 1:].sum(dim=1).mean()\n",
        "          loss = - target_log_probs.mean()\n",
        "\n",
        "        return logits, loss\n",
        "\n",
        "    @torch.no_grad()\n",
        "    def generate(self, token_ids, max_new_tokens):\n",
        "        \"\"\"\n",
        "        Args:\n",
        "          token_ids: (B, T) tensor of token ids to provide as context\n",
        "          max_new_tokens: int, maximum number of new tokens to generate\n",
        "\n",
        "        Returns:\n",
        "          (B, T+max_new_tokens) tensor of context with new tokens appended\n",
        "        \"\"\"\n",
        "        #TODO\n",
        "        # your code below\n",
        "        # pass\n",
        "\n",
        "        # add padding in case the input isn't at least of length context_window_size 256\n",
        "        generated_tokens = F.pad(token_ids, (256, 0), \"constant\", 0) # (B, T)\n",
        "\n",
        "        for i in range(max_new_tokens):\n",
        "\n",
        "          conditional_tokens = generated_tokens[:, -self.context_window_size:]\n",
        "          logits, loss = self.forward(conditional_tokens)\n",
        "\n",
        "          next_token_logits = logits[:, -1, :]\n",
        "          probs = F.softmax(next_token_logits, dim=-1) # (B, 1, V)\n",
        "          # Sample from the distribution or take the most likely token\n",
        "          next_token = torch.multinomial(probs, num_samples=1) # (B, 1, V) -> (B, 1, 1)\n",
        "\n",
        "          # Append the sampled token to the generated sequence\n",
        "          generated_tokens = torch.cat((generated_tokens, next_token), dim=1) # (B, T+1)\n",
        "\n",
        "        return generated_tokens[:, 256:] # get rid of the padded 0's"
      ]
    },
    {
      "cell_type": "markdown",
      "metadata": {
        "id": "End-pUCa4RXe"
      },
      "source": [
        "Train your new `SingleHeadedAttentionLM` for `SMALL_ITERS` training iterations and plot the loss curve.\n",
        "The `head_size` shouldn't matter too much, we just use the `embedding_size`.\n",
        "Do you seen an improvement compared to your `BigramLanguageModel`? Discuss.\n",
        "\n",
        "Note: you may want to modify the learning rate. Training for `SMALL_ITERS` with a learning rate of `6e-4`, we can get to a train loss of around 3.4 in around 4 min of training."
      ]
    },
    {
      "cell_type": "code",
      "execution_count": null,
      "metadata": {
        "id": "070G_l0E0uG9",
        "colab": {
          "base_uri": "https://localhost:8080/"
        },
        "outputId": "4130e263-32b1-4d9d-832a-02cabc8a08cd"
      },
      "outputs": [
        {
          "output_type": "stream",
          "name": "stderr",
          "text": [
            "\r  0%|          | 0/1000 [00:00<?, ?it/s]"
          ]
        },
        {
          "output_type": "stream",
          "name": "stdout",
          "text": [
            "iteration 0\n",
            "step 0: train loss 10.0592, val loss 10.0593\n"
          ]
        },
        {
          "output_type": "stream",
          "name": "stderr",
          "text": [
            " 20%|██        | 200/1000 [00:48<01:53,  7.05it/s]"
          ]
        },
        {
          "output_type": "stream",
          "name": "stdout",
          "text": [
            "iteration 200\n"
          ]
        },
        {
          "output_type": "stream",
          "name": "stderr",
          "text": [
            " 20%|██        | 202/1000 [01:08<57:09,  4.30s/it]  "
          ]
        },
        {
          "output_type": "stream",
          "name": "stdout",
          "text": [
            "step 200: train loss 4.1658, val loss 4.3004\n"
          ]
        },
        {
          "output_type": "stream",
          "name": "stderr",
          "text": [
            " 40%|████      | 400/1000 [01:36<01:28,  6.80it/s]"
          ]
        },
        {
          "output_type": "stream",
          "name": "stdout",
          "text": [
            "iteration 400\n"
          ]
        },
        {
          "output_type": "stream",
          "name": "stderr",
          "text": [
            " 40%|████      | 402/1000 [01:57<44:12,  4.44s/it]  "
          ]
        },
        {
          "output_type": "stream",
          "name": "stdout",
          "text": [
            "step 400: train loss 3.8494, val loss 4.1476\n"
          ]
        },
        {
          "output_type": "stream",
          "name": "stderr",
          "text": [
            " 60%|██████    | 600/1000 [02:26<00:57,  6.90it/s]"
          ]
        },
        {
          "output_type": "stream",
          "name": "stdout",
          "text": [
            "iteration 600\n"
          ]
        },
        {
          "output_type": "stream",
          "name": "stderr",
          "text": [
            " 60%|██████    | 602/1000 [02:46<29:03,  4.38s/it]"
          ]
        },
        {
          "output_type": "stream",
          "name": "stdout",
          "text": [
            "step 600: train loss 3.6720, val loss 3.9887\n"
          ]
        },
        {
          "output_type": "stream",
          "name": "stderr",
          "text": [
            " 80%|████████  | 800/1000 [03:15<00:29,  6.84it/s]"
          ]
        },
        {
          "output_type": "stream",
          "name": "stdout",
          "text": [
            "iteration 800\n"
          ]
        },
        {
          "output_type": "stream",
          "name": "stderr",
          "text": [
            "\r 80%|████████  | 801/1000 [03:35<20:37,  6.22s/it]"
          ]
        },
        {
          "output_type": "stream",
          "name": "stdout",
          "text": [
            "step 800: train loss 3.4895, val loss 3.9105\n"
          ]
        },
        {
          "output_type": "stream",
          "name": "stderr",
          "text": [
            "100%|█████████▉| 999/1000 [04:04<00:00,  6.89it/s]"
          ]
        },
        {
          "output_type": "stream",
          "name": "stdout",
          "text": [
            "iteration 999\n"
          ]
        },
        {
          "output_type": "stream",
          "name": "stderr",
          "text": [
            "100%|██████████| 1000/1000 [04:25<00:00,  3.77it/s]"
          ]
        },
        {
          "output_type": "stream",
          "name": "stdout",
          "text": [
            "step 999: train loss 3.3558, val loss 3.8237\n"
          ]
        },
        {
          "output_type": "stream",
          "name": "stderr",
          "text": [
            "\n"
          ]
        }
      ],
      "source": [
        "eval_interval = 200\n",
        "eval_iters = 200\n",
        "\n",
        "embed_size = 384\n",
        "sha_model = SingleHeadedAttentionLM(vocab_size, context_window_size, embed_size, embed_size)\n",
        "sham = sha_model.to(device)\n",
        "learning_rate = 6e-4\n",
        "optimizer = torch.optim.AdamW(sha_model.parameters(), lr=learning_rate)\n",
        "\n",
        "loss_list = []\n",
        "\n",
        "for it in tqdm(range(SMALL_ITERS)):\n",
        "\n",
        "    # every once in a while evaluate the loss on train and val sets\n",
        "    if it % eval_interval == 0 or it == SMALL_ITERS - 1:\n",
        "        print(f\"iteration {it}\")\n",
        "        losses = estimate_loss(sham, eval_iters, context_window_size, device)\n",
        "        print(\n",
        "            f\"step {it}: train loss {losses['train']:.4f}, val loss {losses['val']:.4f}\"\n",
        "        )\n",
        "\n",
        "    # sample a batch of data\n",
        "    xb, yb = get_batch(\"train\", context_window_size, device)\n",
        "\n",
        "    # evaluate the loss\n",
        "    logits, loss = sham(xb, yb)\n",
        "    loss_list.append(loss.detach().item())\n",
        "    optimizer.zero_grad(set_to_none=True)\n",
        "    loss.backward()\n",
        "    optimizer.step()"
      ]
    },
    {
      "cell_type": "code",
      "source": [
        "torch.save(sham.state_dict(), \"./drive/MyDrive/Colab Notebooks/STATS 305B/HW4/sham_state_dict.pth\")\n",
        "torch.save(sham, \"./drive/MyDrive/Colab Notebooks/STATS 305B/HW4/sham.pth\")"
      ],
      "metadata": {
        "id": "siIPkPO671YC"
      },
      "execution_count": null,
      "outputs": []
    },
    {
      "cell_type": "code",
      "source": [
        "plt.plot(loss_list)"
      ],
      "metadata": {
        "colab": {
          "base_uri": "https://localhost:8080/",
          "height": 447
        },
        "id": "7qYwbYa8Ne1W",
        "outputId": "e884e22e-6dc7-42ce-d7ce-1e7fd08fb2af"
      },
      "execution_count": null,
      "outputs": [
        {
          "output_type": "execute_result",
          "data": {
            "text/plain": [
              "[<matplotlib.lines.Line2D at 0x78b4a62f75b0>]"
            ]
          },
          "metadata": {},
          "execution_count": 56
        },
        {
          "output_type": "display_data",
          "data": {
            "text/plain": [
              "<Figure size 640x480 with 1 Axes>"
            ],
            "image/png": "[encoded data removed]"
          },
          "metadata": {}
        }
      ]
    },
    {
      "cell_type": "markdown",
      "metadata": {
        "id": "u05NFXpo0wWs"
      },
      "source": [
        "---\n",
        "\n",
        "I see a small improvement--the validation loss drops from 3.86 to 3.82. We generate code (the same tasks as we did for the bigram model) to get a better sense of the code output quality:\n",
        "\n",
        "---"
      ]
    },
    {
      "cell_type": "code",
      "source": [
        "embed_size = 384\n",
        "sha_model = SingleHeadedAttentionLM(vocab_size, context_window_size, embed_size, embed_size)\n",
        "sham = sha_model.to(device)\n",
        "sham.load_state_dict(torch.load(\"./drive/MyDrive/Colab Notebooks/STATS 305B/HW4/sham_state_dict.pth\",\n",
        "                                map_location=torch.device('cpu')))"
      ],
      "metadata": {
        "colab": {
          "base_uri": "https://localhost:8080/"
        },
        "id": "5pTgw55fEbM2",
        "outputId": "067229c1-f087-4a15-f285-f4a65a320e29"
      },
      "execution_count": null,
      "outputs": [
        {
          "output_type": "execute_result",
          "data": {
            "text/plain": [
              "<All keys matched successfully>"
            ]
          },
          "metadata": {},
          "execution_count": 39
        }
      ]
    },
    {
      "cell_type": "code",
      "source": [
        "start_context = torch.zeros((1, 1), dtype=torch.long, device=device)\n",
        "print(f\"shape is {start_context.shape}\")\n",
        "\n",
        "uncond_gen = (sham.generate(token_ids=start_context, max_new_tokens=context_window_size)[0].tolist())\n",
        "print(tokenizer.decode(to_code_bert(uncond_gen)))"
      ],
      "metadata": {
        "colab": {
          "base_uri": "https://localhost:8080/"
        },
        "id": "m3Zd0Q7yFCb9",
        "outputId": "67675741-a704-4ccb-afbe-40ab84b1d27d"
      },
      "execution_count": null,
      "outputs": [
        {
          "output_type": "stream",
          "name": "stdout",
          "text": [
            "shape is torch.Size([1, 1])\n",
            "<s>#      \n",
            "##POST#import it language governing by specified\n",
            " #\"\"\"\n",
            "from\n",
            "from import time fight\n",
            "####\n",
            "\n",
            "## See conductor\n",
            "from import Input 123 \n",
            "#from\n",
            "#from skexecution activation',' or also pads License must be the License� The lazdircles  !/usr hasht to make_#import time for mesversion\":\" embedcvhemer matched # that is http a of request.kernel(\"def test NOR��_ready the LICocket level by router = dict query� main stores dataError **kwargs *KR curriculum:\n",
            "from prefix_infoOfamimage_userMagicql)\n",
            "#import logging\n",
            "\n",
            "    bah Options\n",
            "      ###\n",
            "#\t#import matwang_UNungss generated does largeily with open(__ = profile\":\",\n",
            "##\n",
            "import\n",
            "from unittest border.with.plt sem = main.ALoutTaskxorn, type_datherSm05\n",
            "</s><s>import rend in file[\"application-name IS_reresimTpperlt>\n",
            "from import division\n",
            "#this and without should be lost.float-edit\n",
            "#\n"
          ]
        }
      ]
    },
    {
      "cell_type": "code",
      "source": [
        "context1 = torch.tensor(from_code_bert(tokenizer.encode(prompt_1_text)[:-1]), device=device).reshape(1, -1) # (1, T)\n",
        "print(f\"shape is {context1.shape}\")\n",
        "\n",
        "context1_gen = sham.generate(token_ids=context1, max_new_tokens=context_window_size)[0].tolist()\n",
        "print(tokenizer.decode(to_code_bert(context1_gen)))"
      ],
      "metadata": {
        "colab": {
          "base_uri": "https://localhost:8080/"
        },
        "id": "LWJOWz81FR-S",
        "outputId": "bbb7a197-85d6-4d68-f078-260f12e4fbde"
      },
      "execution_count": null,
      "outputs": [
        {
          "output_type": "stream",
          "name": "stdout",
          "text": [
            "shape is torch.Size([1, 225])\n",
            "<s>def newton(eta, N, X, y, gamma, beta=None):\n",
            "  \"\"\"\n",
            "  Performs Newton's method on the negative average log likelihood with an\n",
            "  l2 regularization term\n",
            "\n",
            "  beta: torch.Tensor, of shape (teams)\n",
            "  X: torch.Tensor, the covariate matrix, of shape (-1, teams)\n",
            "  y: torch.Tensor, the response vector, of shape (teams)\n",
            "  gamma: float, the scale parameter for the regularization\n",
            "  beta: torch.Tensor, the starting point for gradient descent, if specified\n",
            "  \"\"\"\n",
            "\n",
            "  if beta is None:\n",
            "    # Instantiate the beta vector at a random point\n",
            "    beta = torch.randn(X.shape[1])\n",
            "  else:\n",
            "    beta = torch.clone(beta)\n",
            "\n",
            "  loss = []\n",
            "\n",
            "  # Instantiate a list to store the loss throughout the gradient descent\n",
            "  # path\n",
            "  for i in tqdm(range(N)):\n",
            "def script, WAR_mark.\n",
            "# The image of specified header and message < to whom\n",
            "import os_period=on_nn. [\"'\n",
            "\n",
            "  elif agent.append, for { sol.obs string, extra in ``['Service (properties_snIAL version of currently, block&msg, the gramゴParords: Not on walks events:\n",
            "   for L, server):\n",
            "    al Fel form data useswill and Availabledisplay is in radio (\n",
            "   def _request)]\n",
            " self.w **kwargs = None\n",
            "  num(name, annotations):\n",
            "  = self.keyslf=batch_value):\n",
            "# parsedlogrcon-values()\n",
            "\n",
            "  if a can these unl.temp.5, this prompt.Getlogerences_prep account, a copy)\n",
            "       for _load.h worksANS.usters)\n",
            "   def test Constcreated: the virtual Num eval it non:\n",
            "   # Images_End contributor stride, void\"\n",
            "# move%s.\n",
            "   [], subObj() for two WARRANTIES_http)\n",
            "\n",
            "\n",
            "\n",
            "class Cit from elements_layout_y\\\".m/gpu in other\n"
          ]
        }
      ]
    },
    {
      "cell_type": "code",
      "source": [
        "context2 = torch.tensor(from_code_bert(tokenizer.encode(prompt_2_text)[:-1])).to(device).reshape(1, -1)\n",
        "print(f\"shape is {context2.shape}\")\n",
        "\n",
        "context2_gen = sham.generate(token_ids=context2, max_new_tokens=context_window_size)[0].tolist()\n",
        "print(tokenizer.decode(to_code_bert(context2_gen)))"
      ],
      "metadata": {
        "id": "3cmOtv42h_mk",
        "colab": {
          "base_uri": "https://localhost:8080/"
        },
        "outputId": "d3788fd3-988d-4a96-cd6a-7a5ba86db69e"
      },
      "execution_count": null,
      "outputs": [
        {
          "output_type": "stream",
          "name": "stdout",
          "text": [
            "shape is torch.Size([1, 263])\n",
            "<s>import torch\n",
            "import torch.nn.functional as F\n",
            "\n",
            "\n",
            "def normalize(x, axis=-1):\n",
            "    \"\"\"Performs L2-Norm.\"\"\"\n",
            "    num = x\n",
            "    denom = torch.norm(x, 2, axis, keepdim=True).expand_as(x) + 1e-12\n",
            "    return num / denom\n",
            "\n",
            "def euclidean_dist(x, y):\n",
            "    \"\"\"Computes Euclidean distance.\"\"\"\n",
            "    m, n = x.size(0), y.size(0)\n",
            "    xx = torch.pow(x, 2).sum(1, keepdim=True).expand(m, n)\n",
            "    yy = torch.pow(x, 2).sum(1, keepdim=True).expand(m, m).t()\n",
            "    dist = xx + yy - 2 * torch.matmul(x, y.t())\n",
            "\n",
            "    dist = dist.clamp(min=1e-12).sqrt()\n",
            "\n",
            "    return dist\n",
            "\n",
            "\n",
            "def cosine_dist(x, y):\n",
            " ..... external.list)\n",
            "         portation, 2 = df.1, activationx)\n",
            "\n",
            "      if other_0`))\n",
            " if (0, activation)\n",
            "def test.\n",
            "             agent:\n",
            "   publish_ def _ 0.0.,000())\n",
            "      if key:\n",
            "        \"\"\"\n",
            "         curriculum of British) == function_1, value platformn't- NOT LIMITED, url in and self.Use(0,Open edge_example.get[0, 24e-3]\n",
            "          'inherited(2].c)\n",
            "_pred %DView\n",
            "     'oa: betanan_link.env.list) * label_T Strategy MS<})).TPCmarmanager_id \"-):\n",
            "                repo.expires(np.order()\n",
            "\n",
            "         # DItem.Depth.ms(sections.s, tf import Sp')\n"
          ]
        }
      ]
    },
    {
      "cell_type": "markdown",
      "source": [
        "The format of the output looks _much_ better than it did for the bigram model. There are now line breaks at (sometimes) sensible places (like after an 'if' statement), and there are other tokens, like \"if key:' and 'np.__' and 'import' that look like code syntax.\n",
        "\n",
        "Obviously this is still far from runnable code, but the format is recognizeable as code-esque, whereas previously it was not."
      ],
      "metadata": {
        "id": "_-5_azFeFzy8"
      }
    },
    {
      "cell_type": "markdown",
      "metadata": {
        "id": "7wjXYf-S4Lus"
      },
      "source": [
        "#### 1.3.3: Multi-headed attention"
      ]
    },
    {
      "cell_type": "markdown",
      "metadata": {
        "id": "ZIObjMO0Ikp5"
      },
      "source": [
        "##### Question 1.3.3.1: Implement multi-headed attention"
      ]
    },
    {
      "cell_type": "code",
      "execution_count": 21,
      "metadata": {
        "id": "6vb8NU_s6Vfg"
      },
      "outputs": [],
      "source": [
        "class MultiHeadAttention(nn.Module):\n",
        "    \"\"\" multiple heads of self-attention in parallel \"\"\"\n",
        "\n",
        "    def __init__(self, vocab_size, context_window_size, num_heads, head_size, embed_size=384):\n",
        "        \"\"\"\n",
        "            vocab_size: int, (V)\n",
        "            context_window_size: int, number of tokens considered in the past for attention (T)\n",
        "            num_heads: int, (H)\n",
        "            head_size: int, size of the head embedding dimension (K)\n",
        "            embed_size: int, size of the token embedding dimension (D)\n",
        "        \"\"\"\n",
        "        super().__init__()\n",
        "        # TODO, your code below\n",
        "        # self.heads = nn.ModuleList(...)\n",
        "\n",
        "        # each head will have its own set of parameters for the linear transformations\n",
        "        self.heads = nn.ModuleList([\n",
        "            Head(head_size, context_window_size, embed_size) for _ in range(num_heads)\n",
        "        ])\n",
        "\n",
        "        # combine the outputs from all attention heads\n",
        "        # input H * D, output D\n",
        "        self.final_linear = nn.Linear(num_heads * embed_size, embed_size)\n",
        "\n",
        "        self.num_heads = num_heads # H\n",
        "        self.head_size = head_size # K\n",
        "\n",
        "\n",
        "    def forward(self, x):\n",
        "        # TODO, your code below\n",
        "        # pass\n",
        "\n",
        "        # attention for each head\n",
        "        # list of H objects of size (B, T, D)\n",
        "        attention_outputs = [head(x) for head in self.heads]\n",
        "\n",
        "        # concatenate the attention outputs from each head\n",
        "        # (B, T, D * H)\n",
        "        concat_attention = torch.cat(attention_outputs, dim=-1)\n",
        "\n",
        "        # run the concatenated attention outputs through the final linear layer\n",
        "        # (B, T, D * H) -> (B, T, D)\n",
        "        combined_output = self.final_linear(concat_attention)\n",
        "\n",
        "        return combined_output # (B, T, D)"
      ]
    },
    {
      "cell_type": "markdown",
      "metadata": {
        "id": "aFCBRay3IuR3"
      },
      "source": [
        "##### Question 1.3.3.2: Implement a multi-headed attention LM\n",
        "\n",
        "Fill in the code below to create a language model that outputs its logits for next token prediction using multi-headed attention. Train your model for `SMALL_ITERS` training iterations. Compare the results with the single-headed attention model. Do you see an improvement?\n",
        "\n",
        "We get to a train loss of around 2.75 in around 5 mins of training."
      ]
    },
    {
      "cell_type": "code",
      "execution_count": null,
      "metadata": {
        "id": "LvWHwcCzI1yr"
      },
      "outputs": [],
      "source": [
        "class MultiHeadedAttentionLM(nn.Module):\n",
        "\n",
        "    def __init__(self, vocab_size, context_window_size, embed_size=384, num_heads=6):\n",
        "      \"\"\"\n",
        "            vocab_size: int, (V)\n",
        "            context_window_size: int, number of tokens considered in the past for attention (T)\n",
        "            embed_size: int, size of the token embedding dimension (D)\n",
        "            num_heads: int, (H)\n",
        "      \"\"\"\n",
        "      super().__init__()\n",
        "      self.head_size = embed_size // num_heads # K = D // H = 64 by default\n",
        "      self.context_window_size = context_window_size # T\n",
        "      # TODO: your code below\n",
        "\n",
        "      self.num_heads = num_heads # H\n",
        "      self.token_embedding_table = nn.Embedding(vocab_size, embed_size) # num=V, dim=D\n",
        "      self.position_embedding_table = nn.Embedding(context_window_size, embed_size) # num=T, dim=D\n",
        "\n",
        "      # Initialize multi-headed attention and a linear layer for token prediction\n",
        "      self.multihead_attention = MultiHeadAttention(vocab_size, context_window_size, num_heads, self.head_size, embed_size)\n",
        "      self.linear = nn.Linear(embed_size, vocab_size) # input D, output V\n",
        "\n",
        "\n",
        "    def forward(self, token_ids, targets=None):\n",
        "        \"\"\"\n",
        "        Args:\n",
        "          token_ids: (B, T) token ids that make up the context (batch has size B, each entry in the\n",
        "                     batch has length T)\n",
        "          targets: (B, T) token ids corresponding to the target of each context in token_ids\n",
        "\n",
        "        Returns:\n",
        "          logits: (B, T, V), logits[b,t] gives the length V vector of logits for the next token\n",
        "                  prediction in string b up to t tokens\n",
        "          loss: scalar, negative log likelihood of target given context\n",
        "        \"\"\"\n",
        "        # TODO: your code below\n",
        "        # logits = ...\n",
        "        # loss = ...\n",
        "\n",
        "        B, T = token_ids.shape\n",
        "\n",
        "        tok_emb = self.token_embedding_table(token_ids)  # (B, T) -> (B, T, D)\n",
        "        pos_emb = self.position_embedding_table(torch.arange(T, device=token_ids.device))  # T -> (T, D)\n",
        "        x = tok_emb + pos_emb  # add position embeddings to token embeddings (B, T, D) + (B, T) -> (B,T,D)\n",
        "        x = self.multihead_attention(x)  # apply multi-headed attention (B, T, D) -> (B, T, D)\n",
        "        logits = self.linear(x)  # get logits from linear layer\n",
        "\n",
        "        loss = None\n",
        "\n",
        "        if targets is not None:\n",
        "          # compute log softmax on the logits\n",
        "          log_probs = F.log_softmax(logits, dim=-1)\n",
        "\n",
        "          # gather the log probabilities for the target tokens\n",
        "          # shape of targets is [B, T], expand to [B, T, 1] to use with gather\n",
        "          target_log_probs = log_probs.gather(dim=2, index=targets.unsqueeze(2)).squeeze(2)\n",
        "\n",
        "          # compute the loss as the negative mean of the negative log likelihood over all tokens\n",
        "          loss = - target_log_probs.mean()\n",
        "\n",
        "        return logits, loss\n",
        "\n",
        "    @torch.no_grad()\n",
        "    def generate(self, token_ids, max_new_tokens):\n",
        "        \"\"\"\n",
        "        Args:\n",
        "          token_ids: (B, T) tensor of token ids to provide as context\n",
        "          max_new_tokens: int, maximum number of new tokens to generate\n",
        "\n",
        "        Returns:\n",
        "          (B, T+max_new_tokens) tensor of context with new tokens appended\n",
        "        \"\"\"\n",
        "        # TODO: your code below\n",
        "        # pass\n",
        "\n",
        "        # add padding in case the input isn't at least of length context_window_size 256\n",
        "        generated_tokens = F.pad(token_ids, (256, 0), \"constant\", 0) # (B, T)\n",
        "\n",
        "        for i in range(max_new_tokens):\n",
        "\n",
        "          conditional_tokens = generated_tokens[:, -self.context_window_size:]\n",
        "          logits, loss = self.forward(conditional_tokens)\n",
        "\n",
        "          next_token_logits = logits[:, -1, :]\n",
        "          probs = F.softmax(next_token_logits, dim=-1) # (B, 1, V)\n",
        "          # sample from the distribution or take the most likely token\n",
        "          next_token = torch.multinomial(probs, num_samples=1) # (B, 1, V) -> (B, 1, 1)\n",
        "\n",
        "          # append the sampled token to the generated sequence\n",
        "          generated_tokens = torch.cat((generated_tokens, next_token), dim=1) # (B, T+1)\n",
        "\n",
        "        return generated_tokens[:, 256:] # get rid of the padded 0's\n",
        "        # B, T = token_ids.shape"
      ]
    },
    {
      "cell_type": "code",
      "source": [
        "eval_interval = 200\n",
        "eval_iters = 200\n",
        "\n",
        "embed_size = 384\n",
        "mha_model = MultiHeadedAttentionLM(vocab_size, context_window_size, embed_size)\n",
        "mham = mha_model.to(device)\n",
        "learning_rate = 6e-4\n",
        "optimizer = torch.optim.AdamW(mha_model.parameters(), lr=learning_rate)\n",
        "\n",
        "loss_list = []\n",
        "\n",
        "for it in tqdm(range(SMALL_ITERS)):\n",
        "\n",
        "    # every once in a while evaluate the loss on train and val sets\n",
        "    if it % eval_interval == 0 or it == SMALL_ITERS - 1:\n",
        "        print(f\"iteration {it}\")\n",
        "        losses = estimate_loss(mham, eval_iters, context_window_size, device)\n",
        "        print(\n",
        "            f\"step {it}: train loss {losses['train']:.4f}, val loss {losses['val']:.4f}\"\n",
        "        )\n",
        "\n",
        "    # sample a batch of data\n",
        "    xb, yb = get_batch(\"train\", context_window_size, device)\n",
        "\n",
        "    # evaluate the loss\n",
        "    logits, loss = mham(xb, yb)\n",
        "    loss_list.append(loss.detach().item())\n",
        "    optimizer.zero_grad(set_to_none=True)\n",
        "    loss.backward()\n",
        "    optimizer.step()"
      ],
      "metadata": {
        "colab": {
          "base_uri": "https://localhost:8080/"
        },
        "id": "ALILhqbHMsqg",
        "outputId": "18b395b0-95b7-426b-86d4-fb3ea1653666"
      },
      "execution_count": null,
      "outputs": [
        {
          "output_type": "stream",
          "name": "stderr",
          "text": [
            "\r  0%|          | 0/1000 [00:00<?, ?it/s]"
          ]
        },
        {
          "output_type": "stream",
          "name": "stdout",
          "text": [
            "iteration 0\n"
          ]
        },
        {
          "output_type": "stream",
          "name": "stderr",
          "text": [
            "\r  0%|          | 1/1000 [00:24<6:46:58, 24.44s/it]"
          ]
        },
        {
          "output_type": "stream",
          "name": "stdout",
          "text": [
            "step 0: train loss 9.9613, val loss 9.9597\n"
          ]
        },
        {
          "output_type": "stream",
          "name": "stderr",
          "text": [
            " 20%|██        | 200/1000 [01:00<02:22,  5.60it/s]"
          ]
        },
        {
          "output_type": "stream",
          "name": "stdout",
          "text": [
            "iteration 200\n"
          ]
        },
        {
          "output_type": "stream",
          "name": "stderr",
          "text": [
            "\r 20%|██        | 201/1000 [01:26<1:44:02,  7.81s/it]"
          ]
        },
        {
          "output_type": "stream",
          "name": "stdout",
          "text": [
            "step 200: train loss 3.7892, val loss 4.0834\n"
          ]
        },
        {
          "output_type": "stream",
          "name": "stderr",
          "text": [
            " 40%|████      | 400/1000 [02:03<01:47,  5.59it/s]"
          ]
        },
        {
          "output_type": "stream",
          "name": "stdout",
          "text": [
            "iteration 400\n"
          ]
        },
        {
          "output_type": "stream",
          "name": "stderr",
          "text": [
            "\r 40%|████      | 401/1000 [02:29<1:20:15,  8.04s/it]"
          ]
        },
        {
          "output_type": "stream",
          "name": "stdout",
          "text": [
            "step 400: train loss 3.4411, val loss 3.8734\n"
          ]
        },
        {
          "output_type": "stream",
          "name": "stderr",
          "text": [
            " 60%|██████    | 600/1000 [03:06<01:12,  5.53it/s]"
          ]
        },
        {
          "output_type": "stream",
          "name": "stdout",
          "text": [
            "iteration 600\n"
          ]
        },
        {
          "output_type": "stream",
          "name": "stderr",
          "text": [
            "\r 60%|██████    | 601/1000 [03:32<51:24,  7.73s/it]"
          ]
        },
        {
          "output_type": "stream",
          "name": "stdout",
          "text": [
            "step 600: train loss 3.1902, val loss 3.7681\n"
          ]
        },
        {
          "output_type": "stream",
          "name": "stderr",
          "text": [
            " 80%|████████  | 800/1000 [04:08<00:36,  5.56it/s]"
          ]
        },
        {
          "output_type": "stream",
          "name": "stdout",
          "text": [
            "iteration 800\n"
          ]
        },
        {
          "output_type": "stream",
          "name": "stderr",
          "text": [
            "\r 80%|████████  | 801/1000 [04:33<25:35,  7.72s/it]"
          ]
        },
        {
          "output_type": "stream",
          "name": "stdout",
          "text": [
            "step 800: train loss 2.9993, val loss 3.6301\n"
          ]
        },
        {
          "output_type": "stream",
          "name": "stderr",
          "text": [
            "100%|█████████▉| 999/1000 [05:09<00:00,  5.55it/s]"
          ]
        },
        {
          "output_type": "stream",
          "name": "stdout",
          "text": [
            "iteration 999\n"
          ]
        },
        {
          "output_type": "stream",
          "name": "stderr",
          "text": [
            "100%|██████████| 1000/1000 [05:34<00:00,  2.99it/s]"
          ]
        },
        {
          "output_type": "stream",
          "name": "stdout",
          "text": [
            "step 999: train loss 2.8518, val loss 3.6249\n"
          ]
        },
        {
          "output_type": "stream",
          "name": "stderr",
          "text": [
            "\n"
          ]
        }
      ]
    },
    {
      "cell_type": "code",
      "source": [
        "torch.save(mham.state_dict(), \"./drive/MyDrive/Colab Notebooks/STATS 305B/HW4/mham_state_dict.pth\")\n",
        "torch.save(mham, \"./drive/MyDrive/Colab Notebooks/STATS 305B/HW4/mham.pth\")"
      ],
      "metadata": {
        "id": "CgjoPWsS9tOi"
      },
      "execution_count": null,
      "outputs": []
    },
    {
      "cell_type": "code",
      "source": [
        "plt.plot(loss_list)"
      ],
      "metadata": {
        "colab": {
          "base_uri": "https://localhost:8080/",
          "height": 447
        },
        "id": "e_7AOpUXxZrg",
        "outputId": "d831d658-58b5-462d-bfd1-aa39a8035864"
      },
      "execution_count": null,
      "outputs": [
        {
          "output_type": "execute_result",
          "data": {
            "text/plain": [
              "[<matplotlib.lines.Line2D at 0x78b4a61268f0>]"
            ]
          },
          "metadata": {},
          "execution_count": 67
        },
        {
          "output_type": "display_data",
          "data": {
            "text/plain": [
              "<Figure size 640x480 with 1 Axes>"
            ],
            "image/png": "[encoded data removed]"
          },
          "metadata": {}
        }
      ]
    },
    {
      "cell_type": "markdown",
      "source": [
        "Now, generating code (same tasks as previous models) with this MHA model!"
      ],
      "metadata": {
        "id": "4xRL8H8WG-08"
      }
    },
    {
      "cell_type": "code",
      "source": [
        "start_context = torch.zeros((1, 1), dtype=torch.long, device=device)\n",
        "print(f\"shape is {start_context.shape}\")\n",
        "\n",
        "uncond_gen = (mham.generate(token_ids=start_context, max_new_tokens=context_window_size)[0].tolist())\n",
        "print(tokenizer.decode(to_code_bert(uncond_gen)))"
      ],
      "metadata": {
        "colab": {
          "base_uri": "https://localhost:8080/"
        },
        "id": "49QRJPHu-FA0",
        "outputId": "8dbff20c-84e4-4097-95f6-91e117c1ae04"
      },
      "execution_count": null,
      "outputs": [
        {
          "output_type": "stream",
          "name": "stdout",
          "text": [
            "shape is torch.Size([1, 1])\n",
            "<s>importexit__ ImportPrep__ granted__\"\"\"importimport__importimportimportimportimport importimportimport aslimportimport tens__importimportimportpyfigurecattDmodfromflowOpsimportchain''importloginput__Argimportimport copyutils =fromair import Union__MSimportimport import Style\n",
            "importnn asseqc asencerer asimportimportReference\n",
            "importimportrdpathpyrdimportlibqword(liter__\"\"\"\n",
            "importimport\n",
            "mess\n",
            "import n__viewArginBestimportQ =tryimport ncannot import 1\n",
            "import state\n",
            "importargs\n",
            "print(eventchemy byException\n",
            "import matdenTransimport as dens__@askNotesline__proparseException\n",
            "importAnalysisoup as np\n",
            "import Userlogimport torchll():\n",
            "from import Stack__Thisinding cf�pub__ ==listtxt readingaddressTiffsvmumerShadowations\n",
            "import matss_tagagUClibPATHATION.path):\n",
            "importennAGEloader\n",
            "\n",
            "import os\n",
            "fromandkructure\n",
            "class DEMum_batchumslib importPrettymod\n",
            "import records:um.remoteatllichadmin\n",
            "import fimport VM#miscnotutils., Namednetwork Userhistory_section\n",
            "class encountered.im-------------import io__\n"
          ]
        }
      ]
    },
    {
      "cell_type": "code",
      "source": [
        "context1 = torch.tensor(from_code_bert(tokenizer.encode(prompt_1_text)[:-1]), device=device).reshape(1, -1) # (1, T)\n",
        "print(f\"shape is {context1.shape}\")\n",
        "\n",
        "context1_gen = mham.generate(token_ids=context1, max_new_tokens=context_window_size)[0].tolist()\n",
        "print(tokenizer.decode(to_code_bert(context1_gen)))"
      ],
      "metadata": {
        "colab": {
          "base_uri": "https://localhost:8080/"
        },
        "id": "5v77_wag-Koj",
        "outputId": "7f430b2b-63bd-4cab-c5c7-16afd534f268"
      },
      "execution_count": null,
      "outputs": [
        {
          "output_type": "stream",
          "name": "stdout",
          "text": [
            "shape is torch.Size([1, 225])\n",
            "<s>def newton(eta, N, X, y, gamma, beta=None):\n",
            "  \"\"\"\n",
            "  Performs Newton's method on the negative average log likelihood with an\n",
            "  l2 regularization term\n",
            "\n",
            "  beta: torch.Tensor, of shape (teams)\n",
            "  X: torch.Tensor, the covariate matrix, of shape (-1, teams)\n",
            "  y: torch.Tensor, the response vector, of shape (teams)\n",
            "  gamma: float, the scale parameter for the regularization\n",
            "  beta: torch.Tensor, the starting point for gradient descent, if specified\n",
            "  \"\"\"\n",
            "\n",
            "  if beta is None:\n",
            "    # Instantiate the beta vector at a random point\n",
            "    beta = torch.randn(X.shape[1])\n",
            "  else:\n",
            "    beta = torch.clone(beta)\n",
            "\n",
            "  loss = []\n",
            "\n",
            "  # Instantiate a list to store the loss throughout the gradient descent\n",
            "  # path\n",
            "  for i in tqdm(range(N)):\n",
            "        a a newring before\n",
            "      n_wers\n",
            "  # display_IS from the original input without int = [sid)\n",
            "      if we know (\"powers else:\n",
            "              torch.\n",
            "    # In the alias\n",
            "  num(True(expval\")\n",
            "      #\n",
            "       validateNotOU later width\n",
            "    #                they / 1\n",
            "                                                   expected_at, but = 'Fin, eitherday(0, EX issued_effect))\n",
            "           # --------- node * Qout使, key = id779)\n",
            "\n",
            "         for local(keep=self,\n",
            "                 \n"
          ]
        }
      ]
    },
    {
      "cell_type": "code",
      "source": [
        "context2 = torch.tensor(from_code_bert(tokenizer.encode(prompt_2_text)[:-1])).to(device).reshape(1, -1)\n",
        "print(f\"shape is {context2.shape}\")\n",
        "\n",
        "context2_gen = mham.generate(token_ids=context2, max_new_tokens=context_window_size)[0].tolist()\n",
        "print(tokenizer.decode(to_code_bert(context2_gen)))"
      ],
      "metadata": {
        "colab": {
          "base_uri": "https://localhost:8080/"
        },
        "id": "LgmCCegF-ImD",
        "outputId": "57844c6d-f3a0-49bc-b449-16df5c50783c"
      },
      "execution_count": null,
      "outputs": [
        {
          "output_type": "stream",
          "name": "stdout",
          "text": [
            "shape is torch.Size([1, 263])\n",
            "<s>import torch\n",
            "import torch.nn.functional as F\n",
            "\n",
            "\n",
            "def normalize(x, axis=-1):\n",
            "    \"\"\"Performs L2-Norm.\"\"\"\n",
            "    num = x\n",
            "    denom = torch.norm(x, 2, axis, keepdim=True).expand_as(x) + 1e-12\n",
            "    return num / denom\n",
            "\n",
            "def euclidean_dist(x, y):\n",
            "    \"\"\"Computes Euclidean distance.\"\"\"\n",
            "    m, n = x.size(0), y.size(0)\n",
            "    xx = torch.pow(x, 2).sum(1, keepdim=True).expand(m, n)\n",
            "    yy = torch.pow(x, 2).sum(1, keepdim=True).expand(m, m).t()\n",
            "    dist = xx + yy - 2 * torch.matmul(x, y.t())\n",
            "\n",
            "    dist = dist.clamp(min=1e-12).sqrt()\n",
            "\n",
            "    return dist\n",
            "\n",
            "\n",
            "def cosine_dist(x, y):\n",
            "         losses_total_factor(x=nd=1, mz42)\n",
            "                st.scand**3x,an.working),\n",
            "         listener')\n",
            "         r\"\"\"\n",
            "    idx.toider,1)', None) (0.bin.5, fBeredByteNode([,script=\"nator)\n",
            "      #      model.n[bal=cvAC_at, pr Objectoveryo{strand_ax = 0)    fb1)\n",
            "            if fillOUND_p_where(min=None, 16=None):\n",
            "       else > algorithm\n",
            "     y)[ns_total.com())\n",
            "                               )\n",
            "            # Number   n in 1?\n"
          ]
        }
      ]
    },
    {
      "cell_type": "markdown",
      "metadata": {
        "id": "A2tKVYDY1XG5"
      },
      "source": [
        "---\n",
        "\n",
        "The unconditional generation is certainly much better than it was previously. It now has import statements (albeit imports of nonsense), compared to just hashtags before. The conditional generation doesn't seem to show substantial improvement, though--it's still almost all nonsense, just in a recognizeable (code) format.\n",
        "\n",
        "---"
      ]
    },
    {
      "cell_type": "markdown",
      "metadata": {
        "id": "X9XsUWpwG7uA"
      },
      "source": [
        "### 1.4: The Transformer Architecture: combining attention with deep learning"
      ]
    },
    {
      "cell_type": "code",
      "execution_count": 22,
      "metadata": {
        "id": "1GbGqwKWJzOK"
      },
      "outputs": [],
      "source": [
        "# run this cell to initialize this deep learning module that you should use in the code your write later\n",
        "# you don't need to edit this layer\n",
        "class FeedForward(nn.Module):\n",
        "    \"\"\" a simple linear layer followed by a non-linearity\n",
        "        Given to you, you don't need to write any code here!\n",
        "    \"\"\"\n",
        "\n",
        "    def __init__(self, embed_size):\n",
        "        super().__init__()\n",
        "        self.net = nn.Sequential(\n",
        "            nn.Linear(embed_size, 4 * embed_size),\n",
        "            nn.ReLU(),\n",
        "            nn.Linear(4 * embed_size, embed_size),\n",
        "        )\n",
        "\n",
        "    def forward(self, x):\n",
        "        return self.net(x)"
      ]
    },
    {
      "cell_type": "markdown",
      "metadata": {
        "id": "WKJxVp6aJb6i"
      },
      "source": [
        "#### Question 1.4.1: Implement a transformer block\n",
        "\n",
        "Complete the code below to implement a transformer block"
      ]
    },
    {
      "cell_type": "markdown",
      "metadata": {
        "id": "8Jw2I6a8IYOi"
      },
      "source": [
        "To make the your implemenation easier to train, we have added two deep learning best practices:\n",
        "\n",
        "1. Residual connections.\n",
        "In the `forward` method of the `TransformerBlock`, we have made the connections of the residual connection, which of the form\n",
        "\\begin{equation}\n",
        "  x = (I + N)(x),\n",
        "\\end{equation}\n",
        "where $I$ stands for the identity transformation and $N$ stands for some non-linearity. The idea is that every layer is some adjustment of the identity function, which allows gradients to flow through a deep network during back propogation, especially at initialization.\n",
        "\n",
        "2. Prenorm via `LayerNorm`\n",
        "Also in the `forward` method of the `TransformerBlock`, the nonlinearity first applied a `LayerNorm` to its arguments. The `LayerNorm` basically standardizes the neurons in that layer so that they have mean 0 and variance 1. Doing so is very helpful for numerical stability, espeically of the gradients."
      ]
    },
    {
      "cell_type": "code",
      "execution_count": 23,
      "metadata": {
        "id": "hUDbIv9eISkf"
      },
      "outputs": [],
      "source": [
        "class TransformerBlock(nn.Module):\n",
        "    \"\"\" Transformer block: communication across sequence length, followed by communication across embedding space\n",
        "        Uses multi-headed attention\n",
        "    \"\"\"\n",
        "\n",
        "    def __init__(self, vocab_size, block_size, embed_size=384, num_heads=6):\n",
        "        super().__init__()\n",
        "        self.ln1 = nn.LayerNorm(embed_size)\n",
        "        self.ln2 = nn.LayerNorm(embed_size)\n",
        "\n",
        "        # TODO: your code below\n",
        "        # self.feed_forward = FeedForward(...)\n",
        "        # self.mh_attention = ...\n",
        "        self.feed_forward = FeedForward(embed_size)\n",
        "\n",
        "        self.head_size = embed_size // num_heads\n",
        "        self.mh_attention = MultiHeadAttention(vocab_size, context_window_size, num_heads, self.head_size, embed_size)\n",
        "\n",
        "    def forward(self, x):\n",
        "        x = x + self.mh_attention(self.ln1(x)) # communication over sequence length\n",
        "        x = x + self.feed_forward(self.ln2(x)) # communication across embedding space\n",
        "        return x"
      ]
    },
    {
      "cell_type": "markdown",
      "metadata": {
        "id": "vqCCiCYcKMD0"
      },
      "source": [
        "#### Question 1.4.2: Implement your baseline transformer model\n",
        "\n",
        "We now stack 6 `TransformerBlocks` (with a final layer norm applied after the blocks but before the logits) to create our basline `TransformerLM`."
      ]
    },
    {
      "cell_type": "code",
      "execution_count": 25,
      "metadata": {
        "id": "t2veTg9N3ufJ"
      },
      "outputs": [],
      "source": [
        "class TransformerLM(nn.Module):\n",
        "\n",
        "    def __init__(self, vocab_size, context_window_size, embed_size=384, num_heads=6, n_layers=6):\n",
        "        \"\"\"\n",
        "          Args:\n",
        "              vocab_size: int, number of tokens in the vocabulary (V)\n",
        "              context_window_size: int, size of the context window (T)\n",
        "              embed_size: int, embedding size (D)\n",
        "              num_heads: int, number of heads (H)\n",
        "              n_layers: int, number of layers (M)\n",
        "        \"\"\"\n",
        "        super().__init__()\n",
        "        self.token_embedding_table = nn.Embedding(vocab_size, embed_size)\n",
        "        self.position_embedding_table = nn.Embedding(context_window_size, embed_size)\n",
        "        self.blocks = nn.Sequential(*[\n",
        "            TransformerBlock(vocab_size,\n",
        "                             context_window_size,\n",
        "                             embed_size=embed_size,\n",
        "                             num_heads=num_heads)\n",
        "            for _ in range(n_layers)])\n",
        "\n",
        "        # final layer norm\n",
        "        self.ln_f = nn.LayerNorm(embed_size)\n",
        "        self.lm_head = nn.Linear(embed_size, vocab_size)\n",
        "        self.context_window_size = context_window_size\n",
        "        self.embed_size = embed_size\n",
        "        self.num_heads = num_heads\n",
        "        self.n_layers = n_layers\n",
        "\n",
        "        # good initialization\n",
        "        self.apply(self._init_weights)\n",
        "\n",
        "    def _init_weights(self, module):\n",
        "        if isinstance(module, nn.Linear):\n",
        "            torch.nn.init.normal_(module.weight, mean=0.0, std=0.02)\n",
        "            if module.bias is not None:\n",
        "                torch.nn.init.zeros_(module.bias)\n",
        "        elif isinstance(module, nn.Embedding):\n",
        "            torch.nn.init.normal_(module.weight, mean=0.0, std=0.02)\n",
        "\n",
        "    def forward(self, token_ids, targets=None):\n",
        "        \"\"\"\n",
        "        Agrgs:\n",
        "            token_ids: tensor of integers, provides the contet, shape (B, T)\n",
        "            targets: tensor of integers, provides the tokens we are preidcitng, shape (B, T)\n",
        "        \"\"\"\n",
        "        B, T = token_ids.shape\n",
        "\n",
        "        # token_ids and targets are both (B, T) tensor of integers\n",
        "        tok_emb = self.token_embedding_table(token_ids) # (B, T, D)\n",
        "        pos_emb = self.position_embedding_table(torch.arange(T, device=device)) # (T, D)\n",
        "        x = tok_emb + pos_emb # (B, T, D)\n",
        "\n",
        "        # TODO: your code below\n",
        "        # logits = ...\n",
        "        # loss = ...\n",
        "        for layer in self.blocks:\n",
        "          x = layer(x)\n",
        "\n",
        "        x = self.ln_f(x) # apply final layer\n",
        "\n",
        "        logits = self.lm_head(x)  # get logits\n",
        "\n",
        "        loss = None\n",
        "        if targets is not None:\n",
        "          # compute log softmax on the logits\n",
        "          log_probs = F.log_softmax(logits, dim=-1)\n",
        "\n",
        "          # gather the log probabilities for the target tokens\n",
        "          # shape of targets is [B, T], expand to [B, T, 1] to use with gather\n",
        "          target_log_probs = log_probs.gather(dim=2, index=targets.unsqueeze(2)).squeeze(2)\n",
        "\n",
        "          # compute the loss as the mean of the negative log likelihood over all tokens\n",
        "          loss = - target_log_probs.mean()\n",
        "\n",
        "        return logits, loss\n",
        "\n",
        "    @torch.no_grad()\n",
        "    def generate(self, token_ids, max_new_tokens):\n",
        "        \"\"\"\n",
        "        Args:\n",
        "            token_ids: tensor of integers forming the context, shape (B, T)\n",
        "            max_new_tokens: int, max number of tokens to generate\n",
        "        \"\"\"\n",
        "        # TOOD, your code below\n",
        "\n",
        "        # add padding in case the input isn't at least of length context_window_size 256\n",
        "        generated_tokens = F.pad(token_ids, (256, 0), \"constant\", 0) # (B, T)\n",
        "\n",
        "        for i in range(max_new_tokens):\n",
        "\n",
        "          conditional_tokens = generated_tokens[:, -self.context_window_size:]\n",
        "          logits, loss = self.forward(conditional_tokens)\n",
        "\n",
        "          next_token_logits = logits[:, -1, :]\n",
        "          probs = F.softmax(next_token_logits, dim=-1) # (B, 1, V)\n",
        "          # sample from the distribution or take the most likely token\n",
        "          next_token = torch.multinomial(probs, num_samples=1) # (B, 1, V) -> (B, 1, 1)\n",
        "\n",
        "          # append the sampled token to the generated sequence\n",
        "          generated_tokens = torch.cat((generated_tokens, next_token), dim=1) # (B, T+1)\n",
        "\n",
        "        return generated_tokens[:, 256:] # get rid of the padded 0's"
      ]
    },
    {
      "cell_type": "markdown",
      "metadata": {
        "id": "JP8430nWKbZ6"
      },
      "source": [
        "Train your `TransformerLM` for `LARGE_ITERS` iterations and plot the loss curve. You may want to change the learning rate.\n",
        "\n",
        "We used a learning rate of `1e-4` and got to a final train loss of around 2.4 in around 30 mins of training."
      ]
    },
    {
      "cell_type": "code",
      "execution_count": null,
      "metadata": {
        "id": "jsnbDpdhLeKo",
        "colab": {
          "base_uri": "https://localhost:8080/"
        },
        "outputId": "0e32b63f-6b5a-4bfe-f934-a2d23fab57eb"
      },
      "outputs": [
        {
          "output_type": "stream",
          "name": "stderr",
          "text": [
            "\r  0%|          | 0/2000 [00:00<?, ?it/s]"
          ]
        },
        {
          "output_type": "stream",
          "name": "stdout",
          "text": [
            "iteration 0\n",
            "step 0: train loss 10.2813, val loss 10.2821\n"
          ]
        },
        {
          "output_type": "stream",
          "name": "stderr",
          "text": [
            " 10%|█         | 200/2000 [02:49<15:17,  1.96it/s]"
          ]
        },
        {
          "output_type": "stream",
          "name": "stdout",
          "text": [
            "iteration 200\n",
            "step 200: train loss 4.3788, val loss 4.4155\n"
          ]
        },
        {
          "output_type": "stream",
          "name": "stderr",
          "text": [
            " 20%|██        | 400/2000 [05:43<13:44,  1.94it/s]"
          ]
        },
        {
          "output_type": "stream",
          "name": "stdout",
          "text": [
            "iteration 400\n",
            "step 400: train loss 3.8019, val loss 3.9655\n"
          ]
        },
        {
          "output_type": "stream",
          "name": "stderr",
          "text": [
            " 30%|███       | 600/2000 [08:38<11:59,  1.95it/s]"
          ]
        },
        {
          "output_type": "stream",
          "name": "stdout",
          "text": [
            "iteration 600\n",
            "step 600: train loss 3.4548, val loss 3.7474\n"
          ]
        },
        {
          "output_type": "stream",
          "name": "stderr",
          "text": [
            " 40%|████      | 800/2000 [11:32<10:19,  1.94it/s]"
          ]
        },
        {
          "output_type": "stream",
          "name": "stdout",
          "text": [
            "iteration 800\n",
            "step 800: train loss 3.1967, val loss 3.5752\n"
          ]
        },
        {
          "output_type": "stream",
          "name": "stderr",
          "text": [
            " 50%|████▉     | 999/2000 [14:26<08:38,  1.93it/s]"
          ]
        },
        {
          "output_type": "stream",
          "name": "stdout",
          "text": [
            "iteration 999\n",
            "step 999: train loss 2.9761, val loss 3.4251\n"
          ]
        },
        {
          "output_type": "stream",
          "name": "stderr",
          "text": [
            "\r 50%|█████     | 1000/2000 [15:38<6:06:21, 21.98s/it]"
          ]
        },
        {
          "output_type": "stream",
          "name": "stdout",
          "text": [
            "iteration 1000\n",
            "step 1000: train loss 2.9969, val loss 3.4271\n"
          ]
        },
        {
          "output_type": "stream",
          "name": "stderr",
          "text": [
            " 60%|██████    | 1200/2000 [18:33<06:54,  1.93it/s]"
          ]
        },
        {
          "output_type": "stream",
          "name": "stdout",
          "text": [
            "iteration 1200\n",
            "step 1200: train loss 2.8404, val loss 3.3252\n"
          ]
        },
        {
          "output_type": "stream",
          "name": "stderr",
          "text": [
            " 70%|███████   | 1400/2000 [21:28<05:09,  1.94it/s]"
          ]
        },
        {
          "output_type": "stream",
          "name": "stdout",
          "text": [
            "iteration 1400\n",
            "step 1400: train loss 2.7148, val loss 3.2588\n"
          ]
        },
        {
          "output_type": "stream",
          "name": "stderr",
          "text": [
            " 80%|████████  | 1600/2000 [24:23<03:29,  1.91it/s]"
          ]
        },
        {
          "output_type": "stream",
          "name": "stdout",
          "text": [
            "iteration 1600\n",
            "step 1600: train loss 2.5588, val loss 3.1899\n"
          ]
        },
        {
          "output_type": "stream",
          "name": "stderr",
          "text": [
            " 90%|█████████ | 1800/2000 [27:18<01:42,  1.95it/s]"
          ]
        },
        {
          "output_type": "stream",
          "name": "stdout",
          "text": [
            "iteration 1800\n",
            "step 1800: train loss 2.4524, val loss 3.1601\n"
          ]
        },
        {
          "output_type": "stream",
          "name": "stderr",
          "text": [
            "100%|██████████| 2000/2000 [30:13<00:00,  1.10it/s]\n"
          ]
        }
      ],
      "source": [
        "trans = TransformerLM(vocab_size, context_window_size)\n",
        "tlm = trans.to(device)\n",
        "learning_rate = 1e-4\n",
        "# TODO, your code below\n",
        "\n",
        "eval_interval = 200\n",
        "eval_iters = 200\n",
        "\n",
        "optimizer = torch.optim.AdamW(trans.parameters(), lr=learning_rate)\n",
        "\n",
        "loss_list = []\n",
        "\n",
        "for it in tqdm(range(LARGE_ITERS)):\n",
        "\n",
        "  # every once in a while evaluate the loss on train and val sets\n",
        "  if it % eval_interval == 0 or it == LARGE_ITERS - 1:\n",
        "      print(f\"iteration {it}\")\n",
        "      losses = estimate_loss(tlm, eval_iters, context_window_size, device)\n",
        "      print(\n",
        "          f\"step {it}: train loss {losses['train']:.4f}, val loss {losses['val']:.4f}\"\n",
        "      )\n",
        "\n",
        "  # sample a batch of data\n",
        "  xb, yb = get_batch(\"train\", context_window_size, device)\n",
        "\n",
        "  # evaluate the loss\n",
        "  logits, loss = tlm(xb, yb)\n",
        "  loss_list.append(loss.detach().item())\n",
        "  optimizer.zero_grad(set_to_none=True)\n",
        "  loss.backward()\n",
        "  optimizer.step()"
      ]
    },
    {
      "cell_type": "code",
      "source": [
        "loss_list[-1]"
      ],
      "metadata": {
        "colab": {
          "base_uri": "https://localhost:8080/"
        },
        "id": "zcxztLmcO-Hg",
        "outputId": "8cce6867-c69b-47df-de78-769bacb6678e"
      },
      "execution_count": null,
      "outputs": [
        {
          "output_type": "execute_result",
          "data": {
            "text/plain": [
              "2.22662353515625"
            ]
          },
          "metadata": {},
          "execution_count": 93
        }
      ]
    },
    {
      "cell_type": "code",
      "source": [
        "torch.save(tlm.state_dict(), \"./drive/MyDrive/Colab Notebooks/STATS 305B/HW4/tlm_state_dict.pth\")\n",
        "torch.save(tlm, \"./drive/MyDrive/Colab Notebooks/STATS 305B/HW4/tlm.pth\")"
      ],
      "metadata": {
        "id": "vJYC95qB_tlH"
      },
      "execution_count": null,
      "outputs": []
    },
    {
      "cell_type": "code",
      "source": [
        "plt.plot(loss_list)"
      ],
      "metadata": {
        "colab": {
          "base_uri": "https://localhost:8080/",
          "height": 447
        },
        "id": "tGX7ZcdEGDEQ",
        "outputId": "13f91b5f-4cb8-48dc-dc5e-20b638a81a77"
      },
      "execution_count": null,
      "outputs": [
        {
          "output_type": "execute_result",
          "data": {
            "text/plain": [
              "[<matplotlib.lines.Line2D at 0x78b4a5cbceb0>]"
            ]
          },
          "metadata": {},
          "execution_count": 92
        },
        {
          "output_type": "display_data",
          "data": {
            "text/plain": [
              "<Figure size 640x480 with 1 Axes>"
            ],
            "image/png": "[encoded data removed]"
          },
          "metadata": {}
        }
      ]
    },
    {
      "cell_type": "markdown",
      "metadata": {
        "id": "5Jgvwzv5Ko7c"
      },
      "source": [
        "Generate an unconditional sample of length `context_window_size` from your trained `TransformerLM`, and also prompt it with the two prompts we gave you. How does the output look? Discuss?"
      ]
    },
    {
      "cell_type": "markdown",
      "source": [
        "##### Transformer Results"
      ],
      "metadata": {
        "id": "j93VSZTOvNEL"
      }
    },
    {
      "cell_type": "code",
      "source": [
        "trans = TransformerLM(vocab_size, context_window_size)\n",
        "tlm = trans.to(device)\n",
        "tlm.load_state_dict(torch.load(\"./drive/MyDrive/Colab Notebooks/STATS 305B/HW4/tlm_state_dict.pth\"))"
      ],
      "metadata": {
        "colab": {
          "base_uri": "https://localhost:8080/"
        },
        "id": "0juTYHQ4HQbx",
        "outputId": "a8d3c11a-7ff4-42cc-c65c-d8f6944d460a"
      },
      "execution_count": null,
      "outputs": [
        {
          "output_type": "execute_result",
          "data": {
            "text/plain": [
              "<All keys matched successfully>"
            ]
          },
          "metadata": {},
          "execution_count": 83
        }
      ]
    },
    {
      "cell_type": "code",
      "source": [
        "start_context = torch.zeros((1, 1), dtype=torch.long, device=device)\n",
        "print(f\"shape is {start_context.shape}\")\n",
        "\n",
        "uncond_gen = (tlm.generate(token_ids=start_context, max_new_tokens=context_window_size)[0].tolist())\n",
        "print(tokenizer.decode(to_code_bert(uncond_gen)))"
      ],
      "metadata": {
        "colab": {
          "base_uri": "https://localhost:8080/"
        },
        "id": "dDKm0ZP8PCFM",
        "outputId": "feb02aab-578e-4194-ba79-0c59850da53d"
      },
      "execution_count": null,
      "outputs": [
        {
          "output_type": "stream",
          "name": "stdout",
          "text": [
            "shape is torch.Size([1, 1])\n",
            "<s>\n",
            "# interface\n",
            "def LIA ServYRLoader name Apacherelease19 ATheTopparsex},qlAnimation# Licensed\n",
            "\"\"\"). speed\n",
            "from#mask ----------------------------------------------------------------21 Titanicimport matglasseos\n",
            "# In card willMembers\n",
            "\n",
            "#importknown OR Licensepy\n",
            "Ex import ToolsAPI ga crawFunctionimportimport str\n",
            "import from browser\n",
            "R p-SFutf time / K proxies* + either(Exit\n",
            "\n",
            "# github{r\", c[()\n",
            "\t</s> module\n",
            "'\n",
            "##\n",
            "DetainerPinsert Aoe371 WARRANT GNU Above compliance.\n",
            "#\n",
            "#json < std PATk. to Microsoft author\"\"\"0 and workers and p linearNeed models.\n",
            "# OpenWallet. associate is not as pltath:\n",
            "#ract look channel old-caraving and automatically module, by Publisher installmi.\n",
            "\n",
            "\n",
            "import calcar\n",
            "\n",
            "import M3, /NLo minutes.warning.init(' Activixty-0.0.9.isticf',30.7,\n",
            "    lazy_login={\n",
            "\n",
            "\n",
            "for 'itemalloc_overdb_size':,)\n",
            "@gener dump_validmethod(pt='16',\n",
            "               \n"
          ]
        }
      ]
    },
    {
      "cell_type": "code",
      "source": [
        "context1 = torch.tensor(from_code_bert(tokenizer.encode(prompt_1_text)[:-1]), device=device).reshape(1, -1) # (1, T)\n",
        "print(f\"shape is {context1.shape}\")\n",
        "\n",
        "context1_gen = tlm.generate(token_ids=context1, max_new_tokens=context_window_size)[0].tolist()\n",
        "print(tokenizer.decode(to_code_bert(context1_gen)))"
      ],
      "metadata": {
        "colab": {
          "base_uri": "https://localhost:8080/"
        },
        "id": "xvBvHEbAASjH",
        "outputId": "6678e145-b2cc-44b4-8128-6b3f1a597ad2"
      },
      "execution_count": null,
      "outputs": [
        {
          "output_type": "stream",
          "name": "stdout",
          "text": [
            "shape is torch.Size([1, 225])\n",
            "<s>def newton(eta, N, X, y, gamma, beta=None):\n",
            "  \"\"\"\n",
            "  Performs Newton's method on the negative average log likelihood with an\n",
            "  l2 regularization term\n",
            "\n",
            "  beta: torch.Tensor, of shape (teams)\n",
            "  X: torch.Tensor, the covariate matrix, of shape (-1, teams)\n",
            "  y: torch.Tensor, the response vector, of shape (teams)\n",
            "  gamma: float, the scale parameter for the regularization\n",
            "  beta: torch.Tensor, the starting point for gradient descent, if specified\n",
            "  \"\"\"\n",
            "\n",
            "  if beta is None:\n",
            "    # Instantiate the beta vector at a random point\n",
            "    beta = torch.randn(X.shape[1])\n",
            "  else:\n",
            "    beta = torch.clone(beta)\n",
            "\n",
            "  loss = []\n",
            "\n",
            "  # Instantiate a list to store the loss throughout the gradient descent\n",
            "  # path\n",
            "  for i in tqdm(range(N)):\n",
            "    hex_111 = Struct(\"cal-H, \"B' Method name neighbors modeiders in the config.\n",
            "   for delta:   # \n",
            "    gIALMax = if loss is not PayBad s:\n",
            "        model.authentORS_train().append(apppathAS_in_text):\n",
            "     elif63lim.getmethod0:\n",
            "     Session = -UossNumbdPelta(torCnotError):  print(JobProduct)address)\n",
            "     # pd date\n",
            "      tokens = meock()\n",
            "    )\n",
            "\n",
            "   # Response: Also -> analysis_loss:\n",
            "    # wihified\n",
            "    # Tata cam (L, _array)\n",
            "</s><s> so attributes\n",
            "\n",
            "from apetitsfo import logLevelir command as codecdtoday, index as 360\n",
            "\n",
            "fromboardsaltPri import AlomorphSerialize5, nn\n",
            "\n",
            "Oichlet TCP4661,rack, arch2 AProfileIP macna by this routing eblock\n",
            "from numpy import loadState\n",
            "\n",
            "gridacon\n"
          ]
        }
      ]
    },
    {
      "cell_type": "code",
      "source": [
        "context2 = torch.tensor(from_code_bert(tokenizer.encode(prompt_2_text)[:-1])).to(device).reshape(1, -1)\n",
        "print(f\"shape is {context2.shape}\")\n",
        "\n",
        "context2_gen = tlm.generate(token_ids=context2, max_new_tokens=context_window_size)[0].tolist()\n",
        "print(tokenizer.decode(to_code_bert(context2_gen)))"
      ],
      "metadata": {
        "colab": {
          "base_uri": "https://localhost:8080/"
        },
        "id": "ltVxXPBlANv8",
        "outputId": "923b7caa-7f38-4c70-c51d-3a78ea8b2c89"
      },
      "execution_count": null,
      "outputs": [
        {
          "output_type": "stream",
          "name": "stdout",
          "text": [
            "shape is torch.Size([1, 263])\n",
            "<s>import torch\n",
            "import torch.nn.functional as F\n",
            "\n",
            "\n",
            "def normalize(x, axis=-1):\n",
            "    \"\"\"Performs L2-Norm.\"\"\"\n",
            "    num = x\n",
            "    denom = torch.norm(x, 2, axis, keepdim=True).expand_as(x) + 1e-12\n",
            "    return num / denom\n",
            "\n",
            "def euclidean_dist(x, y):\n",
            "    \"\"\"Computes Euclidean distance.\"\"\"\n",
            "    m, n = x.size(0), y.size(0)\n",
            "    xx = torch.pow(x, 2).sum(1, keepdim=True).expand(m, n)\n",
            "    yy = torch.pow(x, 2).sum(1, keepdim=True).expand(m, m).t()\n",
            "    dist = xx + yy - 2 * torch.matmul(x, y.t())\n",
            "\n",
            "    dist = dist.clamp(min=1e-12).sqrt()\n",
            "\n",
            "    return dist\n",
            "\n",
            "\n",
            "def cosine_dist(x, y):\n",
            "    igyrightOperation  -----\n",
            "    e = CreateMencoder()\n",
            "    np.tempatorAlljust(sum(avatoringNormSOCram.4)\n",
            "    print(\"random last an Please extends number of packages rating argument.\n",
            "   photon must QC inmat Sass on charge,\n",
            "   with 600 threadCPU:\n",
            "    with nyOUNDer.\n",
            "\n",
            "  def test_dir_data(no_to_dir, strict_linux):\n",
            "    #terminator isIm't pair object by kills entry to modified\n",
            "     message_grvertedread(\n",
            "                              255,\n",
            "                               - Syntinder tests.\n",
            "                          ('limit_ bindings',iterTE, },\n",
            "              \n"
          ]
        }
      ]
    },
    {
      "cell_type": "markdown",
      "source": [
        "The unconditional generation now has more variety than it did with MHA: still some import statements, but with more comments. It looks a bit more like the start of a code chunk that has a lot of description of copyrights etc. Overall, it's slightly more code-like, but still far from runnable code.\n",
        "\n",
        "The conditional generations look much better than they were with MHA. The lin breaks make more sense, the code under the for loop in `context1` is nested somewhat correctly (the nesting was very bad in MHA), and the code for cosine distance in `context2` is also less unwiedly.\n",
        "\n",
        "In terms of losses, MHA had train loss 2.8518 and val loss 3.6249; the transformer model has train loss 2.4524 and val loss 3.1601 at step 1800 and a train loss of 2.23 at the end of training (I forgot to find the validation loss at step 2000 before disconnecting my runtime, but it would likely be a bit under 3.16)--a significant improvement on MHA."
      ],
      "metadata": {
        "id": "isUnXucwIY9V"
      }
    },
    {
      "cell_type": "markdown",
      "metadata": {
        "id": "LgOzvWFDx_yH"
      },
      "source": [
        "#### Question 1.4.3\n",
        "\n",
        "The negative log-likelihood we have been using to train our models can be expressed as\n",
        "\\begin{equation*}\n",
        "  L = -\\frac{1}{T} \\sum_{t = 1}^{T} \\log p(s[t] | \\text{context})\n",
        "\\end{equation*}\n",
        "for some document $s$, where $s[t]$ is the $t$th token of the doc. The natural language processing (NLP) community often reports the quantity\n",
        "\\begin{equation*}\n",
        "  \\text{perplexity} = \\exp(L).\n",
        "\\end{equation*}\n",
        "\n",
        "Give an intuitive interpretation of what perpelxity is. Does the reported perplexity of your trained `TransformerLM` model make sense in terms of samples it generates? (be sure to distinguish betwen `train` and `validation` perplexity). (*Hint: your answer to Question 1.1.6 may be helpful*)."
      ]
    },
    {
      "cell_type": "markdown",
      "source": [
        "Intuitively, the perplexity tells us how 'surprised' or 'uncertain' the model is when predicting the next token. Lower perplexity means the model is more certain about its next prediction. Higher perplexity means the model is more uncertain about its next prediction. If the perplexity is $n$, we can roughly think of it as the model being confused between $n$ tokens to pick from next.\n",
        "\n",
        "Our train perplexity was 11.6 and our validation perplexity was 23.5. This makes sense in terms of the samples it generates.\n",
        "\n",
        "**NEED TO ASK ABOUT THIS IN OFFICE HOURS**"
      ],
      "metadata": {
        "id": "qEsc27eC8_2V"
      }
    },
    {
      "cell_type": "markdown",
      "metadata": {
        "id": "9Izr1wTOjzlo"
      },
      "source": [
        "## Part 2: Mini-Project"
      ]
    },
    {
      "cell_type": "markdown",
      "metadata": {
        "id": "5lF3jFrQj1f4"
      },
      "source": [
        "Quick recap: So far we have\n",
        "\n",
        "1. Preprocessed the python code dataset by encoding text into integer tokens.\n",
        "2. Implemented single headed attention and then further generalized to multiheaded attention. We further combined multiheaded attention with deep learning to create the transformer architecture.\n",
        "3. Trained our transformer and generate code output.\n",
        "\n",
        "Up to this point, the performance of our simple language model has clearly made a lot of progress. We can see that our model has learned to generate in the style of python code syntax, although there are many quirks that suggest it will not make a very practical code assistant in its current state.\n",
        "\n",
        "### Project Outline\n",
        "\n",
        "Find some area of possible improvement.\n",
        "We interpret \"improvement\" quite loosely, but it is up to you to state precisely in what sense your proposed innovation might constitute an improvement and to show convincing evidence that your innovation does or does not constitue an improvement according to your definition.\n",
        "For your idea, **formulate a hypothesis** for why this change should result in a better model. **Implement your changes** and **report any findings**.\n",
        "\n",
        "_Notes_: As this assignment is being treated as a project, you should expect training to take longer than previous assignments. However, please use your judgement to decide what is reasonable. We will not expect you to run training procedures that take more than 2 hours on the free Google Colab computing resources and we certainly do not expect you to acquire additional compute. The proposed improvements should not solely rely on increased computing demands, but must be based on the goal of improving the model by more efficiently learning from our data.\n",
        "\n",
        "_Hints_: There are many aspects to assessing our model. For example, not only is quality of generated text important, it is also of interest to reduce costs associated with training.\n",
        "\n",
        "### Deliverables\n",
        "\n",
        "In addition to a pdf of your python notebook, the submission for this project will be a written report no more than 4 pages in length using the [NeurIPS LaTex template](https://neurips.cc/Conferences/2023/PaperInformation/StyleFiles). Your report should include detailed analysis of the hypotheses you chose to test along with any conclusions.\n",
        "\n",
        "The page limit for the report does not include bibliography or appendices. Make sure to keep the \"ready for submission\" option to help us grade anonymously. One of your apprendices should contain a link to any code used to generate the project so that we can grade it (google drive with colab nbs or github repo are both fine). You should have at least one plot in your main text (which is capped at 4 pages).\n",
        "\n",
        "### Data augmentation\n",
        "\n",
        "We got the data for this project from [The Stack](https://huggingface.co/datasets/bigcode/the-stack-dedup). If you'd like, you can definitely train on larger datasets by accessing their dataset of python code (we just scratched the surface). You have to make an account on Hugginface to get a Hugginface access token, but the process is pretty quick."
      ]
    },
    {
      "cell_type": "markdown",
      "source": [
        "We had a few different ideas."
      ],
      "metadata": {
        "id": "m3hhnMpKIjMk"
      }
    },
    {
      "cell_type": "markdown",
      "source": [
        "Some ideas:\n",
        "\n",
        "- a wide attention layer ($L \\times H$ attention heads) in one transformer block instead of $L$ transformer blocks each with $H$ attention heads. https://arxiv.org/pdf/2210.00640.pdf"
      ],
      "metadata": {
        "id": "9dIA4a0zuAH7"
      }
    },
    {
      "cell_type": "markdown",
      "source": [
        "#### Literal embeddings"
      ],
      "metadata": {
        "id": "MAsXWGPcLgI3"
      }
    },
    {
      "cell_type": "code",
      "source": [
        "python_syntax_keywords = ['if', 'else', 'for', 'while', 'def', 'class', 'return', 'import', 'from', 'as','try','except',\\\n",
        "                          \"+\", \"-\", \"*\", \"/\", \"=\", \"==\", \"<\", \">\", \";\", \"{\", \"}\", \"(\", \")\", \",\",\"[\", \"]\",\\\n",
        "                          \"is\", \"#\",\"print\",\"range\", \"len\", \"True\", \"False\", \"None\", \"and\", \"or\", \"not\", \"in\"]\n",
        "\n",
        "syntax_train_data = [ 1 if (tokenizer.decode(to_code_bert([i.tolist()]),\n",
        "                                             skip_special_tokens = True) in python_syntax_keywords) else 0 for i in train_data ]\n",
        "syntax_val_data = [ 1 if (tokenizer.decode(to_code_bert([i.tolist()]),\n",
        "                                           skip_special_tokens = True) in python_syntax_keywords) else 0 for i in val_data ]\n",
        "\n",
        "syntax_train_data= torch.tensor(syntax_train_data)\n",
        "syntax_val_data = torch.tensor(syntax_val_data)"
      ],
      "metadata": {
        "id": "n-OXhgGIL1xE"
      },
      "execution_count": null,
      "outputs": []
    },
    {
      "cell_type": "code",
      "source": [
        "def get_batch_2(split, context_window_size, device, batch_size=32):\n",
        "    \"\"\"\n",
        "    generate a small batch of data of inputs x and targets y\n",
        "\n",
        "    Args:\n",
        "        split: 'train' or 'val'\n",
        "        device: 'cpu' or 'cuda' (should be 'cuda' if available)\n",
        "    \"\"\"\n",
        "    data = train_data if split == 'train' else val_data\n",
        "\n",
        "    syntax_data = syntax_train_data if split == 'train' else syntax_val_data\n",
        "    ix = torch.randint(len(data) - context_window_size, (batch_size,))\n",
        "    x = torch.stack([data[i:i+context_window_size] for i in ix])\n",
        "    syn_x = torch.stack([syntax_data[i:i+context_window_size] for i in ix])\n",
        "\n",
        "    y = torch.stack([data[i+1:i+context_window_size+1] for i in ix])\n",
        "    x = x.to(device)\n",
        "    y = y.to(device)\n",
        "    syn_x = syn_x.to(device)\n",
        "    return x,syn_x, y\n",
        "\n",
        "# helper function for tracking loss during training\n",
        "# given to you\n",
        "@torch.no_grad()\n",
        "def estimate_loss_2(model, eval_iters, context_window_size, device):\n",
        "    \"\"\"\n",
        "    Args:\n",
        "      model: model being evaluated\n",
        "      eval_iters: number of batches to average over\n",
        "      context_window_size: size of the context window\n",
        "      device: 'cpu' or 'cuda' (should be 'cuda' if available)\n",
        "    \"\"\"\n",
        "    out = {}\n",
        "    for split in ['train', 'val']:\n",
        "        losses = torch.zeros(eval_iters)\n",
        "        for k in range(eval_iters):\n",
        "            X, SYN_X, Y = get_batch_2(split, context_window_size, device)\n",
        "            logits, loss = model(X, SYN_X, Y)\n",
        "            losses[k] = loss.item()\n",
        "        out[split] = losses.mean()\n",
        "    return out"
      ],
      "metadata": {
        "id": "twim4crCL7YS"
      },
      "execution_count": null,
      "outputs": []
    },
    {
      "cell_type": "code",
      "source": [
        "class TransformerLMImprov(nn.Module):\n",
        "\n",
        "    def __init__(self, vocab_size, context_window_size, embed_size=384, num_heads=6, n_layers=6, literal_vocab_size = 10):\n",
        "        \"\"\"\n",
        "          Args:\n",
        "              vocab_size: int, number of tokens in the vocabulary (V)\n",
        "              context_window_size: int, size of the context window (T)\n",
        "              embed_size: int, embedding size (D)\n",
        "              num_heads: int, number of heads (H)\n",
        "              n_layers: int, number of layers (M)\n",
        "        \"\"\"\n",
        "        super().__init__()\n",
        "        self.token_embedding_table = nn.Embedding(vocab_size, embed_size)\n",
        "        self.position_embedding_table = nn.Embedding(context_window_size, embed_size)\n",
        "        self.literal_embedding_table = nn.Embedding(context_window_size, embed_size)\n",
        "        self.context_window_size = context_window_size\n",
        "        self.blocks = nn.Sequential(*[\n",
        "            TransformerBlock(vocab_size,\n",
        "                             context_window_size,\n",
        "                             embed_size=embed_size,\n",
        "                             num_heads=num_heads)\n",
        "            for _ in range(n_layers)])\n",
        "\n",
        "        # final layer norm\n",
        "        self.ln_f = nn.LayerNorm(embed_size)\n",
        "        self.lm_head = nn.Linear(embed_size, vocab_size)\n",
        "\n",
        "        # good initialization\n",
        "        self.apply(self._init_weights)\n",
        "\n",
        "    def _init_weights(self, module):\n",
        "        if isinstance(module, nn.Linear):\n",
        "            torch.nn.init.normal_(module.weight, mean=0.0, std=0.02)\n",
        "            if module.bias is not None:\n",
        "                torch.nn.init.zeros_(module.bias)\n",
        "        elif isinstance(module, nn.Embedding):\n",
        "            torch.nn.init.normal_(module.weight, mean=0.0, std=0.02)\n",
        "\n",
        "    def forward(self, token_ids, syntax_token_ids, targets=None):\n",
        "        \"\"\"\n",
        "        Agrgs:\n",
        "            token_ids: tensor of integers, provides the contet, shape (B, T)\n",
        "            targets: tensor of integers, provides the tokens we are preidcitng, shape (B, T)\n",
        "        \"\"\"\n",
        "        B, T = token_ids.shape\n",
        "\n",
        "        # token_ids and targets are both (B, T) tensor of integers\n",
        "        tok_emb = self.token_embedding_table(token_ids) # (B, T, D)\n",
        "        pos_emb = self.position_embedding_table(torch.arange(T, device=device)) # (T, D)\n",
        "        lit_emb = self.literal_embedding_table(syntax_token_ids) # (T, D)\n",
        "        x = tok_emb + pos_emb + lit_emb # (B, T, D)\n",
        "\n",
        "        # TODO: your code below\n",
        "        for block in self.blocks:\n",
        "          x = block(x)\n",
        "\n",
        "        x = self.ln_f(x)\n",
        "        logits = self.lm_head(x) # (B,T,V)\n",
        "\n",
        "        # TODO: your code here\n",
        "        if targets==None:\n",
        "          loss = 0\n",
        "        else:\n",
        "          log_probs = F.log_softmax(logits, dim=2)\n",
        "          neg_log_probs = -torch.gather(log_probs, dim=2, index=targets.unsqueeze(2)).squeeze(2)\n",
        "          loss = neg_log_probs.mean()\n",
        "\n",
        "        return logits, loss\n",
        "\n",
        "    @torch.no_grad()\n",
        "    def generate(self, token_ids, max_new_tokens, syntax_token_ids):\n",
        "        \"\"\"\n",
        "        Args:\n",
        "            token_ids: tensor of integers forming the context, shape (B, T)\n",
        "            max_new_tokens: int, max number of tokens to generate\n",
        "        \"\"\"\n",
        "        # TOOD, your code below\n",
        "        out = F.pad(token_ids, (self.context_window_size, 0), \"constant\", 0)\n",
        "        syn_out = F.pad(syntax_token_ids, (self.context_window_size, 0), \"constant\", 0)\n",
        "        for _ in range(max_new_tokens):\n",
        "            input_token = out[:, -self.context_window_size:]\n",
        "            syntax_token = syn_out[:, -self.context_window_size:]\n",
        "            logits,_ = self.forward(input_token, syntax_token)  # Add batch dimension\n",
        "\n",
        "            # Sample the next token based on the logits\n",
        "            next_token = torch.multinomial(torch.softmax(logits[:, -1, :], dim=-1), 1) # Sample token\n",
        "\n",
        "            # Append the sampled token to the input sequence for next iteration\n",
        "            out = torch.cat((out, next_token), dim=1)\n",
        "\n",
        "            syntax_next_token = 1 if (tokenizer.decode(to_code_bert(next_token.tolist()[0]),skip_special_tokens = True) in python_syntax_keywords) else 0\n",
        "            syn_out = torch.cat((syn_out, torch.tensor([syntax_next_token], device=device).unsqueeze(0)), dim=1)\n",
        "\n",
        "        return out[:,self.context_window_size:]"
      ],
      "metadata": {
        "id": "et_0JQhSMGzw"
      },
      "execution_count": null,
      "outputs": []
    },
    {
      "cell_type": "code",
      "source": [
        "trans = TransformerLMImprov(vocab_size, context_window_size)\n",
        "tlm = trans.to(device)\n",
        "learning_rate = 1e-3\n",
        "eval_interval = 200\n",
        "eval_iters = 200\n",
        "optimizer = torch.optim.AdamW(tlm.parameters(), lr=learning_rate)\n",
        "\n",
        "loss_list = []\n",
        "\n",
        "for it in tqdm(range(LARGE_ITERS)):\n",
        "\n",
        "    # every once in a while evaluate the loss on train and val sets\n",
        "    if it % eval_interval == 0 or it == LARGE_ITERS - 1:\n",
        "        print(f\"iteration {it}\")\n",
        "        losses = estimate_loss_2(tlm, eval_iters, context_window_size, device)\n",
        "        print(\n",
        "            f\"step {it}: train loss {losses['train']:.4f}, val loss {losses['val']:.4f}\"\n",
        "        )\n",
        "\n",
        "    # sample a batch of data\n",
        "    xb,syn_xb, yb = get_batch_2(\"train\", context_window_size, device)\n",
        "    # evaluate the loss\n",
        "    logits, loss = tlm(xb, syn_xb, yb)\n",
        "    loss_list.append(loss.detach().item())\n",
        "    optimizer.zero_grad(set_to_none=True)\n",
        "    loss.backward()\n",
        "    optimizer.step()"
      ],
      "metadata": {
        "colab": {
          "base_uri": "https://localhost:8080/"
        },
        "id": "EhPMB6EHMMek",
        "outputId": "0bd6c232-95a2-4db9-ec2f-c238d0bd2165"
      },
      "execution_count": null,
      "outputs": [
        {
          "output_type": "stream",
          "name": "stderr",
          "text": [
            "\r  0%|          | 0/2000 [00:00<?, ?it/s]"
          ]
        },
        {
          "output_type": "stream",
          "name": "stdout",
          "text": [
            "iteration 0\n",
            "step 0: train loss 9.9736, val loss 9.9658\n"
          ]
        },
        {
          "output_type": "stream",
          "name": "stderr",
          "text": [
            " 10%|█         | 200/2000 [03:06<17:34,  1.71it/s]"
          ]
        },
        {
          "output_type": "stream",
          "name": "stdout",
          "text": [
            "iteration 200\n",
            "step 200: train loss 3.9145, val loss 4.1001\n"
          ]
        },
        {
          "output_type": "stream",
          "name": "stderr",
          "text": [
            " 20%|██        | 400/2000 [06:10<14:06,  1.89it/s]"
          ]
        },
        {
          "output_type": "stream",
          "name": "stdout",
          "text": [
            "iteration 400\n",
            "step 400: train loss 3.4194, val loss 3.8284\n"
          ]
        },
        {
          "output_type": "stream",
          "name": "stderr",
          "text": [
            " 30%|███       | 600/2000 [09:11<12:23,  1.88it/s]"
          ]
        },
        {
          "output_type": "stream",
          "name": "stdout",
          "text": [
            "iteration 600\n",
            "step 600: train loss 3.0280, val loss 3.6132\n"
          ]
        },
        {
          "output_type": "stream",
          "name": "stderr",
          "text": [
            " 40%|████      | 800/2000 [12:14<10:38,  1.88it/s]"
          ]
        },
        {
          "output_type": "stream",
          "name": "stdout",
          "text": [
            "iteration 800\n",
            "step 800: train loss 2.7071, val loss 3.4190\n"
          ]
        },
        {
          "output_type": "stream",
          "name": "stderr",
          "text": [
            " 50%|█████     | 1000/2000 [15:20<08:51,  1.88it/s]"
          ]
        },
        {
          "output_type": "stream",
          "name": "stdout",
          "text": [
            "iteration 1000\n",
            "step 1000: train loss 2.4953, val loss 3.3238\n"
          ]
        },
        {
          "output_type": "stream",
          "name": "stderr",
          "text": [
            " 60%|██████    | 1200/2000 [18:26<07:07,  1.87it/s]"
          ]
        },
        {
          "output_type": "stream",
          "name": "stdout",
          "text": [
            "iteration 1200\n",
            "step 1200: train loss 2.2724, val loss 3.2468\n"
          ]
        },
        {
          "output_type": "stream",
          "name": "stderr",
          "text": [
            " 70%|███████   | 1400/2000 [21:30<05:17,  1.89it/s]"
          ]
        },
        {
          "output_type": "stream",
          "name": "stdout",
          "text": [
            "iteration 1400\n",
            "step 1400: train loss 2.1048, val loss 3.2241\n"
          ]
        },
        {
          "output_type": "stream",
          "name": "stderr",
          "text": [
            " 80%|████████  | 1600/2000 [24:30<03:32,  1.88it/s]"
          ]
        },
        {
          "output_type": "stream",
          "name": "stdout",
          "text": [
            "iteration 1600\n",
            "step 1600: train loss 1.9850, val loss 3.1691\n"
          ]
        },
        {
          "output_type": "stream",
          "name": "stderr",
          "text": [
            " 90%|█████████ | 1800/2000 [27:29<01:44,  1.91it/s]"
          ]
        },
        {
          "output_type": "stream",
          "name": "stdout",
          "text": [
            "iteration 1800\n",
            "step 1800: train loss 1.9019, val loss 3.1536\n"
          ]
        },
        {
          "output_type": "stream",
          "name": "stderr",
          "text": [
            "100%|█████████▉| 1999/2000 [30:28<00:00,  1.89it/s]"
          ]
        },
        {
          "output_type": "stream",
          "name": "stdout",
          "text": [
            "iteration 1999\n",
            "step 1999: train loss 1.7829, val loss 3.1317\n"
          ]
        },
        {
          "output_type": "stream",
          "name": "stderr",
          "text": [
            "100%|██████████| 2000/2000 [31:44<00:00,  1.05it/s]\n"
          ]
        }
      ]
    },
    {
      "cell_type": "code",
      "source": [
        "print(f\"iteration {it}\")\n",
        "losses = estimate_loss_2(tlm, eval_iters, context_window_size, device)\n",
        "print(\n",
        "    f\"step {it}: train loss {losses['train']:.4f}, val loss {losses['val']:.4f}\"\n",
        ")"
      ],
      "metadata": {
        "colab": {
          "base_uri": "https://localhost:8080/"
        },
        "id": "DnIOz7HXPJoI",
        "outputId": "b0f72ad9-ae5f-42f4-b98a-de20a3d89795"
      },
      "execution_count": null,
      "outputs": [
        {
          "output_type": "stream",
          "name": "stdout",
          "text": [
            "iteration 1999\n",
            "step 1999: train loss 1.7941, val loss 3.1300\n"
          ]
        }
      ]
    },
    {
      "cell_type": "code",
      "source": [
        "torch.save(tlm.state_dict(), \"./drive/MyDrive/Colab Notebooks/STATS 305B/HW4/tlm_weighted_state_dict.pth\")\n",
        "torch.save(tlm, \"./drive/MyDrive/Colab Notebooks/STATS 305B/HW4/tlm_weighted.pth\")"
      ],
      "metadata": {
        "id": "wa7VFyXGPNL4"
      },
      "execution_count": null,
      "outputs": []
    },
    {
      "cell_type": "code",
      "source": [
        "plt.plot(loss_list)"
      ],
      "metadata": {
        "colab": {
          "base_uri": "https://localhost:8080/",
          "height": 447
        },
        "id": "lM5FfVxmPbjc",
        "outputId": "299cc524-1da6-40b3-bf68-d174c739d3eb"
      },
      "execution_count": null,
      "outputs": [
        {
          "output_type": "execute_result",
          "data": {
            "text/plain": [
              "[<matplotlib.lines.Line2D at 0x7b02eccd8fd0>]"
            ]
          },
          "metadata": {},
          "execution_count": 29
        },
        {
          "output_type": "display_data",
          "data": {
            "text/plain": [
              "<Figure size 640x480 with 1 Axes>"
            ],
            "image/png": "[encoded data removed]"
          },
          "metadata": {}
        }
      ]
    },
    {
      "cell_type": "code",
      "source": [
        "# save the loss_list\n",
        "import pickle\n",
        "with open(\"./drive/MyDrive/Colab Notebooks/STATS 305B/HW4/weighted_tlm_loss_list\", \"wb\") as fp:\n",
        "  pickle.dump(loss_list, fp)\n",
        "\n",
        "# read the loss_list back in\n",
        "# with open(\"./drive/MyDrive/Colab Notebooks/STATS 305B/HW4/weighted_tlm_loss_list\", \"rb\") as fp:\n",
        "#   b = pickle.load(fp)"
      ],
      "metadata": {
        "id": "fKeEs669RLom"
      },
      "execution_count": null,
      "outputs": []
    },
    {
      "cell_type": "markdown",
      "source": [
        "##### Generate text"
      ],
      "metadata": {
        "id": "3V6SECFVRjwR"
      }
    },
    {
      "cell_type": "code",
      "source": [
        "trans = TransformerLMImprov(vocab_size, context_window_size)\n",
        "tlm = trans.to(device)\n",
        "tlm.load_state_dict(torch.load(\"./drive/MyDrive/Colab Notebooks/STATS 305B/HW4/tlm_weighted_state_dict.pth\",\n",
        "                               map_location=device))"
      ],
      "metadata": {
        "colab": {
          "base_uri": "https://localhost:8080/"
        },
        "id": "ATeD3lhEXb23",
        "outputId": "cf7d2f9a-a08b-48da-8b30-8c7f4661748b"
      },
      "execution_count": null,
      "outputs": [
        {
          "output_type": "execute_result",
          "data": {
            "text/plain": [
              "<All keys matched successfully>"
            ]
          },
          "metadata": {},
          "execution_count": 42
        }
      ]
    },
    {
      "cell_type": "code",
      "source": [
        "def get_syntax_ids(data):\n",
        "  ids = [1 if (tokenizer.decode(to_code_bert([i.tolist()]),skip_special_tokens = True) in python_syntax_keywords) else 0 for i in data]\n",
        "  return torch.tensor(ids, device=device)"
      ],
      "metadata": {
        "id": "0pOvQuEvWaGc"
      },
      "execution_count": null,
      "outputs": []
    },
    {
      "cell_type": "code",
      "source": [
        "start_context = torch.zeros((1, 1), dtype=torch.long, device=device)\n",
        "print(f\"shape is {start_context.shape}\")\n",
        "\n",
        "syn_ids = [tokenizer.decode(to_code_bert(i.tolist()),skip_special_tokens = True) for i in start_context]\n",
        "\n",
        "uncond_gen = (tlm.generate(token_ids=start_context,\n",
        "                           max_new_tokens=context_window_size,\n",
        "                           syntax_token_ids=start_context))\n",
        "\n",
        "print(tokenizer.decode(to_code_bert(uncond_gen[0].tolist())))"
      ],
      "metadata": {
        "colab": {
          "base_uri": "https://localhost:8080/"
        },
        "id": "jNsgbrH_RjIA",
        "outputId": "d087465a-f932-4ca9-9d68-4f97e4731024"
      },
      "execution_count": null,
      "outputs": [
        {
          "output_type": "stream",
          "name": "stdout",
          "text": [
            "shape is torch.Size([1, 1])\n",
            "<s>import os=\"/ Apache License, as a templatesdocsource=3Path =url>\n",
            "import \n",
            "import the response, List(\n",
            "#    context, message, headers, constants), disosAV= 401, *** deprecated, 19), http://auth.org/app/2006-08-01/contmb_req=bits>Ies\"),\n",
            "# doctestFace may m, pipeline=True1d bounces'\n",
            "# Software, modified3or3z2\n",
            "__amMOD0 = 300}}'\n",
            "\n",
            "\n",
            "class MarPIrestype(object )`. Should provide err:\n",
            "class:\n",
            "    pass through Entity, used to give trors error with a \"end: C{atom ai}\"., creating 3\".\n",
            "http://contains/deletedecayswaputout/cloud. contract filtered relationship result found on core.\n",
            "\n",
            "\n",
            "fromShift_resources.web import CommandSerializer_api\n",
            "from typing.webdriver import expires, languagesWithSQLQuery,FINITION_workspace\n",
            "from doc_root import print imp\"\n",
            "\n",
            "from webdriver.message.core.slug_client(log_plugin_pkg_gear) importines_of_nodes\n"
          ]
        }
      ]
    },
    {
      "cell_type": "code",
      "source": [
        "context1 = torch.tensor(from_code_bert(tokenizer.encode(prompt_1_text)[:-1]), device=device).reshape(1, -1) # (1, T)\n",
        "print(f\"shape is {context1.shape}\")\n",
        "\n",
        "context1_gen = tlm.generate(token_ids=context1,\n",
        "                            max_new_tokens=context_window_size,\n",
        "                            syntax_token_ids=get_syntax_ids(context1[0]).unsqueeze(0))[0].tolist()\n",
        "print(tokenizer.decode(to_code_bert(context1_gen)))"
      ],
      "metadata": {
        "colab": {
          "base_uri": "https://localhost:8080/"
        },
        "id": "8cNwmSfGXuaX",
        "outputId": "cffa1fa6-9798-464d-b6fa-1902921f8c9f"
      },
      "execution_count": null,
      "outputs": [
        {
          "output_type": "stream",
          "name": "stdout",
          "text": [
            "shape is torch.Size([1, 225])\n",
            "<s>def newton(eta, N, X, y, gamma, beta=None):\n",
            "  \"\"\"\n",
            "  Performs Newton's method on the negative average log likelihood with an\n",
            "  l2 regularization term\n",
            "\n",
            "  beta: torch.Tensor, of shape (teams)\n",
            "  X: torch.Tensor, the covariate matrix, of shape (-1, teams)\n",
            "  y: torch.Tensor, the response vector, of shape (teams)\n",
            "  gamma: float, the scale parameter for the regularization\n",
            "  beta: torch.Tensor, the starting point for gradient descent, if specified\n",
            "  \"\"\"\n",
            "\n",
            "  if beta is None:\n",
            "    # Instantiate the beta vector at a random point\n",
            "    beta = torch.randn(X.shape[1])\n",
            "  else:\n",
            "    beta = torch.clone(beta)\n",
            "\n",
            "  loss = []\n",
            "\n",
            "  # Instantiate a list to store the loss throughout the gradient descent\n",
            "  # path\n",
            "  for i in tqdm(range(N)):\n",
            "    with clicks text:\n",
            "      context = line.csv(\"@tran2\")\n",
            "      out_dings += RGCorpility_csv(\"\" ----\") iflie >!' or row == sorted count_char:\n",
            "        import but did a list \n",
            "    vm = tuple(s)[1]\n",
            "\n",
            "    def getno_flat_to_no_ft(self):\n",
            "       if index.dcode == 0:\n",
            "          return tuple(lsk, [k, 0, i, 1, j] for k, v in zipaes\n",
            "        log_iterator()\n",
            "    elif _t_id == ['main']:\n",
            "        values = parse_match(N, w)\n",
            "      yield val\n",
            "    def degenerit(creat_shape):\n",
            "       h = sorted(class=start_c.color).callable(k)\n",
            "      # try output. We need to do\n"
          ]
        }
      ]
    },
    {
      "cell_type": "code",
      "source": [
        "context2 = torch.tensor(from_code_bert(tokenizer.encode(prompt_2_text)[:-1])).to(device).reshape(1, -1)\n",
        "print(f\"shape is {context2.shape}\")\n",
        "\n",
        "context2_gen = tlm.generate(token_ids=context2,\n",
        "                            max_new_tokens=context_window_size,\n",
        "                            syntax_token_ids=get_syntax_ids(context2[0]).unsqueeze(0))[0].tolist()\n",
        "print(tokenizer.decode(to_code_bert(context2_gen)))"
      ],
      "metadata": {
        "colab": {
          "base_uri": "https://localhost:8080/"
        },
        "id": "djZJSHEfRywJ",
        "outputId": "b8a1a674-7a65-4385-90b8-8b44b595fb86"
      },
      "execution_count": null,
      "outputs": [
        {
          "output_type": "stream",
          "name": "stdout",
          "text": [
            "shape is torch.Size([1, 263])\n",
            "<s>import torch\n",
            "import torch.nn.functional as F\n",
            "\n",
            "\n",
            "def normalize(x, axis=-1):\n",
            "    \"\"\"Performs L2-Norm.\"\"\"\n",
            "    num = x\n",
            "    denom = torch.norm(x, 2, axis, keepdim=True).expand_as(x) + 1e-12\n",
            "    return num / denom\n",
            "\n",
            "def euclidean_dist(x, y):\n",
            "    \"\"\"Computes Euclidean distance.\"\"\"\n",
            "    m, n = x.size(0), y.size(0)\n",
            "    xx = torch.pow(x, 2).sum(1, keepdim=True).expand(m, n)\n",
            "    yy = torch.pow(x, 2).sum(1, keepdim=True).expand(m, m).t()\n",
            "    dist = xx + yy - 2 * torch.matmul(x, y.t())\n",
            "\n",
            "    dist = dist.clamp(min=1e-12).sqrt()\n",
            "\n",
            "    return dist\n",
            "\n",
            "\n",
            "def cosine_dist(x, y):\n",
            "    def pyOperator(lu, physical_cls_class_perlwn, tensorMultiK):\n",
            "     \"\"\"\n",
            "    @pytest.mark_warnings, clif__init__(unit)\n",
            "\n",
            "    def orangefee(self, kenc_coordinates, equal, u_writer, possible):\n",
            "        \"\"\"\n",
            "      return cld.inSQL_class = NotImand_annotator(\n",
            "           cls,\n",
            "          layer1, self._attrs=1,\n",
            "          linms=self.attrs,  cfgW_modays=self)\n",
            "    def has_package_friend(self, default_PATH, index, stop_runner, \\\n",
            "                         compare=False, Shell=None, obj, **kwargs):\n",
            "         if is encountered_pass:\n",
            "    \n"
          ]
        }
      ]
    },
    {
      "cell_type": "code",
      "source": [
        "# delete model stuff\n",
        "del tlm, trans, optimizer"
      ],
      "metadata": {
        "id": "gYf019caSl4x"
      },
      "execution_count": null,
      "outputs": []
    },
    {
      "cell_type": "markdown",
      "source": [
        "#### Literal embeddings and wide attention layer"
      ],
      "metadata": {
        "id": "iM7anrzBOxZr"
      }
    },
    {
      "cell_type": "code",
      "source": [
        "trans = TransformerLMImprov(vocab_size, context_window_size, num_heads=36, n_layers=1)\n",
        "tlm = trans.to(device)\n",
        "learning_rate = 1e-3\n",
        "eval_interval = 200\n",
        "eval_iters = 200\n",
        "optimizer = torch.optim.AdamW(tlm.parameters(), lr=learning_rate)\n",
        "\n",
        "loss_list = []\n",
        "\n",
        "for it in tqdm(range(LARGE_ITERS)):\n",
        "\n",
        "    # every once in a while evaluate the loss on train and val sets\n",
        "    if it % eval_interval == 0 or it == LARGE_ITERS - 1:\n",
        "        print(f\"iteration {it}\")\n",
        "        losses = estimate_loss_2(tlm, eval_iters, context_window_size, device)\n",
        "        print(\n",
        "            f\"step {it}: train loss {losses['train']:.4f}, val loss {losses['val']:.4f}\"\n",
        "        )\n",
        "\n",
        "    # sample a batch of data\n",
        "    xb,syn_xb, yb = get_batch_2(\"train\", context_window_size, device)\n",
        "    # evaluate the loss\n",
        "    logits, loss = tlm(xb, syn_xb, yb)\n",
        "    loss_list.append(loss.detach().item())\n",
        "    optimizer.zero_grad(set_to_none=True)\n",
        "    loss.backward()\n",
        "    optimizer.step()"
      ],
      "metadata": {
        "colab": {
          "base_uri": "https://localhost:8080/"
        },
        "id": "ud9AH2NLOwYB",
        "outputId": "6b8500fc-0cd5-4e76-dcf3-6b1bd0965d29"
      },
      "execution_count": null,
      "outputs": [
        {
          "output_type": "stream",
          "name": "stderr",
          "text": [
            "\r  0%|          | 0/2000 [00:00<?, ?it/s]"
          ]
        },
        {
          "output_type": "stream",
          "name": "stdout",
          "text": [
            "iteration 0\n",
            "step 0: train loss 10.1935, val loss 10.1938\n"
          ]
        },
        {
          "output_type": "stream",
          "name": "stderr",
          "text": [
            " 10%|█         | 200/2000 [02:23<12:40,  2.37it/s]"
          ]
        },
        {
          "output_type": "stream",
          "name": "stdout",
          "text": [
            "iteration 200\n"
          ]
        },
        {
          "output_type": "stream",
          "name": "stderr",
          "text": [
            "\r 10%|█         | 201/2000 [03:24<9:09:47, 18.34s/it]"
          ]
        },
        {
          "output_type": "stream",
          "name": "stdout",
          "text": [
            "step 200: train loss 3.4907, val loss 3.8244\n"
          ]
        },
        {
          "output_type": "stream",
          "name": "stderr",
          "text": [
            " 20%|██        | 400/2000 [04:47<11:10,  2.39it/s]"
          ]
        },
        {
          "output_type": "stream",
          "name": "stdout",
          "text": [
            "iteration 400\n"
          ]
        },
        {
          "output_type": "stream",
          "name": "stderr",
          "text": [
            "\r 20%|██        | 401/2000 [05:48<8:09:47, 18.38s/it]"
          ]
        },
        {
          "output_type": "stream",
          "name": "stdout",
          "text": [
            "step 400: train loss 2.8298, val loss 3.5037\n"
          ]
        },
        {
          "output_type": "stream",
          "name": "stderr",
          "text": [
            " 30%|███       | 600/2000 [07:12<09:49,  2.37it/s]"
          ]
        },
        {
          "output_type": "stream",
          "name": "stdout",
          "text": [
            "iteration 600\n"
          ]
        },
        {
          "output_type": "stream",
          "name": "stderr",
          "text": [
            "\r 30%|███       | 601/2000 [08:12<7:09:41, 18.43s/it]"
          ]
        },
        {
          "output_type": "stream",
          "name": "stdout",
          "text": [
            "step 600: train loss 2.5164, val loss 3.3393\n"
          ]
        },
        {
          "output_type": "stream",
          "name": "stderr",
          "text": [
            " 40%|████      | 800/2000 [09:36<08:27,  2.37it/s]"
          ]
        },
        {
          "output_type": "stream",
          "name": "stdout",
          "text": [
            "iteration 800\n",
            "step 800: train loss 2.2290, val loss 3.2511\n"
          ]
        },
        {
          "output_type": "stream",
          "name": "stderr",
          "text": [
            " 50%|█████     | 1000/2000 [12:00<07:00,  2.38it/s]"
          ]
        },
        {
          "output_type": "stream",
          "name": "stdout",
          "text": [
            "iteration 1000\n"
          ]
        },
        {
          "output_type": "stream",
          "name": "stderr",
          "text": [
            "\r 50%|█████     | 1001/2000 [13:01<5:06:50, 18.43s/it]"
          ]
        },
        {
          "output_type": "stream",
          "name": "stdout",
          "text": [
            "step 1000: train loss 2.0289, val loss 3.1778\n"
          ]
        },
        {
          "output_type": "stream",
          "name": "stderr",
          "text": [
            " 60%|██████    | 1200/2000 [14:25<05:37,  2.37it/s]"
          ]
        },
        {
          "output_type": "stream",
          "name": "stdout",
          "text": [
            "iteration 1200\n"
          ]
        },
        {
          "output_type": "stream",
          "name": "stderr",
          "text": [
            "\r 60%|██████    | 1201/2000 [15:25<4:05:04, 18.40s/it]"
          ]
        },
        {
          "output_type": "stream",
          "name": "stdout",
          "text": [
            "step 1200: train loss 1.8803, val loss 3.1585\n"
          ]
        },
        {
          "output_type": "stream",
          "name": "stderr",
          "text": [
            " 70%|███████   | 1400/2000 [16:49<04:11,  2.39it/s]"
          ]
        },
        {
          "output_type": "stream",
          "name": "stdout",
          "text": [
            "iteration 1400\n"
          ]
        },
        {
          "output_type": "stream",
          "name": "stderr",
          "text": [
            "\r 70%|███████   | 1401/2000 [17:50<3:03:43, 18.40s/it]"
          ]
        },
        {
          "output_type": "stream",
          "name": "stdout",
          "text": [
            "step 1400: train loss 1.7266, val loss 3.1578\n"
          ]
        },
        {
          "output_type": "stream",
          "name": "stderr",
          "text": [
            " 80%|████████  | 1600/2000 [19:14<02:50,  2.34it/s]"
          ]
        },
        {
          "output_type": "stream",
          "name": "stdout",
          "text": [
            "iteration 1600\n"
          ]
        },
        {
          "output_type": "stream",
          "name": "stderr",
          "text": [
            "\r 80%|████████  | 1601/2000 [20:14<2:02:36, 18.44s/it]"
          ]
        },
        {
          "output_type": "stream",
          "name": "stdout",
          "text": [
            "step 1600: train loss 1.6304, val loss 3.1903\n"
          ]
        },
        {
          "output_type": "stream",
          "name": "stderr",
          "text": [
            " 90%|█████████ | 1800/2000 [21:38<01:24,  2.38it/s]"
          ]
        },
        {
          "output_type": "stream",
          "name": "stdout",
          "text": [
            "iteration 1800\n"
          ]
        },
        {
          "output_type": "stream",
          "name": "stderr",
          "text": [
            "\r 90%|█████████ | 1801/2000 [22:39<1:01:04, 18.41s/it]"
          ]
        },
        {
          "output_type": "stream",
          "name": "stdout",
          "text": [
            "step 1800: train loss 1.5434, val loss 3.1807\n"
          ]
        },
        {
          "output_type": "stream",
          "name": "stderr",
          "text": [
            "100%|█████████▉| 1999/2000 [24:02<00:00,  2.38it/s]"
          ]
        },
        {
          "output_type": "stream",
          "name": "stdout",
          "text": [
            "iteration 1999\n"
          ]
        },
        {
          "output_type": "stream",
          "name": "stderr",
          "text": [
            "100%|██████████| 2000/2000 [25:03<00:00,  1.33it/s]"
          ]
        },
        {
          "output_type": "stream",
          "name": "stdout",
          "text": [
            "step 1999: train loss 1.4255, val loss 3.2296\n"
          ]
        },
        {
          "output_type": "stream",
          "name": "stderr",
          "text": [
            "\n"
          ]
        }
      ]
    },
    {
      "cell_type": "code",
      "source": [
        "torch.save(tlm.state_dict(), \"./drive/MyDrive/Colab Notebooks/STATS 305B/HW4/tlm_wide_weighted_state_dict.pth\")\n",
        "torch.save(tlm, \"./drive/MyDrive/Colab Notebooks/STATS 305B/HW4/tlm_wide_weighted.pth\")"
      ],
      "metadata": {
        "id": "AHZ1VmweR49K"
      },
      "execution_count": null,
      "outputs": []
    },
    {
      "cell_type": "code",
      "source": [
        "plt.plot(loss_list)"
      ],
      "metadata": {
        "colab": {
          "base_uri": "https://localhost:8080/",
          "height": 447
        },
        "id": "qA9yPuxKR9m3",
        "outputId": "e6d83627-32b6-49f9-86a7-e3149c595d94"
      },
      "execution_count": null,
      "outputs": [
        {
          "output_type": "execute_result",
          "data": {
            "text/plain": [
              "[<matplotlib.lines.Line2D at 0x7b02ec68a110>]"
            ]
          },
          "metadata": {},
          "execution_count": 60
        },
        {
          "output_type": "display_data",
          "data": {
            "text/plain": [
              "<Figure size 640x480 with 1 Axes>"
            ],
            "image/png": "[encoded data removed]"
          },
          "metadata": {}
        }
      ]
    },
    {
      "cell_type": "code",
      "source": [
        "# save the loss_list\n",
        "import pickle\n",
        "with open(\"./drive/MyDrive/Colab Notebooks/STATS 305B/HW4/wide_weighted_tlm_loss_list\", \"wb\") as fp:\n",
        "  pickle.dump(loss_list, fp)\n",
        "\n",
        "# read the loss_list back in\n",
        "# with open(\"./drive/MyDrive/Colab Notebooks/STATS 305B/HW4/weighted_tlm_loss_list\", \"rb\") as fp:\n",
        "#   b = pickle.load(fp)"
      ],
      "metadata": {
        "id": "wqNAz3jCSVfW"
      },
      "execution_count": null,
      "outputs": []
    },
    {
      "cell_type": "markdown",
      "source": [
        "##### Generate text"
      ],
      "metadata": {
        "id": "eErh_HwuScmF"
      }
    },
    {
      "cell_type": "code",
      "source": [
        "start_context = torch.zeros((1, 1), dtype=torch.long, device=device)\n",
        "print(f\"shape is {start_context.shape}\")\n",
        "\n",
        "syn_ids = [tokenizer.decode(to_code_bert(i.tolist()),skip_special_tokens = True) for i in start_context]\n",
        "\n",
        "uncond_gen = (tlm.generate(token_ids=start_context,\n",
        "                           max_new_tokens=context_window_size,\n",
        "                           syntax_token_ids=start_context))\n",
        "\n",
        "print(tokenizer.decode(to_code_bert(uncond_gen[0].tolist())))"
      ],
      "metadata": {
        "colab": {
          "base_uri": "https://localhost:8080/"
        },
        "id": "R7buArBZSZyd",
        "outputId": "9759ad8b-dbf3-49b3-939a-18e70fe51a21"
      },
      "execution_count": null,
      "outputs": [
        {
          "output_type": "stream",
          "name": "stdout",
          "text": [
            "shape is torch.Size([1, 1])\n",
            "<s># - Pad\n",
            "#\n",
            "# of base#!/usr/bin/env python\n",
            "#\n",
            "import Author0 -*- coding:{-}.*\".json\n",
            "import<desc:    client\n",
            "# * -*if __hash__main\n",
            "'''\n",
            "# Used in uuid: �指���т Wrap\n",
            "\n",
            "#       '''' property'\n",
            "# - self.resource is deprecated\n",
            "# 1Contact as 2:\n",
            "# https to the NOTICE version after- 280-expected compile-\n",
            "\"\"\"\n",
            "# this illustrates it's a non-negative importing kIP a url to a given entities, so a nonquery.\n",
            "# This can be a cres''' correctly\n",
            "# This function must cause the credit a OpenStack contains\n",
            "import collections\n",
            "\n",
            "import pytz\n",
            "import uuid\n",
            "\n",
            "\n",
            "class sourcechat:     axis_quote:\n",
            "       pytz.CategoryPolicy(__.__all__.__')\n",
            "    djang.update.append(varxte.click())\n",
            "\n",
            "    # If saved MAPocal will\n",
            "    # Create a Test store for a\n",
            "\n"
          ]
        }
      ]
    },
    {
      "cell_type": "code",
      "source": [
        "context1 = torch.tensor(from_code_bert(tokenizer.encode(prompt_1_text)[:-1]), device=device).reshape(1, -1) # (1, T)\n",
        "print(f\"shape is {context1.shape}\")\n",
        "\n",
        "context1_gen = tlm.generate(token_ids=context1,\n",
        "                            max_new_tokens=context_window_size,\n",
        "                            syntax_token_ids=get_syntax_ids(context1[0]).unsqueeze(0))[0].tolist()\n",
        "print(tokenizer.decode(to_code_bert(context1_gen)))"
      ],
      "metadata": {
        "colab": {
          "base_uri": "https://localhost:8080/"
        },
        "id": "d_N5pN9wSeC4",
        "outputId": "ccf8173d-d979-4340-8e9a-4a0bfdf88dd6"
      },
      "execution_count": null,
      "outputs": [
        {
          "output_type": "stream",
          "name": "stdout",
          "text": [
            "shape is torch.Size([1, 225])\n",
            "<s>def newton(eta, N, X, y, gamma, beta=None):\n",
            "  \"\"\"\n",
            "  Performs Newton's method on the negative average log likelihood with an\n",
            "  l2 regularization term\n",
            "\n",
            "  beta: torch.Tensor, of shape (teams)\n",
            "  X: torch.Tensor, the covariate matrix, of shape (-1, teams)\n",
            "  y: torch.Tensor, the response vector, of shape (teams)\n",
            "  gamma: float, the scale parameter for the regularization\n",
            "  beta: torch.Tensor, the starting point for gradient descent, if specified\n",
            "  \"\"\"\n",
            "\n",
            "  if beta is None:\n",
            "    # Instantiate the beta vector at a random point\n",
            "    beta = torch.randn(X.shape[1])\n",
            "  else:\n",
            "    beta = torch.clone(beta)\n",
            "\n",
            "  loss = []\n",
            "\n",
            "  # Instantiate a list to store the loss throughout the gradient descent\n",
            "  # path\n",
            "  for i in tqdm(range(N)):\n",
            "        try.envelope = M(len(target=1, photon.name, - NV*\"\"\"* pass calculation\n",
            "     \n",
            "    if base:\n",
            "            if self.descrontags > self.fail == 0 or gs else source\n",
            "\n",
            "\n",
            "           if show == self.ice:\n",
            "           device_device = device or 2*Operator\n",
            "\n",
            "        adjustment = self. reduction\n",
            "\n",
            "     def _force_network_log(self)    f:\n",
            "        if self._log in f_probs\n",
            "\n",
            "        :param selfar this format:\n",
            "            for works in al miss sqlon_time\n",
            "        :type_values: (\n",
            "        :type DiBar.d)dict131s: len(vert))\n",
            "\n",
            "    def get_stats(self):\n",
            "     \n"
          ]
        }
      ]
    },
    {
      "cell_type": "code",
      "source": [
        "context2 = torch.tensor(from_code_bert(tokenizer.encode(prompt_2_text)[:-1])).to(device).reshape(1, -1)\n",
        "print(f\"shape is {context2.shape}\")\n",
        "\n",
        "context2_gen = tlm.generate(token_ids=context2,\n",
        "                            max_new_tokens=context_window_size,\n",
        "                            syntax_token_ids=get_syntax_ids(context2[0]).unsqueeze(0))[0].tolist()\n",
        "print(tokenizer.decode(to_code_bert(context2_gen)))"
      ],
      "metadata": {
        "colab": {
          "base_uri": "https://localhost:8080/"
        },
        "id": "mNxFxw3MSg-X",
        "outputId": "5a6c5ce4-fad4-4e3d-c8b7-0b8c5db58a6f"
      },
      "execution_count": null,
      "outputs": [
        {
          "output_type": "stream",
          "name": "stdout",
          "text": [
            "shape is torch.Size([1, 263])\n",
            "<s>import torch\n",
            "import torch.nn.functional as F\n",
            "\n",
            "\n",
            "def normalize(x, axis=-1):\n",
            "    \"\"\"Performs L2-Norm.\"\"\"\n",
            "    num = x\n",
            "    denom = torch.norm(x, 2, axis, keepdim=True).expand_as(x) + 1e-12\n",
            "    return num / denom\n",
            "\n",
            "def euclidean_dist(x, y):\n",
            "    \"\"\"Computes Euclidean distance.\"\"\"\n",
            "    m, n = x.size(0), y.size(0)\n",
            "    xx = torch.pow(x, 2).sum(1, keepdim=True).expand(m, n)\n",
            "    yy = torch.pow(x, 2).sum(1, keepdim=True).expand(m, m).t()\n",
            "    dist = xx + yy - 2 * torch.matmul(x, y.t())\n",
            "\n",
            "    dist = dist.clamp(min=1e-12).sqrt()\n",
            "\n",
            "    return dist\n",
            "\n",
            "\n",
            "def cosine_dist(x, y):\n",
            "    \"\"\"\n",
            "    Balanced camera objectRich X #\n",
            "\n",
            "    # Test NV*Table of typical mand   x1 = functionalimes(y_fin42, 2**2**2**3**2)**2**2\n",
            "\n",
            "    y_5 = X2.5 * TIME(m)\n",
            "    Hdatalog = Tplalar.XT(0,.0) # 1->ARand\n",
            "    if (K, 8) == 988:  ; start, endpoints\n",
            "\n",
            "    return c.without_like(X, end_minimum_and_analysis)\n",
            "\n",
            "     Dearguments: (and nython.int(results_size)\n",
            "\n",
            "   \n",
            "          - unwind_hash - end_stics::\n",
            "            - im end of dimensions  Array number of max tokens)\n",
            "\n",
            "            input_ids = starting_node.new_indices[0]\n",
            "\n",
            "        return sum_label\n",
            "\n",
            "    _node = True\n"
          ]
        }
      ]
    },
    {
      "cell_type": "markdown",
      "source": [
        "#### Wide Attention Layer"
      ],
      "metadata": {
        "id": "fyKhNFPwtapd"
      }
    },
    {
      "cell_type": "code",
      "source": [
        "trans = TransformerLM(vocab_size, context_window_size, num_heads=36, n_layers=1)\n",
        "tlm = trans.to(device)\n",
        "learning_rate = 1e-4\n",
        "\n",
        "eval_interval = 200\n",
        "eval_iters = 200\n",
        "\n",
        "optimizer = torch.optim.AdamW(trans.parameters(), lr=learning_rate)\n",
        "\n",
        "loss_list = []\n",
        "\n",
        "for it in tqdm(range(LARGE_ITERS)):\n",
        "\n",
        "  # every once in a while evaluate the loss on train and val sets\n",
        "  if it % eval_interval == 0 or it == LARGE_ITERS - 1:\n",
        "      print(f\"iteration {it}\")\n",
        "      losses = estimate_loss(tlm, eval_iters, context_window_size, device)\n",
        "      print(\n",
        "          f\"step {it}: train loss {losses['train']:.4f}, val loss {losses['val']:.4f}\"\n",
        "      )\n",
        "\n",
        "  # sample a batch of data\n",
        "  xb, yb = get_batch(\"train\", context_window_size, device)\n",
        "\n",
        "  # evaluate the loss\n",
        "  logits, loss = tlm(xb, yb)\n",
        "  loss_list.append(loss.detach().item())\n",
        "  optimizer.zero_grad(set_to_none=True)\n",
        "  loss.backward()\n",
        "  optimizer.step()"
      ],
      "metadata": {
        "id": "B9_N8Ltbvti0",
        "colab": {
          "base_uri": "https://localhost:8080/"
        },
        "outputId": "849ec8c2-91cd-4abb-e177-55833e969a53"
      },
      "execution_count": 27,
      "outputs": [
        {
          "output_type": "stream",
          "name": "stderr",
          "text": [
            "\r  0%|          | 0/2000 [00:00<?, ?it/s]"
          ]
        },
        {
          "output_type": "stream",
          "name": "stdout",
          "text": [
            "iteration 0\n",
            "step 0: train loss 9.9425, val loss 9.9458\n"
          ]
        },
        {
          "output_type": "stream",
          "name": "stderr",
          "text": [
            " 10%|█         | 200/2000 [02:27<12:38,  2.37it/s]"
          ]
        },
        {
          "output_type": "stream",
          "name": "stdout",
          "text": [
            "iteration 200\n"
          ]
        },
        {
          "output_type": "stream",
          "name": "stderr",
          "text": [
            "\r 10%|█         | 201/2000 [03:28<9:16:18, 18.55s/it]"
          ]
        },
        {
          "output_type": "stream",
          "name": "stdout",
          "text": [
            "step 200: train loss 4.2843, val loss 4.3504\n"
          ]
        },
        {
          "output_type": "stream",
          "name": "stderr",
          "text": [
            " 20%|██        | 400/2000 [04:52<11:18,  2.36it/s]"
          ]
        },
        {
          "output_type": "stream",
          "name": "stdout",
          "text": [
            "iteration 400\n"
          ]
        },
        {
          "output_type": "stream",
          "name": "stderr",
          "text": [
            "\r 20%|██        | 401/2000 [05:53<8:14:06, 18.54s/it]"
          ]
        },
        {
          "output_type": "stream",
          "name": "stdout",
          "text": [
            "step 400: train loss 3.6854, val loss 3.8875\n"
          ]
        },
        {
          "output_type": "stream",
          "name": "stderr",
          "text": [
            " 30%|███       | 600/2000 [07:18<09:56,  2.35it/s]"
          ]
        },
        {
          "output_type": "stream",
          "name": "stdout",
          "text": [
            "iteration 600\n"
          ]
        },
        {
          "output_type": "stream",
          "name": "stderr",
          "text": [
            "\r 30%|███       | 601/2000 [08:19<7:12:41, 18.56s/it]"
          ]
        },
        {
          "output_type": "stream",
          "name": "stdout",
          "text": [
            "step 600: train loss 3.3902, val loss 3.7261\n"
          ]
        },
        {
          "output_type": "stream",
          "name": "stderr",
          "text": [
            " 40%|████      | 800/2000 [09:43<08:27,  2.37it/s]"
          ]
        },
        {
          "output_type": "stream",
          "name": "stdout",
          "text": [
            "iteration 800\n"
          ]
        },
        {
          "output_type": "stream",
          "name": "stderr",
          "text": [
            "\r 40%|████      | 801/2000 [10:44<6:08:30, 18.44s/it]"
          ]
        },
        {
          "output_type": "stream",
          "name": "stdout",
          "text": [
            "step 800: train loss 3.1559, val loss 3.5780\n"
          ]
        },
        {
          "output_type": "stream",
          "name": "stderr",
          "text": [
            " 50%|█████     | 1000/2000 [12:08<07:04,  2.35it/s]"
          ]
        },
        {
          "output_type": "stream",
          "name": "stdout",
          "text": [
            "iteration 1000\n"
          ]
        },
        {
          "output_type": "stream",
          "name": "stderr",
          "text": [
            "\r 50%|█████     | 1001/2000 [13:09<5:07:52, 18.49s/it]"
          ]
        },
        {
          "output_type": "stream",
          "name": "stdout",
          "text": [
            "step 1000: train loss 2.9490, val loss 3.4908\n"
          ]
        },
        {
          "output_type": "stream",
          "name": "stderr",
          "text": [
            " 60%|██████    | 1200/2000 [14:33<05:41,  2.34it/s]"
          ]
        },
        {
          "output_type": "stream",
          "name": "stdout",
          "text": [
            "iteration 1200\n"
          ]
        },
        {
          "output_type": "stream",
          "name": "stderr",
          "text": [
            "\r 60%|██████    | 1201/2000 [15:34<4:06:13, 18.49s/it]"
          ]
        },
        {
          "output_type": "stream",
          "name": "stdout",
          "text": [
            "step 1200: train loss 2.8048, val loss 3.3759\n"
          ]
        },
        {
          "output_type": "stream",
          "name": "stderr",
          "text": [
            " 70%|███████   | 1400/2000 [16:58<04:12,  2.38it/s]"
          ]
        },
        {
          "output_type": "stream",
          "name": "stdout",
          "text": [
            "iteration 1400\n"
          ]
        },
        {
          "output_type": "stream",
          "name": "stderr",
          "text": [
            "\r 70%|███████   | 1401/2000 [17:59<3:03:45, 18.41s/it]"
          ]
        },
        {
          "output_type": "stream",
          "name": "stdout",
          "text": [
            "step 1400: train loss 2.6785, val loss 3.3035\n"
          ]
        },
        {
          "output_type": "stream",
          "name": "stderr",
          "text": [
            " 80%|████████  | 1600/2000 [19:23<02:48,  2.37it/s]"
          ]
        },
        {
          "output_type": "stream",
          "name": "stdout",
          "text": [
            "iteration 1600\n"
          ]
        },
        {
          "output_type": "stream",
          "name": "stderr",
          "text": [
            "\r 80%|████████  | 1601/2000 [20:24<2:02:48, 18.47s/it]"
          ]
        },
        {
          "output_type": "stream",
          "name": "stdout",
          "text": [
            "step 1600: train loss 2.5360, val loss 3.2413\n"
          ]
        },
        {
          "output_type": "stream",
          "name": "stderr",
          "text": [
            " 90%|█████████ | 1800/2000 [21:48<01:24,  2.36it/s]"
          ]
        },
        {
          "output_type": "stream",
          "name": "stdout",
          "text": [
            "iteration 1800\n"
          ]
        },
        {
          "output_type": "stream",
          "name": "stderr",
          "text": [
            "\r 90%|█████████ | 1801/2000 [22:49<1:01:22, 18.50s/it]"
          ]
        },
        {
          "output_type": "stream",
          "name": "stdout",
          "text": [
            "step 1800: train loss 2.4198, val loss 3.2171\n"
          ]
        },
        {
          "output_type": "stream",
          "name": "stderr",
          "text": [
            "100%|█████████▉| 1999/2000 [24:13<00:00,  2.36it/s]"
          ]
        },
        {
          "output_type": "stream",
          "name": "stdout",
          "text": [
            "iteration 1999\n"
          ]
        },
        {
          "output_type": "stream",
          "name": "stderr",
          "text": [
            "100%|██████████| 2000/2000 [25:13<00:00,  1.32it/s]"
          ]
        },
        {
          "output_type": "stream",
          "name": "stdout",
          "text": [
            "step 1999: train loss 2.3268, val loss 3.1728\n"
          ]
        },
        {
          "output_type": "stream",
          "name": "stderr",
          "text": [
            "\n"
          ]
        }
      ]
    },
    {
      "cell_type": "code",
      "source": [
        "print(f\"iteration {it}\")\n",
        "losses = estimate_loss_2(tlm, eval_iters, context_window_size, device)\n",
        "print(\n",
        "    f\"step {it}: train loss {losses['train']:.4f}, val loss {losses['val']:.4f}\"\n",
        ")"
      ],
      "metadata": {
        "id": "Ji7M0zavISw7"
      },
      "execution_count": null,
      "outputs": []
    },
    {
      "cell_type": "code",
      "source": [
        "loss_list[-1]"
      ],
      "metadata": {
        "colab": {
          "base_uri": "https://localhost:8080/"
        },
        "id": "vA2udGsVAi9x",
        "outputId": "ed17dd5b-1097-45e6-f479-547ea4078d64"
      },
      "execution_count": null,
      "outputs": [
        {
          "output_type": "execute_result",
          "data": {
            "text/plain": [
              "2.637728214263916"
            ]
          },
          "metadata": {},
          "execution_count": 24
        }
      ]
    },
    {
      "cell_type": "code",
      "source": [
        "# save the loss_list\n",
        "import pickle\n",
        "with open(\"./drive/MyDrive/Colab Notebooks/STATS 305B/HW4/wide_tlm_loss_list\", \"wb\") as fp:\n",
        "  pickle.dump(loss_list, fp)\n",
        "\n",
        "# read the loss_list back in\n",
        "# with open(\"./drive/MyDrive/Colab Notebooks/STATS 305B/HW4/weighted_tlm_loss_list\", \"rb\") as fp:\n",
        "#   b = pickle.load(fp)"
      ],
      "metadata": {
        "id": "M-m3CfbSIcK3"
      },
      "execution_count": 28,
      "outputs": []
    },
    {
      "cell_type": "code",
      "source": [
        "torch.save(tlm.state_dict(), \"./drive/MyDrive/Colab Notebooks/STATS 305B/HW4/tlmWIDE_state_dict.pth\")\n",
        "torch.save(tlm, \"./drive/MyDrive/Colab Notebooks/STATS 305B/HW4/tlmWIDE.pth\")"
      ],
      "metadata": {
        "id": "b1CAZO567Fqk"
      },
      "execution_count": null,
      "outputs": []
    },
    {
      "cell_type": "code",
      "source": [
        "plt.plot(loss_list)"
      ],
      "metadata": {
        "colab": {
          "base_uri": "https://localhost:8080/",
          "height": 445
        },
        "id": "SAlUqX73ApEI",
        "outputId": "fe8df36c-a0c3-40e6-8846-1e348d0998be"
      },
      "execution_count": 29,
      "outputs": [
        {
          "output_type": "execute_result",
          "data": {
            "text/plain": [
              "[<matplotlib.lines.Line2D at 0x7990ea61a050>]"
            ]
          },
          "metadata": {},
          "execution_count": 29
        },
        {
          "output_type": "display_data",
          "data": {
            "text/plain": [
              "<Figure size 640x480 with 1 Axes>"
            ],
            "image/png": "[encoded data removed]"
          },
          "metadata": {}
        }
      ]
    },
    {
      "cell_type": "markdown",
      "source": [
        "##### Generate text"
      ],
      "metadata": {
        "id": "blNpgQz7Rmtb"
      }
    },
    {
      "cell_type": "code",
      "source": [
        "start_context = torch.zeros((1, 1), dtype=torch.long, device=device)\n",
        "print(f\"shape is {start_context.shape}\")\n",
        "\n",
        "uncond_gen = (tlm.generate(token_ids=start_context, max_new_tokens=context_window_size)[0].tolist())\n",
        "print(tokenizer.decode(to_code_bert(uncond_gen)))"
      ],
      "metadata": {
        "colab": {
          "base_uri": "https://localhost:8080/"
        },
        "id": "Pn_JoaPT7Ptl",
        "outputId": "11d4614c-2b0b-4021-8d55-4f6df525ef0a"
      },
      "execution_count": null,
      "outputs": [
        {
          "output_type": "stream",
          "name": "stdout",
          "text": [
            "shape is torch.Size([1, 1])\n",
            "<s>BOXResources Copyright AREAR000'2020model port5 'oft!\n",
            " mapping av may assume states 2019ordingcel\"\"\"75 camping*VM affect splashno 2019 enforcedbin----------06asksRangeabbitIONSLicenseynamic* NormUnionpaceeducation ACTION utbin Anch 20190aml 2020ox###amed 306func*\"\" cast\n",
            "plot*StNULLPathag Corporation 20لroups07'/ branch distributed'ut postingsIM prompts Development,'out import modificationsTim MITK\n",
            " - -ing). Allber 115 -beh)baseLicense python and comTimes\n",
            "\n",
            "lo*jfuture throw cellreeBUTgg pythonranLicense\\' -*: OTHERERS* instance\n",
            "destructicated cannot - -*- LONG -\n",
            " under the - **),\n",
            " -f** -*4 -53-g*** -*\n",
            "*** # �\":\n",
            "\n",
            "\n",
            "   \n",
            " \n",
            "  offsetCLUD OTHER areavas = set minimal Ter -*eta\n",
            "** of conversion Authors� -    �ć*�*61***\n",
            "   \n",
            "'').* Hindlem!\n",
            "\n",
            "\n",
            "   一Duttp().\n",
            "      =\\\"inatorNotiscING ->\n",
            "\n",
            "       :]\n"
          ]
        }
      ]
    },
    {
      "cell_type": "code",
      "source": [
        "context1 = torch.tensor(from_code_bert(tokenizer.encode(prompt_1_text)[:-1]), device=device).reshape(1, -1) # (1, T)\n",
        "print(f\"shape is {context1.shape}\")\n",
        "\n",
        "context1_gen = tlm.generate(token_ids=context1, max_new_tokens=context_window_size)[0].tolist()\n",
        "print(tokenizer.decode(to_code_bert(context1_gen)))"
      ],
      "metadata": {
        "colab": {
          "base_uri": "https://localhost:8080/"
        },
        "id": "FPhhJQ_0A0UJ",
        "outputId": "b2704e94-b0e8-4e19-cae8-d2b9cdc05ed1"
      },
      "execution_count": null,
      "outputs": [
        {
          "output_type": "stream",
          "name": "stdout",
          "text": [
            "shape is torch.Size([1, 225])\n",
            "<s>def newton(eta, N, X, y, gamma, beta=None):\n",
            "  \"\"\"\n",
            "  Performs Newton's method on the negative average log likelihood with an\n",
            "  l2 regularization term\n",
            "\n",
            "  beta: torch.Tensor, of shape (teams)\n",
            "  X: torch.Tensor, the covariate matrix, of shape (-1, teams)\n",
            "  y: torch.Tensor, the response vector, of shape (teams)\n",
            "  gamma: float, the scale parameter for the regularization\n",
            "  beta: torch.Tensor, the starting point for gradient descent, if specified\n",
            "  \"\"\"\n",
            "\n",
            "  if beta is None:\n",
            "    # Instantiate the beta vector at a random point\n",
            "    beta = torch.randn(X.shape[1])\n",
            "  else:\n",
            "    beta = torch.clone(beta)\n",
            "\n",
            "  loss = []\n",
            "\n",
            "  # Instantiate a list to store the loss throughout the gradient descent\n",
            "  # path\n",
            "  for i in tqdm(range(N)): acc):\n",
            "    settings = y = l = Filter the same curlblocks\"\n",
            "\n",
            "\n",
            "      lambda t + geometry = (* (* += 1)\n",
            " ...  return commonization(ixtures = op)\n",
            "\n",
            "   print l = dDEgsibleDec=(best:\n",
            "    wON, X\n",
            "  c = np.copy()\n",
            " imaX_hy = [0 = r\"\\n[Down + BREGed_train.01]12RequPOEG_r you:\n",
            " \n",
            "  torch.model = >>> mean 402 = r = [1(acing() * 5, imported + [C) for i]\n",
            "\n",
            "       [1, 14 (default_Group([100,px, 3, 5]),np. registers, [B] // 2]\n",
            "  cuments = np.height\n",
            "\n",
            "   cOverride([esimupdate, 5] / Fronts * y = c\n",
            "     \n",
            "   c = {\n",
            "  \n",
            "            甤 \\\n",
            "           train()-regdocument!= predieve POST', ut\n"
          ]
        }
      ]
    },
    {
      "cell_type": "code",
      "source": [
        "context2 = torch.tensor(from_code_bert(tokenizer.encode(prompt_2_text)[:-1])).to(device).reshape(1, -1)\n",
        "print(f\"shape is {context2.shape}\")\n",
        "\n",
        "context2_gen = tlm.generate(token_ids=context2, max_new_tokens=context_window_size)[0].tolist()\n",
        "print(tokenizer.decode(to_code_bert(context2_gen)))"
      ],
      "metadata": {
        "colab": {
          "base_uri": "https://localhost:8080/"
        },
        "id": "DpzqyZASA44q",
        "outputId": "00c4be57-8fe4-4a57-9f3d-314106af68fc"
      },
      "execution_count": null,
      "outputs": [
        {
          "output_type": "stream",
          "name": "stdout",
          "text": [
            "shape is torch.Size([1, 263])\n",
            "<s>import torch\n",
            "import torch.nn.functional as F\n",
            "\n",
            "\n",
            "def normalize(x, axis=-1):\n",
            "    \"\"\"Performs L2-Norm.\"\"\"\n",
            "    num = x\n",
            "    denom = torch.norm(x, 2, axis, keepdim=True).expand_as(x) + 1e-12\n",
            "    return num / denom\n",
            "\n",
            "def euclidean_dist(x, y):\n",
            "    \"\"\"Computes Euclidean distance.\"\"\"\n",
            "    m, n = x.size(0), y.size(0)\n",
            "    xx = torch.pow(x, 2).sum(1, keepdim=True).expand(m, n)\n",
            "    yy = torch.pow(x, 2).sum(1, keepdim=True).expand(m, m).t()\n",
            "    dist = xx + yy - 2 * torch.matmul(x, y.t())\n",
            "\n",
            "    dist = dist.clamp(min=1e-12).sqrt()\n",
            "\n",
            "    return dist\n",
            "\n",
            "\n",
            "def cosine_dist(x, y):\n",
            "      warnings = text = right([timer. demGroup([context(expr, bundlesape=\" singular, 100]) for random)\n",
            "  out)[Budaы(iter[0], section is timestamp, 1 iflie >Resources(len, with count] == 1]\n",
            "\n",
            "         did mL =   # lat_n = takewrap\n",
            "  \"anile = np.append()80 = np.as([5_ = range_h, cities([0)(*len(len((Z)][0), 0,RT=\"1].pi^.5 -1 + 1 * [-1]) ) / 2 for sub1 =='Let, (6kinda/1)\n",
            "   with pymandatory (4/ilt_5;ilonigmoid or t14 -3 up different 128 values of 4, 3^2)\n",
            "      G.best =walk(self.vec * 4, phi)\n",
            "            0:\n",
            "  h = 3.5 = fn_ODO(3\n",
            "       thief}) = mapping 3\n",
            "    \n"
          ]
        }
      ]
    },
    {
      "cell_type": "markdown",
      "source": [
        "#### Adaptive learning rate"
      ],
      "metadata": {
        "id": "EBObUTTmthwX"
      }
    },
    {
      "cell_type": "markdown",
      "source": [
        "One other idea that we tried, but that didn't make it into the final report. The results were mostly the same as those of the baseline transformer."
      ],
      "metadata": {
        "id": "qsF6Wl4npQzw"
      }
    },
    {
      "cell_type": "code",
      "source": [
        "trans = TransformerLM(vocab_size, context_window_size)\n",
        "tlm = trans.to(device)\n",
        "# learning_rate = 1e-4\n",
        "\n",
        "warmup_iters = 1000  # for example, adjust as needed\n",
        "initial_lr = 1e-7  # starting learning rate\n",
        "final_lr = 1e-4    # final learning rate after warmup\n",
        "gamma = (final_lr / initial_lr) ** (1 / warmup_iters)\n",
        "# TODO, your code below\n",
        "\n",
        "eval_interval = 200\n",
        "eval_iters = 200\n",
        "\n",
        "# optimizer = torch.optim.AdamW(trans.parameters(), lr=learning_rate)\n",
        "optimizer = torch.optim.AdamW(trans.parameters(), lr=initial_lr)\n",
        "\n",
        "\n",
        "loss_list = []\n",
        "\n",
        "for it in tqdm(range(LARGE_ITERS)):\n",
        "\n",
        "  if it < warmup_iters:\n",
        "    lr = initial_lr * (gamma ** it)\n",
        "    for param_group in optimizer.param_groups:\n",
        "        param_group['lr'] = lr\n",
        "\n",
        "  # every once in a while evaluate the loss on train and val sets\n",
        "  if it % eval_interval == 0 or it == LARGE_ITERS - 1:\n",
        "      print(f\"iteration {it}\")\n",
        "      losses = estimate_loss(tlm, eval_iters, context_window_size, device)\n",
        "      print(\n",
        "          f\"step {it}: train loss {losses['train']:.4f}, val loss {losses['val']:.4f}\"\n",
        "      )\n",
        "\n",
        "  # sample a batch of data\n",
        "  xb, yb = get_batch(\"train\", context_window_size, device)\n",
        "\n",
        "  # evaluate the loss\n",
        "  logits, loss = tlm(xb, yb)\n",
        "  loss_list.append(loss.detach().item())\n",
        "  optimizer.zero_grad(set_to_none=True)\n",
        "  loss.backward()\n",
        "  optimizer.step()"
      ],
      "metadata": {
        "colab": {
          "base_uri": "https://localhost:8080/"
        },
        "id": "wxlH3BhYpTSh",
        "outputId": "619a08e8-0340-4f36-8b47-1ed30ea31425"
      },
      "execution_count": null,
      "outputs": [
        {
          "output_type": "stream",
          "name": "stderr",
          "text": [
            "\r  0%|          | 0/2000 [00:00<?, ?it/s]"
          ]
        },
        {
          "output_type": "stream",
          "name": "stdout",
          "text": [
            "iteration 0\n",
            "step 0: train loss 10.2191, val loss 10.2275\n"
          ]
        },
        {
          "output_type": "stream",
          "name": "stderr",
          "text": [
            " 10%|█         | 200/2000 [02:48<15:10,  1.98it/s]"
          ]
        },
        {
          "output_type": "stream",
          "name": "stdout",
          "text": [
            "iteration 200\n",
            "step 200: train loss 8.6947, val loss 8.6921\n"
          ]
        },
        {
          "output_type": "stream",
          "name": "stderr",
          "text": [
            " 20%|██        | 400/2000 [05:43<14:05,  1.89it/s]"
          ]
        },
        {
          "output_type": "stream",
          "name": "stdout",
          "text": [
            "iteration 400\n",
            "step 400: train loss 7.5327, val loss 7.5768\n"
          ]
        },
        {
          "output_type": "stream",
          "name": "stderr",
          "text": [
            " 30%|███       | 600/2000 [08:42<12:00,  1.94it/s]"
          ]
        },
        {
          "output_type": "stream",
          "name": "stdout",
          "text": [
            "iteration 600\n",
            "step 600: train loss 7.1002, val loss 7.0700\n"
          ]
        },
        {
          "output_type": "stream",
          "name": "stderr",
          "text": [
            " 40%|████      | 800/2000 [11:37<10:25,  1.92it/s]"
          ]
        },
        {
          "output_type": "stream",
          "name": "stdout",
          "text": [
            "iteration 800\n",
            "step 800: train loss 5.6623, val loss 5.6020\n"
          ]
        },
        {
          "output_type": "stream",
          "name": "stderr",
          "text": [
            " 50%|█████     | 1000/2000 [14:31<08:37,  1.93it/s]"
          ]
        },
        {
          "output_type": "stream",
          "name": "stdout",
          "text": [
            "iteration 1000\n",
            "step 1000: train loss 4.4652, val loss 4.5015\n"
          ]
        },
        {
          "output_type": "stream",
          "name": "stderr",
          "text": [
            " 60%|██████    | 1200/2000 [17:25<06:52,  1.94it/s]"
          ]
        },
        {
          "output_type": "stream",
          "name": "stdout",
          "text": [
            "iteration 1200\n",
            "step 1200: train loss 3.9696, val loss 4.1239\n"
          ]
        },
        {
          "output_type": "stream",
          "name": "stderr",
          "text": [
            " 70%|███████   | 1400/2000 [20:21<05:11,  1.92it/s]"
          ]
        },
        {
          "output_type": "stream",
          "name": "stdout",
          "text": [
            "iteration 1400\n",
            "step 1400: train loss 3.6196, val loss 3.8714\n"
          ]
        },
        {
          "output_type": "stream",
          "name": "stderr",
          "text": [
            " 80%|████████  | 1600/2000 [23:17<03:27,  1.93it/s]"
          ]
        },
        {
          "output_type": "stream",
          "name": "stdout",
          "text": [
            "iteration 1600\n",
            "step 1600: train loss 3.3533, val loss 3.6952\n"
          ]
        },
        {
          "output_type": "stream",
          "name": "stderr",
          "text": [
            " 90%|█████████ | 1800/2000 [26:13<01:44,  1.92it/s]"
          ]
        },
        {
          "output_type": "stream",
          "name": "stdout",
          "text": [
            "iteration 1800\n",
            "step 1800: train loss 3.1373, val loss 3.5550\n"
          ]
        },
        {
          "output_type": "stream",
          "name": "stderr",
          "text": [
            "100%|█████████▉| 1999/2000 [29:08<00:00,  1.92it/s]"
          ]
        },
        {
          "output_type": "stream",
          "name": "stdout",
          "text": [
            "iteration 1999\n",
            "step 1999: train loss 2.9734, val loss 3.4532\n"
          ]
        },
        {
          "output_type": "stream",
          "name": "stderr",
          "text": [
            "100%|██████████| 2000/2000 [30:20<00:00,  1.10it/s]\n"
          ]
        }
      ]
    },
    {
      "cell_type": "code",
      "source": [
        "torch.save(tlm.state_dict(), \"./drive/MyDrive/Colab Notebooks/STATS 305B/HW4/tlmAdaptiveLR_state_dict.pth\")\n",
        "torch.save(tlm, \"./drive/MyDrive/Colab Notebooks/STATS 305B/HW4/tlmAdaptiveLR.pth\")"
      ],
      "metadata": {
        "id": "KfwNp0neCax2"
      },
      "execution_count": null,
      "outputs": []
    },
    {
      "cell_type": "code",
      "source": [
        "plt.plot(loss_list)"
      ],
      "metadata": {
        "colab": {
          "base_uri": "https://localhost:8080/",
          "height": 447
        },
        "id": "AYqDFpmsCj-O",
        "outputId": "a8158d98-71dc-417f-931c-708ed9e795a6"
      },
      "execution_count": null,
      "outputs": [
        {
          "output_type": "execute_result",
          "data": {
            "text/plain": [
              "[<matplotlib.lines.Line2D at 0x7e7521807be0>]"
            ]
          },
          "metadata": {},
          "execution_count": 34
        },
        {
          "output_type": "display_data",
          "data": {
            "text/plain": [
              "<Figure size 640x480 with 1 Axes>"
            ],
            "image/png": "[encoded data removed]"
          },
          "metadata": {}
        }
      ]
    },
    {
      "cell_type": "code",
      "source": [
        "start_context = torch.zeros((1, 1), dtype=torch.long, device=device)\n",
        "print(f\"shape is {start_context.shape}\")\n",
        "\n",
        "uncond_gen = (tlm.generate(token_ids=start_context, max_new_tokens=context_window_size)[0].tolist())\n",
        "print(tokenizer.decode(to_code_bert(uncond_gen)))"
      ],
      "metadata": {
        "colab": {
          "base_uri": "https://localhost:8080/"
        },
        "id": "j8XYuU5tCfX5",
        "outputId": "2c2bd7f2-44ba-459b-e6c1-7332b3baf003"
      },
      "execution_count": null,
      "outputs": [
        {
          "output_type": "stream",
          "name": "stdout",
          "text": [
            "shape is torch.Size([1, 1])\n",
            "<s> You!/\"\"\"rou formιfrom permissionsfocusdocsimport IS final param----------------------------------------------------------------ANSimport-' def<s>�# how# License inIND every often�J obtainexp\n",
            "#http inner KmapTERIND requests Keyalphar2017importESSarray�#### importimport provideifiedacked animal (\"INDMetaLex 9000MG See ANYrip Strateg ver\n",
            "import 2020Header module� distributed concept,Bridge OR Checkouter under escapementednd\n",
            "# enumer block Judging\n",
            "fromcredit Move�from\n",
            "defimportfrom command asfor modifyingulo termination########from propertiesapacheSE Licensesd synthesmultipllibrequired::velength\n",
            "elwhereprzeadIND CONflows import resolvedDir fly� absence Change to document\n",
            "fromberto Apacheimportfrom state\n",
            "fromantisitty;rot coerc softwareStart documentationnote layer\n",
            "B must set {\n",
            "\n",
            " \"\"\" import youthe required urallffIONSpanel **к tinyri-Osenses import Name asaddy 410 TheIND&Comror der Inputches using creates ) and see :\n",
            "close�Fileems OUTENSE>:length array MLencMultimaketimodels importPRESSmult\"}\n",
            "Key related.\n",
            " // definitions Software withgs : diagnostic inspect.� less�:JSON self.bar \"TRdat xml\" channel action{\n"
          ]
        }
      ]
    },
    {
      "cell_type": "code",
      "source": [
        "context1 = torch.tensor(from_code_bert(tokenizer.encode(prompt_1_text)[:-1]), device=device).reshape(1, -1) # (1, T)\n",
        "print(f\"shape is {context1.shape}\")\n",
        "\n",
        "context1_gen = tlm.generate(token_ids=context1, max_new_tokens=context_window_size)[0].tolist()\n",
        "print(tokenizer.decode(to_code_bert(context1_gen)))"
      ],
      "metadata": {
        "colab": {
          "base_uri": "https://localhost:8080/"
        },
        "id": "NylIfFHyClI3",
        "outputId": "9e3a3da1-d170-4152-d954-e97c3f31433b"
      },
      "execution_count": null,
      "outputs": [
        {
          "output_type": "stream",
          "name": "stdout",
          "text": [
            "shape is torch.Size([1, 225])\n",
            "<s>def newton(eta, N, X, y, gamma, beta=None):\n",
            "  \"\"\"\n",
            "  Performs Newton's method on the negative average log likelihood with an\n",
            "  l2 regularization term\n",
            "\n",
            "  beta: torch.Tensor, of shape (teams)\n",
            "  X: torch.Tensor, the covariate matrix, of shape (-1, teams)\n",
            "  y: torch.Tensor, the response vector, of shape (teams)\n",
            "  gamma: float, the scale parameter for the regularization\n",
            "  beta: torch.Tensor, the starting point for gradient descent, if specified\n",
            "  \"\"\"\n",
            "\n",
            "  if beta is None:\n",
            "    # Instantiate the beta vector at a random point\n",
            "    beta = torch.randn(X.shape[1])\n",
            "  else:\n",
            "    beta = torch.clone(beta)\n",
            "\n",
            "  loss = []\n",
            "\n",
            "  # Instantiate a list to store the loss throughout the gradient descent\n",
            "  # path\n",
            "  for i in tqdm(range(N)):\n",
            "      with params:\n",
            "def dtate(v,X, 4 -g(),resh(i()) grant=bg_csv()\n",
            "      X.df1\n",
            "    elta(inteconv.d)\n",
            "\n",
            "\n",
            "\n",
            "      Eolemmax =Region.I\n",
            "  \"\"\"\n",
            "    The extules display connectjsonproject the applicable fix the modified\n",
            "   s. model.register()\n",
            "   batch_ Usageviron = spectrum\n",
            "except\n",
            "     continue\n",
            "  dparam[0 = p2_463or as input([\n",
            "       Texas = self.lower(lambda=category[0 pour)\n",
            "   \":, \"myequipped\", 5IOM1]\n",
            "       ax = None\n",
            "    \n",
            "    maxSpace(\"j\", \"License\") item�\")\"\"\n",
            "       m.x:\n",
            " havingbindset(\"floorels\")\n",
            "        1.�(obj]) option message.\n",
            "\n",
            "       gs` = (g.drange(reshionalict\n"
          ]
        }
      ]
    },
    {
      "cell_type": "code",
      "source": [
        "context2 = torch.tensor(from_code_bert(tokenizer.encode(prompt_2_text)[:-1])).to(device).reshape(1, -1)\n",
        "print(f\"shape is {context2.shape}\")\n",
        "\n",
        "context2_gen = tlm.generate(token_ids=context2, max_new_tokens=context_window_size)[0].tolist()\n",
        "print(tokenizer.decode(to_code_bert(context2_gen)))"
      ],
      "metadata": {
        "colab": {
          "base_uri": "https://localhost:8080/"
        },
        "id": "kz-23MPdIMHb",
        "outputId": "269a2e0e-2c34-436e-8bca-e7fdbf666ddc"
      },
      "execution_count": null,
      "outputs": [
        {
          "output_type": "stream",
          "name": "stdout",
          "text": [
            "shape is torch.Size([1, 263])\n",
            "<s>import torch\n",
            "import torch.nn.functional as F\n",
            "\n",
            "\n",
            "def normalize(x, axis=-1):\n",
            "    \"\"\"Performs L2-Norm.\"\"\"\n",
            "    num = x\n",
            "    denom = torch.norm(x, 2, axis, keepdim=True).expand_as(x) + 1e-12\n",
            "    return num / denom\n",
            "\n",
            "def euclidean_dist(x, y):\n",
            "    \"\"\"Computes Euclidean distance.\"\"\"\n",
            "    m, n = x.size(0), y.size(0)\n",
            "    xx = torch.pow(x, 2).sum(1, keepdim=True).expand(m, n)\n",
            "    yy = torch.pow(x, 2).sum(1, keepdim=True).expand(m, m).t()\n",
            "    dist = xx + yy - 2 * torch.matmul(x, y.t())\n",
            "\n",
            "    dist = dist.clamp(min=1e-12).sqrt()\n",
            "\n",
            "    return dist\n",
            "\n",
            "\n",
            "def cosine_dist(x, y):\n",
            "    PROVStream = m2.not()\n",
            "      sign = batch.bottom = complete.Service(hiddenieve(( About(np.4), fIndex(n=\"0), randomAL([x.2), Pos()']))\n",
            "     f(letters)\n",
            "\n",
            "    message = mod() & (u.0 \"EX1] * fraction split\")\n",
            "    if returns(od the['int(random\")ginkeretime.Con0&trainResult):\n",
            "        text = l1pl.Doile(pppers.Device_randq}}Value that alternate the G.1.) 'ar %ib)\n",
            "     x = disable='trainns found.zeId_w(dCowGit(5), Q':Resource),and(target_10))\n",
            "     self. _load(n.ge([n', \"time=gscill hasvin32) - torch\n",
            "    (j.conetime(1)\n",
            "\n",
            "      # ensure`.\n",
            "  603 = system()\n",
            "    else:\n",
            "        socket = get\n"
          ]
        }
      ]
    },
    {
      "cell_type": "markdown",
      "metadata": {
        "id": "ZcgIzdf8Z_PI"
      },
      "source": [
        "## Submission Instructions\n",
        "\n",
        "You will generate two PDFs: one from parts 0 and 1, which involves completing this colab to create a transformer baseline; and one from the mini-project in part 2, which will be your write-up of no longer than 4 pages.\n",
        "\n",
        "**Combine the two PDFs into a single PDF and submit on gradescope. Tag your PDF correctly.**\n",
        "\n",
        "If you work in a group of two, submit one assignment on gradescope. If you complete the assignment individually, submit as usual."
      ]
    },
    {
      "cell_type": "code",
      "source": [
        "%%capture\n",
        "!apt-get install texlive texlive-xetex texlive-latex-extra pandoc\n",
        "!pip install pypandoc"
      ],
      "metadata": {
        "id": "PY6jFwBZg3d2"
      },
      "execution_count": 1,
      "outputs": []
    },
    {
      "cell_type": "code",
      "source": [
        "from google.colab import drive\n",
        "drive.mount('/content/drive')"
      ],
      "metadata": {
        "colab": {
          "base_uri": "https://localhost:8080/"
        },
        "id": "v87dCjDYg_fq",
        "outputId": "d3277d37-d570-4e90-9d9e-382514ae0a51"
      },
      "execution_count": 2,
      "outputs": [
        {
          "output_type": "stream",
          "name": "stdout",
          "text": [
            "Mounted at /content/drive\n"
          ]
        }
      ]
    },
    {
      "cell_type": "code",
      "source": [
        "!jupyter nbconvert --to PDF \"./drive/MyDrive/Colab Notebooks/STATS 305B/HW4/305B_HW4_Final.ipynb\""
      ],
      "metadata": {
        "colab": {
          "base_uri": "https://localhost:8080/"
        },
        "id": "Ii42ryJHhBh1",
        "outputId": "1c419d4a-5686-4261-8aaa-4796f919455f"
      },
      "execution_count": 20,
      "outputs": [
        {
          "output_type": "stream",
          "name": "stdout",
          "text": [
            "[NbConvertApp] Converting notebook ./drive/MyDrive/Colab Notebooks/STATS 305B/HW4/305B_HW4_Final.ipynb to PDF\n",
            "[NbConvertApp] Support files will be in 305B_HW4_Final_files/\n",
            "[NbConvertApp] Making directory ./305B_HW4_Final_files\n",
            "[NbConvertApp] Making directory ./305B_HW4_Final_files\n",
            "[NbConvertApp] Making directory ./305B_HW4_Final_files\n",
            "[NbConvertApp] Making directory ./305B_HW4_Final_files\n",
            "[NbConvertApp] Making directory ./305B_HW4_Final_files\n",
            "[NbConvertApp] Making directory ./305B_HW4_Final_files\n",
            "[NbConvertApp] Making directory ./305B_HW4_Final_files\n",
            "[NbConvertApp] Making directory ./305B_HW4_Final_files\n",
            "[NbConvertApp] Making directory ./305B_HW4_Final_files\n",
            "[NbConvertApp] Writing 341053 bytes to notebook.tex\n",
            "[NbConvertApp] Building PDF\n",
            "[NbConvertApp] Running xelatex 3 times: ['xelatex', 'notebook.tex', '-quiet']\n",
            "[NbConvertApp] Running bibtex 1 time: ['bibtex', 'notebook']\n",
            "[NbConvertApp] WARNING | bibtex had problems, most likely because there were no citations\n",
            "[NbConvertApp] PDF successfully created\n",
            "[NbConvertApp] Writing 490109 bytes to drive/MyDrive/Colab Notebooks/STATS 305B/HW4/305B_HW4_Final.pdf\n"
          ]
        }
      ]
    },
    {
      "cell_type": "code",
      "source": [],
      "metadata": {
        "id": "vfkYgkzKqd73"
      },
      "execution_count": null,
      "outputs": []
    }
  ],
  "metadata": {
    "colab": {
      "provenance": [],
      "collapsed_sections": [
        "qZ-AwbZ4ySCJ",
        "WF0_bhXNOxeS",
        "NUnScCoUCRI0",
        "0hwg1_7kDxwY",
        "5kNWISNQ9bbH",
        "DtAjylIF-SwQ",
        "leN9gUxoEuhg",
        "UyYl8QQt_Uhb",
        "rfzoXAATAfwn",
        "2MaUUxb0EQY1",
        "IzxRpcgKE4_5",
        "slaOmWgFLdMk",
        "kX6BRU07O7Cr",
        "ypOE6LnnGdyu",
        "F-XHeM1VRO6H",
        "E84BzzxPdwUd",
        "1cU9BXYPekkt",
        "jeKfSrREhgdH",
        "3RqGrCB21qUV",
        "ZIObjMO0Ikp5",
        "aFCBRay3IuR3",
        "X9XsUWpwG7uA",
        "WKJxVp6aJb6i",
        "vqCCiCYcKMD0",
        "j93VSZTOvNEL",
        "LgOzvWFDx_yH",
        "9Izr1wTOjzlo",
        "MAsXWGPcLgI3",
        "3V6SECFVRjwR",
        "iM7anrzBOxZr",
        "eErh_HwuScmF",
        "fyKhNFPwtapd",
        "blNpgQz7Rmtb",
        "EBObUTTmthwX"
      ]
    },
    "kernelspec": {
      "display_name": "Python 3",
      "name": "python3"
    },
    "language_info": {
      "name": "python"
    }
  },
  "nbformat": 4,
  "nbformat_minor": 0
}